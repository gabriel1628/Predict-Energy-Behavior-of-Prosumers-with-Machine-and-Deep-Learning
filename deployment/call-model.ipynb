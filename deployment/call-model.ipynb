{
 "cells": [
  {
   "cell_type": "code",
   "execution_count": 222,
   "metadata": {},
   "outputs": [],
   "source": [
    "import requests\n",
    "import json\n",
    "\n",
    "# address = \"127.0.0.1\"\n",
    "# address = \"3.252.192.81\"\n",
    "address = \"ec2-54-228-144-127.eu-west-1.compute.amazonaws.com\"\n",
    "port = 5000\n",
    "endpoint = \"api/predict\"\n"
   ]
  },
  {
   "cell_type": "code",
   "execution_count": 223,
   "metadata": {},
   "outputs": [
    {
     "name": "stdout",
     "output_type": "stream",
     "text": [
      "<Response [200]>\n",
      "Welcome to the homepage ! To get your energy forecasts, send your data to the /predict endpoint\n"
     ]
    }
   ],
   "source": [
    "url = f\"http://{address}:{port}/\"\n",
    "r = requests.get(url)\n",
    "print(r)\n",
    "print(r.text)"
   ]
  },
  {
   "cell_type": "code",
   "execution_count": 224,
   "metadata": {},
   "outputs": [
    {
     "data": {
      "text/plain": [
       "<Response [200]>"
      ]
     },
     "execution_count": 224,
     "metadata": {},
     "output_type": "execute_result"
    }
   ],
   "source": [
    "with open(\"./data_json_mlforecast.json\", \"r\") as f:\n",
    "  data_json = json.load(f)\n",
    "\n",
    "url = f\"http://{address}:{port}/{endpoint}\"\n",
    "r = requests.post(url, headers={\"Content-Type\": \"application/json\"}, json=data_json)\n",
    "r"
   ]
  },
  {
   "cell_type": "code",
   "execution_count": 225,
   "metadata": {},
   "outputs": [
    {
     "name": "stdout",
     "output_type": "stream",
     "text": [
      "{\n",
      "    \"predictions\": [\n",
      "        {\n",
      "            \"building_id\": 0,\n",
      "            \"datetime\": \"2023-04-02 01:00:00\",\n",
      "            \"forecasts\": [\n",
      "                922.1976036213131,\n",
      "                932.5123610370592,\n",
      "                931.3136118408446,\n",
      "                931.8626423393976,\n",
      "                933.6663574538877,\n",
      "                904.9021517636521,\n",
      "                848.4160493733832,\n",
      "                718.1604980591101,\n",
      "                585.8916252077718,\n",
      "                471.4598847224826,\n",
      "                363.03707176313384,\n",
      "                321.75121793802043,\n",
      "                315.6114474026614,\n",
      "                312.5721677303937,\n",
      "                339.64221853337955,\n",
      "                416.8970230630121,\n",
      "                549.0978898258145,\n",
      "                699.4542516902336,\n",
      "                845.9908312347918,\n",
      "                964.3835680151163,\n",
      "                1002.1501024082327,\n",
      "                962.7871234020001,\n",
      "                957.7852479536697,\n",
      "                944.9739651173605\n",
      "            ]\n",
      "      \n"
     ]
    }
   ],
   "source": [
    "print(r.json()[:1000])"
   ]
  },
  {
   "cell_type": "code",
   "execution_count": null,
   "metadata": {},
   "outputs": [],
   "source": []
  }
 ],
 "metadata": {
  "kernelspec": {
   "display_name": ".venv",
   "language": "python",
   "name": "python3"
  },
  "language_info": {
   "codemirror_mode": {
    "name": "ipython",
    "version": 3
   },
   "file_extension": ".py",
   "mimetype": "text/x-python",
   "name": "python",
   "nbconvert_exporter": "python",
   "pygments_lexer": "ipython3",
   "version": "3.11.7"
  }
 },
 "nbformat": 4,
 "nbformat_minor": 2
}
