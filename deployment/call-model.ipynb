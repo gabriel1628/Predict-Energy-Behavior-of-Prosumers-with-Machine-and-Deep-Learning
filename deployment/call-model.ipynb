{
 "cells": [
  {
   "cell_type": "code",
   "execution_count": 16,
   "metadata": {},
   "outputs": [],
   "source": [
    "import requests\n",
    "import json\n",
    "\n",
    "# address = \"127.0.0.1\"\n",
    "# address = \"3.252.192.81\"\n",
    "address = \"ec2-3-252-192-81.eu-west-1.compute.amazonaws.com\"\n",
    "port = 5000\n",
    "endpoint = \"predict\"\n"
   ]
  },
  {
   "cell_type": "code",
   "execution_count": 17,
   "metadata": {},
   "outputs": [
    {
     "name": "stdout",
     "output_type": "stream",
     "text": [
      "<Response [200]>\n",
      "Welcome to the homepage ! To get your energy forecasts, send your data to the /predict endpoint\n"
     ]
    }
   ],
   "source": [
    "url = f\"http://{address}:{port}/\"\n",
    "r = requests.get(url)\n",
    "print(r)\n",
    "print(r.text)"
   ]
  },
  {
   "cell_type": "code",
   "execution_count": 18,
   "metadata": {},
   "outputs": [
    {
     "data": {
      "text/plain": [
       "<Response [200]>"
      ]
     },
     "execution_count": 18,
     "metadata": {},
     "output_type": "execute_result"
    }
   ],
   "source": [
    "with open(\"./data_json_small.json\", \"r\") as f:\n",
    "  data_json = json.load(f)\n",
    "\n",
    "url = f\"http://{address}:{port}/{endpoint}\"\n",
    "r = requests.post(url, headers={\"Content-Type\": \"application/json\"}, json=data_json)\n",
    "r"
   ]
  },
  {
   "cell_type": "code",
   "execution_count": 19,
   "metadata": {},
   "outputs": [
    {
     "name": "stdout",
     "output_type": "stream",
     "text": [
      "{\n",
      "    \"predictions\": [\n",
      "        {\n",
      "            \"building_id\": 26,\n",
      "            \"datetime\": \"2023-03-28 02:00:00\",\n",
      "            \"forecasts\": [\n",
      "                6.33646898,\n",
      "                7.7977815153\n",
      "            ]\n",
      "        }\n",
      "    ]\n",
      "}\n"
     ]
    }
   ],
   "source": [
    "print(r.json()[:500])"
   ]
  },
  {
   "cell_type": "code",
   "execution_count": null,
   "metadata": {},
   "outputs": [],
   "source": []
  }
 ],
 "metadata": {
  "kernelspec": {
   "display_name": ".venv",
   "language": "python",
   "name": "python3"
  },
  "language_info": {
   "codemirror_mode": {
    "name": "ipython",
    "version": 3
   },
   "file_extension": ".py",
   "mimetype": "text/x-python",
   "name": "python",
   "nbconvert_exporter": "python",
   "pygments_lexer": "ipython3",
   "version": "3.11.7"
  }
 },
 "nbformat": 4,
 "nbformat_minor": 2
}
