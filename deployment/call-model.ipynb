{
 "cells": [
  {
   "cell_type": "code",
   "execution_count": 63,
   "metadata": {},
   "outputs": [],
   "source": [
    "import requests\n",
    "import json\n",
    "\n",
    "with open(\"./data_json_small.json\", \"r\") as f:\n",
    "  data_json = json.load(f)\n",
    "\n",
    "ip = \"127.0.0.1\"\n",
    "# ip = \"54.229.163.14\"\n",
    "port = 5000\n",
    "endpoint = \"predict\"\n"
   ]
  },
  {
   "cell_type": "code",
   "execution_count": 64,
   "metadata": {},
   "outputs": [
    {
     "name": "stdout",
     "output_type": "stream",
     "text": [
      "<Response [200]>\n",
      "Welcome to the homepage ! To get your energy forecasts, send your data to the /predict endpoint\n"
     ]
    }
   ],
   "source": [
    "url = f\"http://{ip}:{port}/\"\n",
    "r = requests.get(url)\n",
    "print(r)\n",
    "print(r.text)"
   ]
  },
  {
   "cell_type": "code",
   "execution_count": 65,
   "metadata": {},
   "outputs": [
    {
     "data": {
      "text/plain": [
       "<Response [200]>"
      ]
     },
     "execution_count": 65,
     "metadata": {},
     "output_type": "execute_result"
    }
   ],
   "source": [
    "url = f\"http://{ip}:{port}/{endpoint}\"\n",
    "r = requests.post(url, headers={\"Content-Type\": \"application/json\"}, json=data_json)\n",
    "r"
   ]
  },
  {
   "cell_type": "code",
   "execution_count": 66,
   "metadata": {},
   "outputs": [
    {
     "name": "stdout",
     "output_type": "stream",
     "text": [
      "{\n",
      "    \"prediction\": [\n",
      "        {\n",
      "            \"unique_id\": 26,\n",
      "            \"ds\": \"2023-03-28 02:00:00\",\n",
      "            \"lead1\": 6.33646898,\n",
      "            \"lead2\": 7.7977815153\n",
      "        }\n",
      "    ]\n",
      "}\n"
     ]
    }
   ],
   "source": [
    "print(r.json()[:500])"
   ]
  },
  {
   "cell_type": "code",
   "execution_count": null,
   "metadata": {},
   "outputs": [],
   "source": []
  }
 ],
 "metadata": {
  "kernelspec": {
   "display_name": ".venv",
   "language": "python",
   "name": "python3"
  },
  "language_info": {
   "codemirror_mode": {
    "name": "ipython",
    "version": 3
   },
   "file_extension": ".py",
   "mimetype": "text/x-python",
   "name": "python",
   "nbconvert_exporter": "python",
   "pygments_lexer": "ipython3",
   "version": "3.10.14"
  }
 },
 "nbformat": 4,
 "nbformat_minor": 2
}
