{
 "cells": [
  {
   "cell_type": "code",
   "execution_count": 19,
   "metadata": {},
   "outputs": [
    {
     "data": {
      "text/plain": [
       "<Response [200]>"
      ]
     },
     "execution_count": 19,
     "metadata": {},
     "output_type": "execute_result"
    }
   ],
   "source": [
    "import requests\n",
    "import json\n",
    "\n",
    "with open('./data_json_test.json', 'r') as f:\n",
    "  data_json = json.load(f)\n",
    "  \n",
    "url = 'http://localhost:5000/'\n",
    "r = requests.post(url, json=data_json)\n",
    "r"
   ]
  },
  {
   "cell_type": "code",
   "execution_count": 20,
   "metadata": {},
   "outputs": [
    {
     "name": "stdout",
     "output_type": "stream",
     "text": [
      "{\n",
      "    \"prediction\": [\n",
      "        {\n",
      "            \"unique_id\": 26,\n",
      "            \"ds\": \"2023-03-28 02:00:00\",\n",
      "            \"lead1\": 6.33646898,\n",
      "            \"lead2\": 7.7977815153\n",
      "        },\n",
      "        {\n",
      "            \"unique_id\": 41,\n",
      "            \"ds\": \"2023-05-14 02:00:00\",\n",
      "            \"lead1\": 198.3897713509,\n",
      "            \"lead2\": 200.1795218704\n",
      "        },\n",
      "        {\n",
      "            \"unique_id\": 47,\n",
      "            \"ds\": \"2023-05-23 02:00:00\",\n",
      "            \"lead1\": 5.9602107913,\n",
      "            \"lead2\": 7.3122255159\n",
      "       \n"
     ]
    }
   ],
   "source": [
    "print(r.json()[:500])"
   ]
  },
  {
   "cell_type": "code",
   "execution_count": null,
   "metadata": {},
   "outputs": [],
   "source": []
  }
 ],
 "metadata": {
  "kernelspec": {
   "display_name": ".venv",
   "language": "python",
   "name": "python3"
  },
  "language_info": {
   "codemirror_mode": {
    "name": "ipython",
    "version": 3
   },
   "file_extension": ".py",
   "mimetype": "text/x-python",
   "name": "python",
   "nbconvert_exporter": "python",
   "pygments_lexer": "ipython3",
   "version": "3.11.7"
  }
 },
 "nbformat": 4,
 "nbformat_minor": 2
}
