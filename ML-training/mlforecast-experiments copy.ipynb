{
 "cells": [
  {
   "cell_type": "code",
   "execution_count": 231,
   "id": "4f651ddd-cdb6-492f-b0e8-56bd5a28e0f2",
   "metadata": {
    "tags": []
   },
   "outputs": [],
   "source": [
    "# !pip install mlforecast lightgbm -q"
   ]
  },
  {
   "cell_type": "code",
   "execution_count": 232,
   "id": "feef1e39-7751-4b15-86c6-606aab9b650b",
   "metadata": {
    "tags": []
   },
   "outputs": [],
   "source": [
    "import numpy as np\n",
    "import pandas as pd\n",
    "\n",
    "import seaborn as sns\n",
    "import matplotlib.pyplot as plt\n",
    "\n",
    "sns.set_theme()\n",
    "\n",
    "from lightgbm import LGBMRegressor\n",
    "\n",
    "from sklearn.pipeline import make_pipeline\n",
    "from sklearn.preprocessing import MaxAbsScaler\n",
    "from sklearn.compose import ColumnTransformer\n",
    "from sklearn.preprocessing import OneHotEncoder\n",
    "from sklearn.linear_model import Ridge\n",
    "from sklearn.model_selection import TimeSeriesSplit, RandomizedSearchCV\n",
    "from scipy.stats import uniform, loguniform, randint\n",
    "\n",
    "import optuna\n",
    "\n",
    "from mlforecast import MLForecast\n",
    "from mlforecast.lag_transforms import (\n",
    "    ExpandingMean,\n",
    "    RollingMean,\n",
    "    ExponentiallyWeightedMean,\n",
    ")\n",
    "from mlforecast.target_transforms import Differences\n",
    "from mlforecast.auto import (\n",
    "    AutoLightGBM,\n",
    "    AutoMLForecast,\n",
    "    AutoModel,\n",
    "    AutoRidge,\n",
    "    ridge_space,\n",
    ")\n",
    "\n",
    "from functools import partial\n",
    "from utilsforecast.evaluation import evaluate\n",
    "from utilsforecast.losses import mape, mase, mae, rmse\n",
    "\n",
    "import time\n",
    "import datetime"
   ]
  },
  {
   "cell_type": "code",
   "execution_count": 233,
   "id": "c5dce735-7960-457d-9055-496a828fef53",
   "metadata": {
    "tags": []
   },
   "outputs": [],
   "source": [
    "forecast_horizon = 24"
   ]
  },
  {
   "cell_type": "markdown",
   "id": "f58f9e9b",
   "metadata": {},
   "source": [
    "# Import Data"
   ]
  },
  {
   "cell_type": "code",
   "execution_count": 234,
   "id": "63fc7067",
   "metadata": {
    "tags": []
   },
   "outputs": [
    {
     "data": {
      "text/html": [
       "<div>\n",
       "<style scoped>\n",
       "    .dataframe tbody tr th:only-of-type {\n",
       "        vertical-align: middle;\n",
       "    }\n",
       "\n",
       "    .dataframe tbody tr th {\n",
       "        vertical-align: top;\n",
       "    }\n",
       "\n",
       "    .dataframe thead th {\n",
       "        text-align: right;\n",
       "    }\n",
       "</style>\n",
       "<table border=\"1\" class=\"dataframe\">\n",
       "  <thead>\n",
       "    <tr style=\"text-align: right;\">\n",
       "      <th></th>\n",
       "      <th>unique_id</th>\n",
       "      <th>ds</th>\n",
       "      <th>y</th>\n",
       "    </tr>\n",
       "  </thead>\n",
       "  <tbody>\n",
       "    <tr>\n",
       "      <th>0</th>\n",
       "      <td>0</td>\n",
       "      <td>2021-09-01</td>\n",
       "      <td>96.590</td>\n",
       "    </tr>\n",
       "    <tr>\n",
       "      <th>1</th>\n",
       "      <td>1</td>\n",
       "      <td>2021-09-01</td>\n",
       "      <td>17.314</td>\n",
       "    </tr>\n",
       "    <tr>\n",
       "      <th>2</th>\n",
       "      <td>2</td>\n",
       "      <td>2021-09-01</td>\n",
       "      <td>656.859</td>\n",
       "    </tr>\n",
       "    <tr>\n",
       "      <th>3</th>\n",
       "      <td>3</td>\n",
       "      <td>2021-09-01</td>\n",
       "      <td>59.000</td>\n",
       "    </tr>\n",
       "    <tr>\n",
       "      <th>4</th>\n",
       "      <td>4</td>\n",
       "      <td>2021-09-01</td>\n",
       "      <td>501.760</td>\n",
       "    </tr>\n",
       "  </tbody>\n",
       "</table>\n",
       "</div>"
      ],
      "text/plain": [
       "   unique_id         ds        y\n",
       "0          0 2021-09-01   96.590\n",
       "1          1 2021-09-01   17.314\n",
       "2          2 2021-09-01  656.859\n",
       "3          3 2021-09-01   59.000\n",
       "4          4 2021-09-01  501.760"
      ]
     },
     "execution_count": 234,
     "metadata": {},
     "output_type": "execute_result"
    }
   ],
   "source": [
    "df = pd.read_csv(\n",
    "    \"../data/consumption.csv\", usecols=[\"prediction_unit_id\", \"datetime\", \"target\"]\n",
    ")[[\"prediction_unit_id\", \"datetime\", \"target\"]].rename(\n",
    "    columns={\"prediction_unit_id\": \"unique_id\", \"datetime\": \"ds\", \"target\": \"y\"}\n",
    ")\n",
    "df[\"ds\"] = pd.to_datetime(df[\"ds\"])\n",
    "df.head()"
   ]
  },
  {
   "cell_type": "code",
   "execution_count": 235,
   "id": "98d06ef7",
   "metadata": {},
   "outputs": [
    {
     "data": {
      "text/plain": [
       "(1009176, 3)"
      ]
     },
     "execution_count": 235,
     "metadata": {},
     "output_type": "execute_result"
    }
   ],
   "source": [
    "df.shape"
   ]
  },
  {
   "cell_type": "code",
   "execution_count": 236,
   "id": "61e1196f",
   "metadata": {
    "tags": []
   },
   "outputs": [
    {
     "data": {
      "text/plain": [
       "unique_id    0\n",
       "ds           0\n",
       "y            0\n",
       "dtype: int64"
      ]
     },
     "execution_count": 236,
     "metadata": {},
     "output_type": "execute_result"
    }
   ],
   "source": [
    "df[\"y\"] = df[\"y\"].ffill()\n",
    "df.isna().sum()"
   ]
  },
  {
   "cell_type": "markdown",
   "id": "788804bd",
   "metadata": {},
   "source": [
    "# Train/Test split"
   ]
  },
  {
   "cell_type": "code",
   "execution_count": 237,
   "id": "9a32c089",
   "metadata": {
    "tags": []
   },
   "outputs": [
    {
     "name": "stdout",
     "output_type": "stream",
     "text": [
      "(99360, 3)\n"
     ]
    },
    {
     "data": {
      "text/html": [
       "<div>\n",
       "<style scoped>\n",
       "    .dataframe tbody tr th:only-of-type {\n",
       "        vertical-align: middle;\n",
       "    }\n",
       "\n",
       "    .dataframe tbody tr th {\n",
       "        vertical-align: top;\n",
       "    }\n",
       "\n",
       "    .dataframe thead th {\n",
       "        text-align: right;\n",
       "    }\n",
       "</style>\n",
       "<table border=\"1\" class=\"dataframe\">\n",
       "  <thead>\n",
       "    <tr style=\"text-align: right;\">\n",
       "      <th></th>\n",
       "      <th>unique_id</th>\n",
       "      <th>ds</th>\n",
       "      <th>y</th>\n",
       "    </tr>\n",
       "  </thead>\n",
       "  <tbody>\n",
       "    <tr>\n",
       "      <th>684254</th>\n",
       "      <td>68</td>\n",
       "      <td>2022-11-10 00:00:00</td>\n",
       "      <td>28.124</td>\n",
       "    </tr>\n",
       "    <tr>\n",
       "      <th>684323</th>\n",
       "      <td>68</td>\n",
       "      <td>2022-11-10 01:00:00</td>\n",
       "      <td>28.020</td>\n",
       "    </tr>\n",
       "    <tr>\n",
       "      <th>684392</th>\n",
       "      <td>68</td>\n",
       "      <td>2022-11-10 02:00:00</td>\n",
       "      <td>28.741</td>\n",
       "    </tr>\n",
       "    <tr>\n",
       "      <th>684461</th>\n",
       "      <td>68</td>\n",
       "      <td>2022-11-10 03:00:00</td>\n",
       "      <td>31.947</td>\n",
       "    </tr>\n",
       "    <tr>\n",
       "      <th>684530</th>\n",
       "      <td>68</td>\n",
       "      <td>2022-11-10 04:00:00</td>\n",
       "      <td>36.197</td>\n",
       "    </tr>\n",
       "  </tbody>\n",
       "</table>\n",
       "</div>"
      ],
      "text/plain": [
       "        unique_id                  ds       y\n",
       "684254         68 2022-11-10 00:00:00  28.124\n",
       "684323         68 2022-11-10 01:00:00  28.020\n",
       "684392         68 2022-11-10 02:00:00  28.741\n",
       "684461         68 2022-11-10 03:00:00  31.947\n",
       "684530         68 2022-11-10 04:00:00  36.197"
      ]
     },
     "execution_count": 237,
     "metadata": {},
     "output_type": "execute_result"
    }
   ],
   "source": [
    "# taking the last 60 days for test\n",
    "test_duration = 24 * 60\n",
    "for i in df[\"unique_id\"].unique():\n",
    "    if i == df[\"unique_id\"].unique()[0]:\n",
    "        df_test = df[df[\"unique_id\"]==i][-test_duration:]\n",
    "        continue\n",
    "    df_test = pd.concat([df_test, df[df[\"unique_id\"]==i][-test_duration:]])\n",
    "    \n",
    "df_test.sort_index(inplace=True)\n",
    "print(df_test.shape)\n",
    "df_test.head()"
   ]
  },
  {
   "cell_type": "code",
   "execution_count": 238,
   "id": "5e5c8fdc",
   "metadata": {
    "tags": []
   },
   "outputs": [
    {
     "data": {
      "text/html": [
       "<div>\n",
       "<style scoped>\n",
       "    .dataframe tbody tr th:only-of-type {\n",
       "        vertical-align: middle;\n",
       "    }\n",
       "\n",
       "    .dataframe tbody tr th {\n",
       "        vertical-align: top;\n",
       "    }\n",
       "\n",
       "    .dataframe thead th {\n",
       "        text-align: right;\n",
       "    }\n",
       "</style>\n",
       "<table border=\"1\" class=\"dataframe\">\n",
       "  <thead>\n",
       "    <tr style=\"text-align: right;\">\n",
       "      <th></th>\n",
       "      <th>unique_id</th>\n",
       "      <th>ds</th>\n",
       "      <th>y</th>\n",
       "    </tr>\n",
       "  </thead>\n",
       "  <tbody>\n",
       "    <tr>\n",
       "      <th>0</th>\n",
       "      <td>0</td>\n",
       "      <td>2021-09-01</td>\n",
       "      <td>96.590</td>\n",
       "    </tr>\n",
       "    <tr>\n",
       "      <th>1</th>\n",
       "      <td>1</td>\n",
       "      <td>2021-09-01</td>\n",
       "      <td>17.314</td>\n",
       "    </tr>\n",
       "    <tr>\n",
       "      <th>2</th>\n",
       "      <td>2</td>\n",
       "      <td>2021-09-01</td>\n",
       "      <td>656.859</td>\n",
       "    </tr>\n",
       "    <tr>\n",
       "      <th>3</th>\n",
       "      <td>3</td>\n",
       "      <td>2021-09-01</td>\n",
       "      <td>59.000</td>\n",
       "    </tr>\n",
       "    <tr>\n",
       "      <th>4</th>\n",
       "      <td>4</td>\n",
       "      <td>2021-09-01</td>\n",
       "      <td>501.760</td>\n",
       "    </tr>\n",
       "  </tbody>\n",
       "</table>\n",
       "</div>"
      ],
      "text/plain": [
       "   unique_id         ds        y\n",
       "0          0 2021-09-01   96.590\n",
       "1          1 2021-09-01   17.314\n",
       "2          2 2021-09-01  656.859\n",
       "3          3 2021-09-01   59.000\n",
       "4          4 2021-09-01  501.760"
      ]
     },
     "execution_count": 238,
     "metadata": {},
     "output_type": "execute_result"
    }
   ],
   "source": [
    "train_idx = [idx for idx in df.index if idx not in df_test.index]\n",
    "df_train = df.loc[train_idx]\n",
    "df_train.shape\n",
    "df_train.head()"
   ]
  },
  {
   "cell_type": "code",
   "execution_count": 239,
   "id": "30a8ad38",
   "metadata": {
    "tags": []
   },
   "outputs": [
    {
     "data": {
      "text/plain": [
       "True"
      ]
     },
     "execution_count": 239,
     "metadata": {},
     "output_type": "execute_result"
    }
   ],
   "source": [
    "df.shape[0] == df_train.shape[0] + df_test.shape[0]"
   ]
  },
  {
   "cell_type": "code",
   "execution_count": 240,
   "id": "c0a86675",
   "metadata": {
    "tags": []
   },
   "outputs": [
    {
     "data": {
      "text/plain": [
       "True"
      ]
     },
     "execution_count": 240,
     "metadata": {},
     "output_type": "execute_result"
    }
   ],
   "source": [
    "df.shape[1] == df_train.shape[1] == df_test.shape[1]"
   ]
  },
  {
   "cell_type": "code",
   "execution_count": 241,
   "id": "09dfdfc8-150a-4d1f-b4d9-9fe6b9728846",
   "metadata": {
    "tags": []
   },
   "outputs": [
    {
     "name": "stdout",
     "output_type": "stream",
     "text": [
      "test size : 9.80%\n"
     ]
    }
   ],
   "source": [
    "test_size = df_test.shape[0] / (df_train.shape[0] + df_test.shape[0])\n",
    "print(f\"test size : {round(test_size, 3)*100}0%\")"
   ]
  },
  {
   "cell_type": "markdown",
   "id": "b1bb5215",
   "metadata": {},
   "source": [
    "# Preprocessing"
   ]
  },
  {
   "cell_type": "code",
   "execution_count": 242,
   "id": "ae65699a",
   "metadata": {},
   "outputs": [
    {
     "name": "stdout",
     "output_type": "stream",
     "text": [
      "(904917, 55) (904917,)\n"
     ]
    },
    {
     "data": {
      "text/html": [
       "<div>\n",
       "<style scoped>\n",
       "    .dataframe tbody tr th:only-of-type {\n",
       "        vertical-align: middle;\n",
       "    }\n",
       "\n",
       "    .dataframe tbody tr th {\n",
       "        vertical-align: top;\n",
       "    }\n",
       "\n",
       "    .dataframe thead th {\n",
       "        text-align: right;\n",
       "    }\n",
       "</style>\n",
       "<table border=\"1\" class=\"dataframe\">\n",
       "  <thead>\n",
       "    <tr style=\"text-align: right;\">\n",
       "      <th></th>\n",
       "      <th>unique_id</th>\n",
       "      <th>ds</th>\n",
       "      <th>lag0</th>\n",
       "      <th>lag1</th>\n",
       "      <th>lag2</th>\n",
       "      <th>lag3</th>\n",
       "      <th>lag4</th>\n",
       "      <th>lag5</th>\n",
       "      <th>lag6</th>\n",
       "      <th>lag7</th>\n",
       "      <th>...</th>\n",
       "      <th>lag43</th>\n",
       "      <th>lag44</th>\n",
       "      <th>lag45</th>\n",
       "      <th>lag46</th>\n",
       "      <th>lag47</th>\n",
       "      <th>rolling_mean_lag1_window_size24</th>\n",
       "      <th>rolling_mean_lag24_window_size24</th>\n",
       "      <th>month</th>\n",
       "      <th>dayofweek</th>\n",
       "      <th>hour</th>\n",
       "    </tr>\n",
       "  </thead>\n",
       "  <tbody>\n",
       "    <tr>\n",
       "      <th>2867</th>\n",
       "      <td>0</td>\n",
       "      <td>2021-09-02 23:00:00</td>\n",
       "      <td>120.540</td>\n",
       "      <td>134.986</td>\n",
       "      <td>150.412</td>\n",
       "      <td>152.763</td>\n",
       "      <td>136.130</td>\n",
       "      <td>121.033</td>\n",
       "      <td>80.621</td>\n",
       "      <td>43.428</td>\n",
       "      <td>...</td>\n",
       "      <td>88.184</td>\n",
       "      <td>87.955</td>\n",
       "      <td>91.594</td>\n",
       "      <td>77.691</td>\n",
       "      <td>96.590</td>\n",
       "      <td>87.588333</td>\n",
       "      <td>79.969750</td>\n",
       "      <td>9</td>\n",
       "      <td>3</td>\n",
       "      <td>23</td>\n",
       "    </tr>\n",
       "    <tr>\n",
       "      <th>2868</th>\n",
       "      <td>1</td>\n",
       "      <td>2021-09-02 23:00:00</td>\n",
       "      <td>19.430</td>\n",
       "      <td>21.577</td>\n",
       "      <td>24.309</td>\n",
       "      <td>27.201</td>\n",
       "      <td>25.419</td>\n",
       "      <td>18.060</td>\n",
       "      <td>16.228</td>\n",
       "      <td>10.614</td>\n",
       "      <td>...</td>\n",
       "      <td>18.225</td>\n",
       "      <td>14.271</td>\n",
       "      <td>16.510</td>\n",
       "      <td>15.872</td>\n",
       "      <td>17.314</td>\n",
       "      <td>15.725333</td>\n",
       "      <td>15.106667</td>\n",
       "      <td>9</td>\n",
       "      <td>3</td>\n",
       "      <td>23</td>\n",
       "    </tr>\n",
       "    <tr>\n",
       "      <th>2869</th>\n",
       "      <td>2</td>\n",
       "      <td>2021-09-02 23:00:00</td>\n",
       "      <td>748.504</td>\n",
       "      <td>920.535</td>\n",
       "      <td>1000.499</td>\n",
       "      <td>988.047</td>\n",
       "      <td>877.168</td>\n",
       "      <td>656.989</td>\n",
       "      <td>489.864</td>\n",
       "      <td>278.374</td>\n",
       "      <td>...</td>\n",
       "      <td>607.308</td>\n",
       "      <td>622.824</td>\n",
       "      <td>598.450</td>\n",
       "      <td>595.498</td>\n",
       "      <td>656.859</td>\n",
       "      <td>556.726667</td>\n",
       "      <td>497.720500</td>\n",
       "      <td>9</td>\n",
       "      <td>3</td>\n",
       "      <td>23</td>\n",
       "    </tr>\n",
       "  </tbody>\n",
       "</table>\n",
       "<p>3 rows × 55 columns</p>\n",
       "</div>"
      ],
      "text/plain": [
       "      unique_id                  ds     lag0     lag1      lag2     lag3  \\\n",
       "2867          0 2021-09-02 23:00:00  120.540  134.986   150.412  152.763   \n",
       "2868          1 2021-09-02 23:00:00   19.430   21.577    24.309   27.201   \n",
       "2869          2 2021-09-02 23:00:00  748.504  920.535  1000.499  988.047   \n",
       "\n",
       "         lag4     lag5     lag6     lag7  ...    lag43    lag44    lag45  \\\n",
       "2867  136.130  121.033   80.621   43.428  ...   88.184   87.955   91.594   \n",
       "2868   25.419   18.060   16.228   10.614  ...   18.225   14.271   16.510   \n",
       "2869  877.168  656.989  489.864  278.374  ...  607.308  622.824  598.450   \n",
       "\n",
       "        lag46    lag47  rolling_mean_lag1_window_size24  \\\n",
       "2867   77.691   96.590                        87.588333   \n",
       "2868   15.872   17.314                        15.725333   \n",
       "2869  595.498  656.859                       556.726667   \n",
       "\n",
       "      rolling_mean_lag24_window_size24  month  dayofweek  hour  \n",
       "2867                         79.969750      9          3    23  \n",
       "2868                         15.106667      9          3    23  \n",
       "2869                        497.720500      9          3    23  \n",
       "\n",
       "[3 rows x 55 columns]"
      ]
     },
     "execution_count": 242,
     "metadata": {},
     "output_type": "execute_result"
    }
   ],
   "source": [
    "fcst = MLForecast(\n",
    "    models=[],\n",
    "    freq=\"h\",\n",
    "    # target_transforms=[Differences([24])],\n",
    "    lags=[i + 1 for i in range(47)],\n",
    "    lag_transforms={\n",
    "        1: [ExpandingMean()],\n",
    "        1: [RollingMean(window_size=24)],\n",
    "        24: [RollingMean(window_size=24)],\n",
    "        # 24: [RollingMean(window_size=48)],\n",
    "    },\n",
    "    date_features=[\"month\", \"dayofweek\", \"hour\"],\n",
    ")\n",
    "\n",
    "X_train = fcst.preprocess(df_train).rename(columns={\"y\": \"lag0\"})\n",
    "X_train, y_train = X_train.align(\n",
    "    df_train.groupby(\"unique_id\")[\"y\"].shift(-24).rename(\"lead24\").dropna(),\n",
    "    axis=0,\n",
    "    join=\"inner\",\n",
    ")\n",
    "print(X_train.shape, y_train.shape)\n",
    "X_train.head(3)"
   ]
  },
  {
   "cell_type": "code",
   "execution_count": 243,
   "id": "eddc5cce",
   "metadata": {},
   "outputs": [
    {
     "data": {
      "text/plain": [
       "2867    139.929\n",
       "2868     27.217\n",
       "2869    898.365\n",
       "Name: lead24, dtype: float64"
      ]
     },
     "execution_count": 243,
     "metadata": {},
     "output_type": "execute_result"
    }
   ],
   "source": [
    "y_train.head(3)"
   ]
  },
  {
   "cell_type": "code",
   "execution_count": 244,
   "id": "de74a079",
   "metadata": {},
   "outputs": [
    {
     "name": "stdout",
     "output_type": "stream",
     "text": [
      "(94461, 55) (94461, 3)\n"
     ]
    }
   ],
   "source": [
    "X_test = fcst.preprocess(df_test).rename(columns={\"y\": \"lag0\"})\n",
    "X_test, y_test = X_test.align(\n",
    "    df_test.groupby(\"unique_id\").shift(-24).dropna(),\n",
    "    axis=0,\n",
    "    join=\"inner\",\n",
    ")\n",
    "y_test[\"unique_id\"] = X_test[\"unique_id\"]\n",
    "print(X_test.shape, y_test.shape)"
   ]
  },
  {
   "cell_type": "markdown",
   "id": "f7c3aa25",
   "metadata": {
    "tags": []
   },
   "source": [
    "# HPO"
   ]
  },
  {
   "cell_type": "markdown",
   "id": "550c3798",
   "metadata": {},
   "source": [
    "## Default optimization"
   ]
  },
  {
   "cell_type": "code",
   "execution_count": 28,
   "id": "5b0c23d3",
   "metadata": {
    "tags": []
   },
   "outputs": [],
   "source": [
    "optuna.logging.set_verbosity(optuna.logging.ERROR)\n",
    "auto_mlf = AutoMLForecast(\n",
    "    models={\n",
    "        \"lgb\": AutoLightGBM(),\n",
    "        # \"ridge\": AutoRidge(),\n",
    "    },\n",
    "    freq=\"h\",\n",
    "    season_length=24,\n",
    ")"
   ]
  },
  {
   "cell_type": "code",
   "execution_count": 29,
   "id": "2db17232",
   "metadata": {
    "tags": []
   },
   "outputs": [
    {
     "name": "stderr",
     "output_type": "stream",
     "text": [
      "/home/ec2-user/anaconda3/envs/python3/lib/python3.10/site-packages/utilsforecast/processing.py:737: UserWarning: The following series are too short for the window and will be dropped: [68]\n",
      "  warnings.warn(\n",
      "/home/ec2-user/anaconda3/envs/python3/lib/python3.10/site-packages/utilsforecast/processing.py:737: UserWarning: The following series are too short for the window and will be dropped: [68]\n",
      "  warnings.warn(\n",
      "/home/ec2-user/anaconda3/envs/python3/lib/python3.10/site-packages/utilsforecast/processing.py:737: UserWarning: The following series are too short for the window and will be dropped: [68]\n",
      "  warnings.warn(\n",
      "/home/ec2-user/anaconda3/envs/python3/lib/python3.10/site-packages/utilsforecast/processing.py:737: UserWarning: The following series are too short for the window and will be dropped: [68]\n",
      "  warnings.warn(\n",
      "/home/ec2-user/anaconda3/envs/python3/lib/python3.10/site-packages/mlforecast/core.py:579: UserWarning: Found null values in lag24.\n",
      "  warnings.warn(f'Found null values in {\", \".join(cols_with_nulls)}.')\n"
     ]
    },
    {
     "name": "stdout",
     "output_type": "stream",
     "text": [
      "CPU times: user 1min 54s, sys: 1.49 s, total: 1min 56s\n",
      "Wall time: 14.8 s\n"
     ]
    },
    {
     "data": {
      "text/plain": [
       "AutoMLForecast(models={'lgb': AutoModel(model=LGBMRegressor)})"
      ]
     },
     "execution_count": 29,
     "metadata": {},
     "output_type": "execute_result"
    }
   ],
   "source": [
    "%%time\n",
    "auto_mlf.fit(\n",
    "    df_train,\n",
    "    n_windows=10,\n",
    "    h=forecast_horizon,\n",
    "    num_samples=2,  # number of trials to run\n",
    "    # **col_params\n",
    ")"
   ]
  },
  {
   "cell_type": "markdown",
   "id": "54469f50",
   "metadata": {},
   "source": [
    "### Evaluation"
   ]
  },
  {
   "cell_type": "markdown",
   "id": "7b972a42-7c9d-49e3-9308-9a54c812f710",
   "metadata": {},
   "source": [
    "https://nixtlaverse.nixtla.io/mlforecast/docs/how-to-guides/cross_validation.html"
   ]
  },
  {
   "cell_type": "markdown",
   "id": "921e0a21",
   "metadata": {},
   "source": [
    "## Tuning lgbm parameters"
   ]
  },
  {
   "cell_type": "code",
   "execution_count": 51,
   "id": "546ed06f",
   "metadata": {
    "tags": []
   },
   "outputs": [],
   "source": [
    "def my_lgb_config(trial: optuna.Trial):\n",
    "    return {\n",
    "        \"learning_rate\": 0.05,\n",
    "        \"verbosity\": -1,\n",
    "        \"num_leaves\": trial.suggest_int(\"num_leaves\", 2, 512, log=True),\n",
    "        \"objective\": trial.suggest_categorical(\"objective\", [\"l1\", \"l2\", \"mape\"]),\n",
    "    }\n",
    "\n",
    "\n",
    "my_lgb = AutoModel(\n",
    "    model=LGBMRegressor(),\n",
    "    config=my_lgb_config,\n",
    ")"
   ]
  },
  {
   "cell_type": "code",
   "execution_count": 27,
   "id": "5080454e",
   "metadata": {
    "tags": []
   },
   "outputs": [
    {
     "ename": "NameError",
     "evalue": "name 'my_lgb' is not defined",
     "output_type": "error",
     "traceback": [
      "\u001b[0;31m---------------------------------------------------------------------------\u001b[0m",
      "\u001b[0;31mNameError\u001b[0m                                 Traceback (most recent call last)",
      "File \u001b[0;32m<timed exec>:2\u001b[0m\n",
      "\u001b[0;31mNameError\u001b[0m: name 'my_lgb' is not defined"
     ]
    }
   ],
   "source": [
    "%%time\n",
    "auto_mlf = AutoMLForecast(\n",
    "    models={\"my_lgb\": my_lgb},\n",
    "    freq=\"h\",\n",
    "    season_length=24,\n",
    ").fit(\n",
    "    df_train,\n",
    "    n_windows=2,\n",
    "    h=forecast_horizon,\n",
    "    num_samples=2,\n",
    ")"
   ]
  },
  {
   "cell_type": "markdown",
   "id": "9527d16c",
   "metadata": {},
   "source": [
    "### Evaluation"
   ]
  },
  {
   "cell_type": "markdown",
   "id": "33fdf7d4-ba75-44d5-acae-731d39fd6e40",
   "metadata": {},
   "source": [
    "https://nixtlaverse.nixtla.io/mlforecast/docs/how-to-guides/cross_validation.html"
   ]
  },
  {
   "cell_type": "markdown",
   "id": "5d974477",
   "metadata": {},
   "source": [
    "## Tuning ridge parameters"
   ]
  },
  {
   "cell_type": "code",
   "execution_count": 34,
   "id": "76b06493",
   "metadata": {},
   "outputs": [],
   "source": [
    "ridge_pipeline = make_pipeline(\n",
    "    ColumnTransformer(\n",
    "        [(\"encoder\", OneHotEncoder(), [\"unique_id\"])],\n",
    "        remainder=\"passthrough\",\n",
    "    ),\n",
    "    Ridge(),\n",
    ")\n",
    "my_auto_ridge = AutoModel(\n",
    "    ridge_pipeline,\n",
    "    # the space must have the name of the estimator followed by the parameter\n",
    "    # you could also tune the encoder here\n",
    "    lambda trial: {f\"ridge__{k}\": v for k, v in ridge_space(trial).items()},\n",
    ")"
   ]
  },
  {
   "cell_type": "code",
   "execution_count": 35,
   "id": "926ced80",
   "metadata": {},
   "outputs": [
    {
     "name": "stdout",
     "output_type": "stream",
     "text": [
      "CPU times: total: 8.27 s\n",
      "Wall time: 8.75 s\n"
     ]
    }
   ],
   "source": [
    "%%time\n",
    "auto_mlf = AutoMLForecast(\n",
    "    models={\"ridge\": my_auto_ridge},\n",
    "    freq=\"h\",\n",
    "    season_length=24,\n",
    "    fit_config=lambda trial: {\"static_features\": [\"unique_id\"]},\n",
    ").fit(\n",
    "    df_train,\n",
    "    n_windows=2,\n",
    "    h=forecast_horizon,\n",
    "    num_samples=2,\n",
    ")"
   ]
  },
  {
   "cell_type": "markdown",
   "id": "a606de35",
   "metadata": {},
   "source": [
    "### Evaluation"
   ]
  },
  {
   "cell_type": "markdown",
   "id": "587cdf5e-a1a4-496c-98e0-791711b338f3",
   "metadata": {},
   "source": [
    "https://nixtlaverse.nixtla.io/mlforecast/docs/how-to-guides/cross_validation.html"
   ]
  },
  {
   "cell_type": "markdown",
   "id": "a92cc53b",
   "metadata": {},
   "source": [
    "## Tuning features"
   ]
  },
  {
   "cell_type": "code",
   "execution_count": 40,
   "id": "001c959d",
   "metadata": {},
   "outputs": [],
   "source": [
    "def my_init_config(trial: optuna.Trial):\n",
    "    lag_transforms = [\n",
    "        ExponentiallyWeightedMean(alpha=0.3),\n",
    "        RollingMean(window_size=24 * 7, min_samples=1),\n",
    "    ]\n",
    "    lag_to_transform = trial.suggest_categorical(\"lag_to_transform\", [24, 48])\n",
    "    return {\n",
    "        \"lags\": [24 * i for i in range(1, 7)],  # this won't be tuned\n",
    "        \"lag_transforms\": {lag_to_transform: lag_transforms},\n",
    "    }"
   ]
  },
  {
   "cell_type": "code",
   "execution_count": 41,
   "id": "d50f41bc",
   "metadata": {},
   "outputs": [
    {
     "name": "stdout",
     "output_type": "stream",
     "text": [
      "CPU times: total: 3.75 s\n",
      "Wall time: 3.97 s\n"
     ]
    }
   ],
   "source": [
    "%%time\n",
    "auto_mlf = AutoMLForecast(\n",
    "    # models={'ridge': my_auto_ridge},\n",
    "    # fit_config=lambda trial: {'static_features': ['unique_id']}\n",
    "    models=[AutoRidge()],\n",
    "    freq=\"h\",\n",
    "    season_length=24,\n",
    "    init_config=my_init_config,\n",
    ").fit(\n",
    "    df_train,\n",
    "    n_windows=2,\n",
    "    h=forecast_horizon,\n",
    "    num_samples=2,\n",
    ")"
   ]
  },
  {
   "cell_type": "code",
   "execution_count": 42,
   "id": "165a7646",
   "metadata": {},
   "outputs": [
    {
     "data": {
      "text/html": [
       "<div>\n",
       "<style scoped>\n",
       "    .dataframe tbody tr th:only-of-type {\n",
       "        vertical-align: middle;\n",
       "    }\n",
       "\n",
       "    .dataframe tbody tr th {\n",
       "        vertical-align: top;\n",
       "    }\n",
       "\n",
       "    .dataframe thead th {\n",
       "        text-align: right;\n",
       "    }\n",
       "</style>\n",
       "<table border=\"1\" class=\"dataframe\">\n",
       "  <thead>\n",
       "    <tr style=\"text-align: right;\">\n",
       "      <th></th>\n",
       "      <th>unique_id</th>\n",
       "      <th>ds</th>\n",
       "      <th>AutoRidge</th>\n",
       "    </tr>\n",
       "  </thead>\n",
       "  <tbody>\n",
       "    <tr>\n",
       "      <th>0</th>\n",
       "      <td>0</td>\n",
       "      <td>2023-05-30 00:00:00</td>\n",
       "      <td>431.601917</td>\n",
       "    </tr>\n",
       "    <tr>\n",
       "      <th>1</th>\n",
       "      <td>0</td>\n",
       "      <td>2023-05-30 01:00:00</td>\n",
       "      <td>381.425067</td>\n",
       "    </tr>\n",
       "    <tr>\n",
       "      <th>2</th>\n",
       "      <td>0</td>\n",
       "      <td>2023-05-30 02:00:00</td>\n",
       "      <td>376.351815</td>\n",
       "    </tr>\n",
       "    <tr>\n",
       "      <th>3</th>\n",
       "      <td>0</td>\n",
       "      <td>2023-05-30 03:00:00</td>\n",
       "      <td>382.440528</td>\n",
       "    </tr>\n",
       "    <tr>\n",
       "      <th>4</th>\n",
       "      <td>0</td>\n",
       "      <td>2023-05-30 04:00:00</td>\n",
       "      <td>359.983041</td>\n",
       "    </tr>\n",
       "    <tr>\n",
       "      <th>...</th>\n",
       "      <td>...</td>\n",
       "      <td>...</td>\n",
       "      <td>...</td>\n",
       "    </tr>\n",
       "    <tr>\n",
       "      <th>3307</th>\n",
       "      <td>68</td>\n",
       "      <td>2023-05-31 19:00:00</td>\n",
       "      <td>1.329570</td>\n",
       "    </tr>\n",
       "    <tr>\n",
       "      <th>3308</th>\n",
       "      <td>68</td>\n",
       "      <td>2023-05-31 20:00:00</td>\n",
       "      <td>2.455559</td>\n",
       "    </tr>\n",
       "    <tr>\n",
       "      <th>3309</th>\n",
       "      <td>68</td>\n",
       "      <td>2023-05-31 21:00:00</td>\n",
       "      <td>6.480433</td>\n",
       "    </tr>\n",
       "    <tr>\n",
       "      <th>3310</th>\n",
       "      <td>68</td>\n",
       "      <td>2023-05-31 22:00:00</td>\n",
       "      <td>9.512457</td>\n",
       "    </tr>\n",
       "    <tr>\n",
       "      <th>3311</th>\n",
       "      <td>68</td>\n",
       "      <td>2023-05-31 23:00:00</td>\n",
       "      <td>9.996963</td>\n",
       "    </tr>\n",
       "  </tbody>\n",
       "</table>\n",
       "<p>3312 rows × 3 columns</p>\n",
       "</div>"
      ],
      "text/plain": [
       "      unique_id                  ds   AutoRidge\n",
       "0             0 2023-05-30 00:00:00  431.601917\n",
       "1             0 2023-05-30 01:00:00  381.425067\n",
       "2             0 2023-05-30 02:00:00  376.351815\n",
       "3             0 2023-05-30 03:00:00  382.440528\n",
       "4             0 2023-05-30 04:00:00  359.983041\n",
       "...         ...                 ...         ...\n",
       "3307         68 2023-05-31 19:00:00    1.329570\n",
       "3308         68 2023-05-31 20:00:00    2.455559\n",
       "3309         68 2023-05-31 21:00:00    6.480433\n",
       "3310         68 2023-05-31 22:00:00    9.512457\n",
       "3311         68 2023-05-31 23:00:00    9.996963\n",
       "\n",
       "[3312 rows x 3 columns]"
      ]
     },
     "execution_count": 42,
     "metadata": {},
     "output_type": "execute_result"
    }
   ],
   "source": [
    "preds = auto_mlf.predict(forecast_horizon)\n",
    "preds"
   ]
  },
  {
   "cell_type": "markdown",
   "id": "91f9154b",
   "metadata": {},
   "source": [
    "### Evaluation"
   ]
  },
  {
   "cell_type": "markdown",
   "id": "88aa44c4",
   "metadata": {},
   "source": [
    "https://nixtlaverse.nixtla.io/mlforecast/docs/how-to-guides/cross_validation.html"
   ]
  },
  {
   "cell_type": "code",
   "execution_count": null,
   "id": "dc41a439",
   "metadata": {},
   "outputs": [],
   "source": []
  }
 ],
 "metadata": {
  "kernelspec": {
   "display_name": ".venv",
   "language": "python",
   "name": "python3"
  },
  "language_info": {
   "codemirror_mode": {
    "name": "ipython",
    "version": 3
   },
   "file_extension": ".py",
   "mimetype": "text/x-python",
   "name": "python",
   "nbconvert_exporter": "python",
   "pygments_lexer": "ipython3",
   "version": "3.11.7"
  }
 },
 "nbformat": 4,
 "nbformat_minor": 5
}
