{
 "cells": [
  {
   "cell_type": "code",
   "execution_count": 1,
   "id": "4a2ac34a",
   "metadata": {},
   "outputs": [],
   "source": [
    "import pandas as pd"
   ]
  },
  {
   "cell_type": "code",
   "execution_count": 2,
   "id": "63fc7067",
   "metadata": {},
   "outputs": [
    {
     "data": {
      "text/html": [
       "<div>\n",
       "<style scoped>\n",
       "    .dataframe tbody tr th:only-of-type {\n",
       "        vertical-align: middle;\n",
       "    }\n",
       "\n",
       "    .dataframe tbody tr th {\n",
       "        vertical-align: top;\n",
       "    }\n",
       "\n",
       "    .dataframe thead th {\n",
       "        text-align: right;\n",
       "    }\n",
       "</style>\n",
       "<table border=\"1\" class=\"dataframe\">\n",
       "  <thead>\n",
       "    <tr style=\"text-align: right;\">\n",
       "      <th></th>\n",
       "      <th>building_id</th>\n",
       "      <th>datetime</th>\n",
       "      <th>consumption</th>\n",
       "    </tr>\n",
       "  </thead>\n",
       "  <tbody>\n",
       "    <tr>\n",
       "      <th>0</th>\n",
       "      <td>0</td>\n",
       "      <td>2021-09-01</td>\n",
       "      <td>96.590</td>\n",
       "    </tr>\n",
       "    <tr>\n",
       "      <th>1</th>\n",
       "      <td>1</td>\n",
       "      <td>2021-09-01</td>\n",
       "      <td>17.314</td>\n",
       "    </tr>\n",
       "    <tr>\n",
       "      <th>2</th>\n",
       "      <td>2</td>\n",
       "      <td>2021-09-01</td>\n",
       "      <td>656.859</td>\n",
       "    </tr>\n",
       "    <tr>\n",
       "      <th>3</th>\n",
       "      <td>3</td>\n",
       "      <td>2021-09-01</td>\n",
       "      <td>59.000</td>\n",
       "    </tr>\n",
       "    <tr>\n",
       "      <th>4</th>\n",
       "      <td>4</td>\n",
       "      <td>2021-09-01</td>\n",
       "      <td>501.760</td>\n",
       "    </tr>\n",
       "  </tbody>\n",
       "</table>\n",
       "</div>"
      ],
      "text/plain": [
       "   building_id   datetime  consumption\n",
       "0            0 2021-09-01       96.590\n",
       "1            1 2021-09-01       17.314\n",
       "2            2 2021-09-01      656.859\n",
       "3            3 2021-09-01       59.000\n",
       "4            4 2021-09-01      501.760"
      ]
     },
     "execution_count": 2,
     "metadata": {},
     "output_type": "execute_result"
    }
   ],
   "source": [
    "df = pd.read_csv(\n",
    "    \"../data/consumption.csv\", usecols=[\"prediction_unit_id\", \"datetime\", \"target\"]\n",
    ")[[\"prediction_unit_id\", \"datetime\", \"target\"]].rename(\n",
    "    columns={\"prediction_unit_id\": \"building_id\", \"target\": \"consumption\"}\n",
    ")\n",
    "df[\"datetime\"] = pd.to_datetime(df[\"datetime\"])\n",
    "df.head()"
   ]
  },
  {
   "cell_type": "code",
   "execution_count": 3,
   "id": "61e1196f",
   "metadata": {},
   "outputs": [
    {
     "data": {
      "text/plain": [
       "building_id    0\n",
       "datetime       0\n",
       "consumption    0\n",
       "dtype: int64"
      ]
     },
     "execution_count": 3,
     "metadata": {},
     "output_type": "execute_result"
    }
   ],
   "source": [
    "df[\"consumption\"] = df[\"consumption\"].interpolate(method=\"linear\")\n",
    "df.isna().sum()"
   ]
  },
  {
   "cell_type": "code",
   "execution_count": 33,
   "id": "f9489274",
   "metadata": {},
   "outputs": [],
   "source": [
    "df.to_csv(\"../data/consumption_no_nan.csv\", index=False)"
   ]
  },
  {
   "cell_type": "code",
   "execution_count": 35,
   "id": "d5893531",
   "metadata": {},
   "outputs": [
    {
     "data": {
      "text/plain": [
       "building_id    0\n",
       "datetime       0\n",
       "consumption    0\n",
       "dtype: int64"
      ]
     },
     "execution_count": 35,
     "metadata": {},
     "output_type": "execute_result"
    }
   ],
   "source": [
    "pd.read_csv(\"../data/consumption_no_nan.csv\").isna().sum()"
   ]
  },
  {
   "cell_type": "markdown",
   "id": "788804bd",
   "metadata": {},
   "source": [
    "# Train/Test split"
   ]
  },
  {
   "cell_type": "code",
   "execution_count": 4,
   "id": "9a32c089",
   "metadata": {},
   "outputs": [
    {
     "name": "stdout",
     "output_type": "stream",
     "text": [
      "(3312, 3)\n"
     ]
    },
    {
     "data": {
      "text/html": [
       "<div>\n",
       "<style scoped>\n",
       "    .dataframe tbody tr th:only-of-type {\n",
       "        vertical-align: middle;\n",
       "    }\n",
       "\n",
       "    .dataframe tbody tr th {\n",
       "        vertical-align: top;\n",
       "    }\n",
       "\n",
       "    .dataframe thead th {\n",
       "        text-align: right;\n",
       "    }\n",
       "</style>\n",
       "<table border=\"1\" class=\"dataframe\">\n",
       "  <thead>\n",
       "    <tr style=\"text-align: right;\">\n",
       "      <th></th>\n",
       "      <th>building_id</th>\n",
       "      <th>datetime</th>\n",
       "      <th>consumption</th>\n",
       "    </tr>\n",
       "  </thead>\n",
       "  <tbody>\n",
       "    <tr>\n",
       "      <th>906150</th>\n",
       "      <td>26</td>\n",
       "      <td>2023-03-28 00:00:00</td>\n",
       "      <td>5.137</td>\n",
       "    </tr>\n",
       "    <tr>\n",
       "      <th>906217</th>\n",
       "      <td>26</td>\n",
       "      <td>2023-03-28 01:00:00</td>\n",
       "      <td>4.212</td>\n",
       "    </tr>\n",
       "    <tr>\n",
       "      <th>906284</th>\n",
       "      <td>26</td>\n",
       "      <td>2023-03-28 02:00:00</td>\n",
       "      <td>4.917</td>\n",
       "    </tr>\n",
       "    <tr>\n",
       "      <th>906351</th>\n",
       "      <td>26</td>\n",
       "      <td>2023-03-28 03:00:00</td>\n",
       "      <td>4.195</td>\n",
       "    </tr>\n",
       "    <tr>\n",
       "      <th>906418</th>\n",
       "      <td>26</td>\n",
       "      <td>2023-03-28 04:00:00</td>\n",
       "      <td>4.518</td>\n",
       "    </tr>\n",
       "  </tbody>\n",
       "</table>\n",
       "</div>"
      ],
      "text/plain": [
       "        building_id            datetime  consumption\n",
       "906150           26 2023-03-28 00:00:00        5.137\n",
       "906217           26 2023-03-28 01:00:00        4.212\n",
       "906284           26 2023-03-28 02:00:00        4.917\n",
       "906351           26 2023-03-28 03:00:00        4.195\n",
       "906418           26 2023-03-28 04:00:00        4.518"
      ]
     },
     "execution_count": 4,
     "metadata": {},
     "output_type": "execute_result"
    }
   ],
   "source": [
    "# taking the last 48 hours for test\n",
    "for i in df[\"building_id\"].unique():\n",
    "    if i == df[\"building_id\"].unique()[0]:\n",
    "        df_test = df[df[\"building_id\"]==i][-48:]\n",
    "        continue\n",
    "    df_test = pd.concat([df_test, df[df[\"building_id\"]==i][-48:]])\n",
    "    \n",
    "df_test.sort_index(inplace=True)\n",
    "print(df_test.shape)\n",
    "df_test.head()"
   ]
  },
  {
   "cell_type": "code",
   "execution_count": 5,
   "id": "5e5c8fdc",
   "metadata": {},
   "outputs": [
    {
     "data": {
      "text/html": [
       "<div>\n",
       "<style scoped>\n",
       "    .dataframe tbody tr th:only-of-type {\n",
       "        vertical-align: middle;\n",
       "    }\n",
       "\n",
       "    .dataframe tbody tr th {\n",
       "        vertical-align: top;\n",
       "    }\n",
       "\n",
       "    .dataframe thead th {\n",
       "        text-align: right;\n",
       "    }\n",
       "</style>\n",
       "<table border=\"1\" class=\"dataframe\">\n",
       "  <thead>\n",
       "    <tr style=\"text-align: right;\">\n",
       "      <th></th>\n",
       "      <th>building_id</th>\n",
       "      <th>datetime</th>\n",
       "      <th>consumption</th>\n",
       "    </tr>\n",
       "  </thead>\n",
       "  <tbody>\n",
       "    <tr>\n",
       "      <th>0</th>\n",
       "      <td>0</td>\n",
       "      <td>2021-09-01</td>\n",
       "      <td>96.590</td>\n",
       "    </tr>\n",
       "    <tr>\n",
       "      <th>1</th>\n",
       "      <td>1</td>\n",
       "      <td>2021-09-01</td>\n",
       "      <td>17.314</td>\n",
       "    </tr>\n",
       "    <tr>\n",
       "      <th>2</th>\n",
       "      <td>2</td>\n",
       "      <td>2021-09-01</td>\n",
       "      <td>656.859</td>\n",
       "    </tr>\n",
       "    <tr>\n",
       "      <th>3</th>\n",
       "      <td>3</td>\n",
       "      <td>2021-09-01</td>\n",
       "      <td>59.000</td>\n",
       "    </tr>\n",
       "    <tr>\n",
       "      <th>4</th>\n",
       "      <td>4</td>\n",
       "      <td>2021-09-01</td>\n",
       "      <td>501.760</td>\n",
       "    </tr>\n",
       "  </tbody>\n",
       "</table>\n",
       "</div>"
      ],
      "text/plain": [
       "   building_id   datetime  consumption\n",
       "0            0 2021-09-01       96.590\n",
       "1            1 2021-09-01       17.314\n",
       "2            2 2021-09-01      656.859\n",
       "3            3 2021-09-01       59.000\n",
       "4            4 2021-09-01      501.760"
      ]
     },
     "execution_count": 5,
     "metadata": {},
     "output_type": "execute_result"
    }
   ],
   "source": [
    "train_idx = [idx for idx in df.index if idx not in df_test.index]\n",
    "df_train = df.loc[train_idx]\n",
    "df_train.shape\n",
    "df_train.head()"
   ]
  },
  {
   "cell_type": "code",
   "execution_count": 6,
   "id": "30a8ad38",
   "metadata": {},
   "outputs": [
    {
     "data": {
      "text/plain": [
       "True"
      ]
     },
     "execution_count": 6,
     "metadata": {},
     "output_type": "execute_result"
    }
   ],
   "source": [
    "df.shape[0] == df_train.shape[0] + df_test.shape[0]"
   ]
  },
  {
   "cell_type": "code",
   "execution_count": 7,
   "id": "c0a86675",
   "metadata": {},
   "outputs": [
    {
     "data": {
      "text/plain": [
       "True"
      ]
     },
     "execution_count": 7,
     "metadata": {},
     "output_type": "execute_result"
    }
   ],
   "source": [
    "df.shape[1] == df_train.shape[1] == df_test.shape[1]"
   ]
  },
  {
   "cell_type": "markdown",
   "id": "fc89823d",
   "metadata": {
    "papermill": {
     "duration": 0.022551,
     "end_time": "2024-03-27T14:25:01.037231",
     "exception": false,
     "start_time": "2024-03-27T14:25:01.014680",
     "status": "completed"
    },
    "tags": []
   },
   "source": [
    "# Training"
   ]
  },
  {
   "cell_type": "code",
   "execution_count": 8,
   "id": "c5f3923d",
   "metadata": {
    "execution": {
     "iopub.execute_input": "2024-03-27T14:25:01.150546Z",
     "iopub.status.busy": "2024-03-27T14:25:01.149906Z",
     "iopub.status.idle": "2024-03-27T14:25:03.037626Z",
     "shell.execute_reply": "2024-03-27T14:25:03.036087Z"
    },
    "papermill": {
     "duration": 1.978328,
     "end_time": "2024-03-27T14:25:03.040362",
     "exception": false,
     "start_time": "2024-03-27T14:25:01.062034",
     "status": "completed"
    },
    "tags": []
   },
   "outputs": [],
   "source": [
    "from mlforecast import MLForecast\n",
    "from mlforecast.lag_transforms import ExpandingMean, RollingMean\n",
    "from mlforecast.target_transforms import Differences"
   ]
  },
  {
   "cell_type": "code",
   "execution_count": 9,
   "id": "9c2a0442",
   "metadata": {},
   "outputs": [
    {
     "data": {
      "text/plain": [
       "{'id_col': 'building_id', 'time_col': 'datetime', 'target_col': 'consumption'}"
      ]
     },
     "execution_count": 9,
     "metadata": {},
     "output_type": "execute_result"
    }
   ],
   "source": [
    "col_params = dict(id_col=\"building_id\", time_col=\"datetime\", target_col=\"consumption\")\n",
    "col_params"
   ]
  },
  {
   "cell_type": "code",
   "execution_count": 10,
   "id": "9b829341",
   "metadata": {},
   "outputs": [
    {
     "data": {
      "text/html": [
       "<div>\n",
       "<style scoped>\n",
       "    .dataframe tbody tr th:only-of-type {\n",
       "        vertical-align: middle;\n",
       "    }\n",
       "\n",
       "    .dataframe tbody tr th {\n",
       "        vertical-align: top;\n",
       "    }\n",
       "\n",
       "    .dataframe thead th {\n",
       "        text-align: right;\n",
       "    }\n",
       "</style>\n",
       "<table border=\"1\" class=\"dataframe\">\n",
       "  <thead>\n",
       "    <tr style=\"text-align: right;\">\n",
       "      <th></th>\n",
       "      <th>building_id</th>\n",
       "      <th>datetime</th>\n",
       "      <th>consumption</th>\n",
       "      <th>lag1</th>\n",
       "      <th>lag2</th>\n",
       "      <th>lag3</th>\n",
       "      <th>lag4</th>\n",
       "      <th>lag5</th>\n",
       "      <th>lag6</th>\n",
       "      <th>lag7</th>\n",
       "      <th>...</th>\n",
       "      <th>lag20</th>\n",
       "      <th>lag21</th>\n",
       "      <th>lag22</th>\n",
       "      <th>lag23</th>\n",
       "      <th>lag24</th>\n",
       "      <th>expanding_mean_lag1</th>\n",
       "      <th>rolling_mean_lag24_window_size48</th>\n",
       "      <th>month</th>\n",
       "      <th>dayofweek</th>\n",
       "      <th>hour</th>\n",
       "    </tr>\n",
       "  </thead>\n",
       "  <tbody>\n",
       "    <tr>\n",
       "      <th>5795</th>\n",
       "      <td>0</td>\n",
       "      <td>2021-09-04 23:00:00</td>\n",
       "      <td>-6.630</td>\n",
       "      <td>10.176</td>\n",
       "      <td>-16.948</td>\n",
       "      <td>30.391</td>\n",
       "      <td>7.926</td>\n",
       "      <td>-17.201</td>\n",
       "      <td>-3.185</td>\n",
       "      <td>6.491</td>\n",
       "      <td>...</td>\n",
       "      <td>25.584</td>\n",
       "      <td>8.909</td>\n",
       "      <td>32.118</td>\n",
       "      <td>14.813</td>\n",
       "      <td>19.389</td>\n",
       "      <td>4.519704</td>\n",
       "      <td>5.480750</td>\n",
       "      <td>9</td>\n",
       "      <td>5</td>\n",
       "      <td>23</td>\n",
       "    </tr>\n",
       "    <tr>\n",
       "      <th>5796</th>\n",
       "      <td>1</td>\n",
       "      <td>2021-09-04 23:00:00</td>\n",
       "      <td>-0.656</td>\n",
       "      <td>4.648</td>\n",
       "      <td>5.220</td>\n",
       "      <td>-13.346</td>\n",
       "      <td>-10.982</td>\n",
       "      <td>-2.404</td>\n",
       "      <td>-1.357</td>\n",
       "      <td>1.997</td>\n",
       "      <td>...</td>\n",
       "      <td>4.737</td>\n",
       "      <td>4.358</td>\n",
       "      <td>2.976</td>\n",
       "      <td>7.491</td>\n",
       "      <td>7.787</td>\n",
       "      <td>0.645268</td>\n",
       "      <td>0.864937</td>\n",
       "      <td>9</td>\n",
       "      <td>5</td>\n",
       "      <td>23</td>\n",
       "    </tr>\n",
       "    <tr>\n",
       "      <th>5797</th>\n",
       "      <td>2</td>\n",
       "      <td>2021-09-04 23:00:00</td>\n",
       "      <td>-35.639</td>\n",
       "      <td>-62.993</td>\n",
       "      <td>5.519</td>\n",
       "      <td>17.114</td>\n",
       "      <td>47.251</td>\n",
       "      <td>-16.126</td>\n",
       "      <td>-23.379</td>\n",
       "      <td>32.545</td>\n",
       "      <td>...</td>\n",
       "      <td>165.606</td>\n",
       "      <td>172.671</td>\n",
       "      <td>151.648</td>\n",
       "      <td>160.884</td>\n",
       "      <td>149.861</td>\n",
       "      <td>33.502592</td>\n",
       "      <td>38.503042</td>\n",
       "      <td>9</td>\n",
       "      <td>5</td>\n",
       "      <td>23</td>\n",
       "    </tr>\n",
       "    <tr>\n",
       "      <th>5798</th>\n",
       "      <td>3</td>\n",
       "      <td>2021-09-04 23:00:00</td>\n",
       "      <td>-1.100</td>\n",
       "      <td>-4.200</td>\n",
       "      <td>-3.600</td>\n",
       "      <td>-4.900</td>\n",
       "      <td>-17.900</td>\n",
       "      <td>-16.500</td>\n",
       "      <td>-38.600</td>\n",
       "      <td>-10.800</td>\n",
       "      <td>...</td>\n",
       "      <td>18.500</td>\n",
       "      <td>17.600</td>\n",
       "      <td>17.100</td>\n",
       "      <td>11.700</td>\n",
       "      <td>-1.600</td>\n",
       "      <td>-7.554930</td>\n",
       "      <td>4.497917</td>\n",
       "      <td>9</td>\n",
       "      <td>5</td>\n",
       "      <td>23</td>\n",
       "    </tr>\n",
       "    <tr>\n",
       "      <th>5799</th>\n",
       "      <td>4</td>\n",
       "      <td>2021-09-04 23:00:00</td>\n",
       "      <td>-68.429</td>\n",
       "      <td>-83.631</td>\n",
       "      <td>-70.391</td>\n",
       "      <td>-16.480</td>\n",
       "      <td>-11.291</td>\n",
       "      <td>-59.362</td>\n",
       "      <td>-127.090</td>\n",
       "      <td>-178.232</td>\n",
       "      <td>...</td>\n",
       "      <td>76.277</td>\n",
       "      <td>87.274</td>\n",
       "      <td>57.055</td>\n",
       "      <td>13.774</td>\n",
       "      <td>29.268</td>\n",
       "      <td>-38.533958</td>\n",
       "      <td>21.538812</td>\n",
       "      <td>9</td>\n",
       "      <td>5</td>\n",
       "      <td>23</td>\n",
       "    </tr>\n",
       "  </tbody>\n",
       "</table>\n",
       "<p>5 rows × 32 columns</p>\n",
       "</div>"
      ],
      "text/plain": [
       "      building_id            datetime  consumption    lag1    lag2    lag3  \\\n",
       "5795            0 2021-09-04 23:00:00       -6.630  10.176 -16.948  30.391   \n",
       "5796            1 2021-09-04 23:00:00       -0.656   4.648   5.220 -13.346   \n",
       "5797            2 2021-09-04 23:00:00      -35.639 -62.993   5.519  17.114   \n",
       "5798            3 2021-09-04 23:00:00       -1.100  -4.200  -3.600  -4.900   \n",
       "5799            4 2021-09-04 23:00:00      -68.429 -83.631 -70.391 -16.480   \n",
       "\n",
       "        lag4    lag5     lag6     lag7  ...    lag20    lag21    lag22  \\\n",
       "5795   7.926 -17.201   -3.185    6.491  ...   25.584    8.909   32.118   \n",
       "5796 -10.982  -2.404   -1.357    1.997  ...    4.737    4.358    2.976   \n",
       "5797  47.251 -16.126  -23.379   32.545  ...  165.606  172.671  151.648   \n",
       "5798 -17.900 -16.500  -38.600  -10.800  ...   18.500   17.600   17.100   \n",
       "5799 -11.291 -59.362 -127.090 -178.232  ...   76.277   87.274   57.055   \n",
       "\n",
       "        lag23    lag24  expanding_mean_lag1  rolling_mean_lag24_window_size48  \\\n",
       "5795   14.813   19.389             4.519704                          5.480750   \n",
       "5796    7.491    7.787             0.645268                          0.864937   \n",
       "5797  160.884  149.861            33.502592                         38.503042   \n",
       "5798   11.700   -1.600            -7.554930                          4.497917   \n",
       "5799   13.774   29.268           -38.533958                         21.538812   \n",
       "\n",
       "      month  dayofweek  hour  \n",
       "5795      9          5    23  \n",
       "5796      9          5    23  \n",
       "5797      9          5    23  \n",
       "5798      9          5    23  \n",
       "5799      9          5    23  \n",
       "\n",
       "[5 rows x 32 columns]"
      ]
     },
     "execution_count": 10,
     "metadata": {},
     "output_type": "execute_result"
    }
   ],
   "source": [
    "import lightgbm as lgb\n",
    "\n",
    "lgb_params = {\n",
    "    'verbosity': -1,\n",
    "    'num_leaves': 512,\n",
    "}\n",
    "\n",
    "fcst = MLForecast(\n",
    "    models={\n",
    "        'avg': lgb.LGBMRegressor(**lgb_params),\n",
    "        # 'q75': lgb.LGBMRegressor(**lgb_params, objective='quantile', alpha=0.75),\n",
    "        # 'q25': lgb.LGBMRegressor(**lgb_params, objective='quantile', alpha=0.25),\n",
    "    },\n",
    "    freq=\"h\",\n",
    "    target_transforms=[Differences([24])],\n",
    "    lags=[i+1 for i in range(24)],\n",
    "    lag_transforms={\n",
    "        1: [ExpandingMean()],\n",
    "        24: [RollingMean(window_size=48)],\n",
    "    },\n",
    "    date_features=[\"month\", \"dayofweek\", \"hour\"],\n",
    ")\n",
    "\n",
    "fcst.preprocess(df_train, **col_params).head()"
   ]
  },
  {
   "cell_type": "code",
   "execution_count": 11,
   "id": "234d3d52",
   "metadata": {},
   "outputs": [
    {
     "data": {
      "text/plain": [
       "11.405408382415771"
      ]
     },
     "execution_count": 11,
     "metadata": {},
     "output_type": "execute_result"
    }
   ],
   "source": [
    "import time\n",
    "\n",
    "start = time.time()\n",
    "fcst.fit(df_train, **col_params)\n",
    "end = time.time()\n",
    "t = end - start\n",
    "t"
   ]
  },
  {
   "cell_type": "markdown",
   "id": "78a4e4f6",
   "metadata": {},
   "source": [
    "# Evaluate"
   ]
  },
  {
   "cell_type": "code",
   "execution_count": 12,
   "id": "ddf58712",
   "metadata": {},
   "outputs": [],
   "source": [
    "from functools import partial\n",
    "from utilsforecast.evaluation import evaluate\n",
    "from utilsforecast.losses import mape, mase, mae, rmse"
   ]
  },
  {
   "cell_type": "code",
   "execution_count": 13,
   "id": "915882a7",
   "metadata": {},
   "outputs": [],
   "source": [
    "df_eval = pd.merge(df_test, fcst.predict(5), on=[\"building_id\", \"datetime\"])\n",
    "daily_mase = partial(mase, seasonality=24)"
   ]
  },
  {
   "cell_type": "code",
   "execution_count": 17,
   "id": "b70c5f53",
   "metadata": {},
   "outputs": [
    {
     "data": {
      "text/html": [
       "<div>\n",
       "<style scoped>\n",
       "    .dataframe tbody tr th:only-of-type {\n",
       "        vertical-align: middle;\n",
       "    }\n",
       "\n",
       "    .dataframe tbody tr th {\n",
       "        vertical-align: top;\n",
       "    }\n",
       "\n",
       "    .dataframe thead th {\n",
       "        text-align: right;\n",
       "    }\n",
       "</style>\n",
       "<table border=\"1\" class=\"dataframe\">\n",
       "  <thead>\n",
       "    <tr style=\"text-align: right;\">\n",
       "      <th></th>\n",
       "      <th>avg</th>\n",
       "    </tr>\n",
       "    <tr>\n",
       "      <th>metric</th>\n",
       "      <th></th>\n",
       "    </tr>\n",
       "  </thead>\n",
       "  <tbody>\n",
       "    <tr>\n",
       "      <th>mae</th>\n",
       "      <td>27.396252</td>\n",
       "    </tr>\n",
       "    <tr>\n",
       "      <th>mape</th>\n",
       "      <td>0.148382</td>\n",
       "    </tr>\n",
       "    <tr>\n",
       "      <th>mase</th>\n",
       "      <td>0.496212</td>\n",
       "    </tr>\n",
       "    <tr>\n",
       "      <th>rmse</th>\n",
       "      <td>31.205136</td>\n",
       "    </tr>\n",
       "  </tbody>\n",
       "</table>\n",
       "</div>"
      ],
      "text/plain": [
       "              avg\n",
       "metric           \n",
       "mae     27.396252\n",
       "mape     0.148382\n",
       "mase     0.496212\n",
       "rmse    31.205136"
      ]
     },
     "execution_count": 17,
     "metadata": {},
     "output_type": "execute_result"
    }
   ],
   "source": [
    "error = evaluate(\n",
    "    df_eval, metrics=[mape, daily_mase, mae, rmse], train_df=df_train, **col_params\n",
    ")\n",
    "error.drop(columns=[\"building_id\"]).groupby(\"metric\").mean()"
   ]
  },
  {
   "cell_type": "markdown",
   "id": "f4a55a5f",
   "metadata": {},
   "source": [
    "# Error distribution"
   ]
  },
  {
   "cell_type": "code",
   "execution_count": 45,
   "id": "fecc5cd6",
   "metadata": {},
   "outputs": [],
   "source": [
    "import seaborn as sns\n",
    "import matplotlib.pyplot as plt\n",
    "sns.set_theme()"
   ]
  },
  {
   "cell_type": "code",
   "execution_count": 48,
   "id": "36534479",
   "metadata": {},
   "outputs": [
    {
     "data": {
      "image/png": "[encoded data removed]",
      "text/plain": [
       "<Figure size 640x480 with 1 Axes>"
      ]
     },
     "metadata": {},
     "output_type": "display_data"
    }
   ],
   "source": [
    "mask = error[\"metric\"] == \"mape\"\n",
    "sns.boxplot(x=error.loc[mask, \"avg\"])\n",
    "plt.show()"
   ]
  },
  {
   "cell_type": "code",
   "execution_count": 49,
   "id": "8a08350b",
   "metadata": {},
   "outputs": [
    {
     "data": {
      "image/png": "[encoded data removed]",
      "text/plain": [
       "<Figure size 640x480 with 1 Axes>"
      ]
     },
     "metadata": {},
     "output_type": "display_data"
    }
   ],
   "source": [
    "sns.histplot(x=error.loc[mask, \"avg\"])\n",
    "plt.show()"
   ]
  },
  {
   "cell_type": "markdown",
   "id": "5a85d789",
   "metadata": {},
   "source": [
    "# HPO"
   ]
  },
  {
   "cell_type": "markdown",
   "id": "47f72f82",
   "metadata": {},
   "source": [
    "## Random Search"
   ]
  },
  {
   "cell_type": "code",
   "execution_count": null,
   "id": "90d60802",
   "metadata": {},
   "outputs": [],
   "source": []
  },
  {
   "cell_type": "markdown",
   "id": "f7c3aa25",
   "metadata": {},
   "source": [
    "## Optuna"
   ]
  },
  {
   "cell_type": "code",
   "execution_count": 61,
   "id": "8638adac",
   "metadata": {},
   "outputs": [
    {
     "name": "stderr",
     "output_type": "stream",
     "text": [
      "c:\\Users\\gabriel.chehade\\Documents\\Projets\\Github\\Predict-Energy-Behavior-of-Prosumers-with-Machine-and-Deep-Learning\\ML-training\\.venv\\Lib\\site-packages\\tqdm\\auto.py:21: TqdmWarning: IProgress not found. Please update jupyter and ipywidgets. See https://ipywidgets.readthedocs.io/en/stable/user_install.html\n",
      "  from .autonotebook import tqdm as notebook_tqdm\n"
     ]
    }
   ],
   "source": [
    "import optuna\n",
    "\n",
    "from mlforecast.auto import (\n",
    "    AutoLightGBM,\n",
    "    AutoMLForecast,\n",
    "    AutoModel,\n",
    "    AutoRidge,\n",
    "    ridge_space,\n",
    ")"
   ]
  },
  {
   "cell_type": "code",
   "execution_count": 62,
   "id": "5b0c23d3",
   "metadata": {},
   "outputs": [],
   "source": [
    "optuna.logging.set_verbosity(optuna.logging.ERROR)\n",
    "auto_mlf = AutoMLForecast(\n",
    "    models={'lgb': AutoLightGBM(), 'ridge': AutoRidge()},\n",
    "    freq=\"h\",\n",
    "    season_length=24,\n",
    ")"
   ]
  },
  {
   "cell_type": "code",
   "execution_count": 75,
   "id": "0676a864",
   "metadata": {},
   "outputs": [
    {
     "data": {
      "text/plain": [
       "Index(['building_id', 'datetime', 'consumption'], dtype='object')"
      ]
     },
     "execution_count": 75,
     "metadata": {},
     "output_type": "execute_result"
    }
   ],
   "source": [
    "df_train.columns"
   ]
  },
  {
   "cell_type": "code",
   "execution_count": 76,
   "id": "5ad48fa1",
   "metadata": {},
   "outputs": [
    {
     "data": {
      "text/html": [
       "<div>\n",
       "<style scoped>\n",
       "    .dataframe tbody tr th:only-of-type {\n",
       "        vertical-align: middle;\n",
       "    }\n",
       "\n",
       "    .dataframe tbody tr th {\n",
       "        vertical-align: top;\n",
       "    }\n",
       "\n",
       "    .dataframe thead th {\n",
       "        text-align: right;\n",
       "    }\n",
       "</style>\n",
       "<table border=\"1\" class=\"dataframe\">\n",
       "  <thead>\n",
       "    <tr style=\"text-align: right;\">\n",
       "      <th></th>\n",
       "      <th>unique_id</th>\n",
       "      <th>ds</th>\n",
       "      <th>y</th>\n",
       "    </tr>\n",
       "  </thead>\n",
       "  <tbody>\n",
       "    <tr>\n",
       "      <th>0</th>\n",
       "      <td>0</td>\n",
       "      <td>2021-09-01</td>\n",
       "      <td>96.590</td>\n",
       "    </tr>\n",
       "    <tr>\n",
       "      <th>1</th>\n",
       "      <td>1</td>\n",
       "      <td>2021-09-01</td>\n",
       "      <td>17.314</td>\n",
       "    </tr>\n",
       "    <tr>\n",
       "      <th>2</th>\n",
       "      <td>2</td>\n",
       "      <td>2021-09-01</td>\n",
       "      <td>656.859</td>\n",
       "    </tr>\n",
       "    <tr>\n",
       "      <th>3</th>\n",
       "      <td>3</td>\n",
       "      <td>2021-09-01</td>\n",
       "      <td>59.000</td>\n",
       "    </tr>\n",
       "    <tr>\n",
       "      <th>4</th>\n",
       "      <td>4</td>\n",
       "      <td>2021-09-01</td>\n",
       "      <td>501.760</td>\n",
       "    </tr>\n",
       "  </tbody>\n",
       "</table>\n",
       "</div>"
      ],
      "text/plain": [
       "   unique_id         ds        y\n",
       "0          0 2021-09-01   96.590\n",
       "1          1 2021-09-01   17.314\n",
       "2          2 2021-09-01  656.859\n",
       "3          3 2021-09-01   59.000\n",
       "4          4 2021-09-01  501.760"
      ]
     },
     "execution_count": 76,
     "metadata": {},
     "output_type": "execute_result"
    }
   ],
   "source": [
    "df_train.columns = [\"unique_id\", \"ds\", \"y\"]\n",
    "df_train.head()"
   ]
  },
  {
   "cell_type": "code",
   "execution_count": 77,
   "id": "2db17232",
   "metadata": {},
   "outputs": [
    {
     "data": {
      "text/plain": [
       "AutoMLForecast(models={'lgb': AutoModel(model=LGBMRegressor), 'ridge': AutoModel(model=Ridge)})"
      ]
     },
     "execution_count": 77,
     "metadata": {},
     "output_type": "execute_result"
    }
   ],
   "source": [
    "auto_mlf.fit(\n",
    "    df_train,\n",
    "    n_windows=2,\n",
    "    h=24,\n",
    "    num_samples=2,  # number of trials to run\n",
    "    # **col_params\n",
    ")"
   ]
  },
  {
   "cell_type": "code",
   "execution_count": 79,
   "id": "a11bd2e4",
   "metadata": {},
   "outputs": [
    {
     "data": {
      "text/html": [
       "<div>\n",
       "<style scoped>\n",
       "    .dataframe tbody tr th:only-of-type {\n",
       "        vertical-align: middle;\n",
       "    }\n",
       "\n",
       "    .dataframe tbody tr th {\n",
       "        vertical-align: top;\n",
       "    }\n",
       "\n",
       "    .dataframe thead th {\n",
       "        text-align: right;\n",
       "    }\n",
       "</style>\n",
       "<table border=\"1\" class=\"dataframe\">\n",
       "  <thead>\n",
       "    <tr style=\"text-align: right;\">\n",
       "      <th></th>\n",
       "      <th>unique_id</th>\n",
       "      <th>ds</th>\n",
       "      <th>lgb</th>\n",
       "      <th>ridge</th>\n",
       "    </tr>\n",
       "  </thead>\n",
       "  <tbody>\n",
       "    <tr>\n",
       "      <th>0</th>\n",
       "      <td>0</td>\n",
       "      <td>2023-05-30 00:00:00</td>\n",
       "      <td>494.575221</td>\n",
       "      <td>509.259315</td>\n",
       "    </tr>\n",
       "    <tr>\n",
       "      <th>1</th>\n",
       "      <td>0</td>\n",
       "      <td>2023-05-30 01:00:00</td>\n",
       "      <td>468.728810</td>\n",
       "      <td>490.602879</td>\n",
       "    </tr>\n",
       "    <tr>\n",
       "      <th>2</th>\n",
       "      <td>0</td>\n",
       "      <td>2023-05-30 02:00:00</td>\n",
       "      <td>444.330531</td>\n",
       "      <td>473.570450</td>\n",
       "    </tr>\n",
       "    <tr>\n",
       "      <th>3</th>\n",
       "      <td>0</td>\n",
       "      <td>2023-05-30 03:00:00</td>\n",
       "      <td>416.076310</td>\n",
       "      <td>457.969369</td>\n",
       "    </tr>\n",
       "    <tr>\n",
       "      <th>4</th>\n",
       "      <td>0</td>\n",
       "      <td>2023-05-30 04:00:00</td>\n",
       "      <td>386.457954</td>\n",
       "      <td>443.679554</td>\n",
       "    </tr>\n",
       "    <tr>\n",
       "      <th>...</th>\n",
       "      <td>...</td>\n",
       "      <td>...</td>\n",
       "      <td>...</td>\n",
       "      <td>...</td>\n",
       "    </tr>\n",
       "    <tr>\n",
       "      <th>1651</th>\n",
       "      <td>68</td>\n",
       "      <td>2023-05-30 19:00:00</td>\n",
       "      <td>11.251472</td>\n",
       "      <td>4.822152</td>\n",
       "    </tr>\n",
       "    <tr>\n",
       "      <th>1652</th>\n",
       "      <td>68</td>\n",
       "      <td>2023-05-30 20:00:00</td>\n",
       "      <td>11.530657</td>\n",
       "      <td>4.822265</td>\n",
       "    </tr>\n",
       "    <tr>\n",
       "      <th>1653</th>\n",
       "      <td>68</td>\n",
       "      <td>2023-05-30 21:00:00</td>\n",
       "      <td>11.530657</td>\n",
       "      <td>4.821419</td>\n",
       "    </tr>\n",
       "    <tr>\n",
       "      <th>1654</th>\n",
       "      <td>68</td>\n",
       "      <td>2023-05-30 22:00:00</td>\n",
       "      <td>11.530657</td>\n",
       "      <td>4.821099</td>\n",
       "    </tr>\n",
       "    <tr>\n",
       "      <th>1655</th>\n",
       "      <td>68</td>\n",
       "      <td>2023-05-30 23:00:00</td>\n",
       "      <td>11.530657</td>\n",
       "      <td>4.821089</td>\n",
       "    </tr>\n",
       "  </tbody>\n",
       "</table>\n",
       "<p>1656 rows × 4 columns</p>\n",
       "</div>"
      ],
      "text/plain": [
       "      unique_id                  ds         lgb       ridge\n",
       "0             0 2023-05-30 00:00:00  494.575221  509.259315\n",
       "1             0 2023-05-30 01:00:00  468.728810  490.602879\n",
       "2             0 2023-05-30 02:00:00  444.330531  473.570450\n",
       "3             0 2023-05-30 03:00:00  416.076310  457.969369\n",
       "4             0 2023-05-30 04:00:00  386.457954  443.679554\n",
       "...         ...                 ...         ...         ...\n",
       "1651         68 2023-05-30 19:00:00   11.251472    4.822152\n",
       "1652         68 2023-05-30 20:00:00   11.530657    4.822265\n",
       "1653         68 2023-05-30 21:00:00   11.530657    4.821419\n",
       "1654         68 2023-05-30 22:00:00   11.530657    4.821099\n",
       "1655         68 2023-05-30 23:00:00   11.530657    4.821089\n",
       "\n",
       "[1656 rows x 4 columns]"
      ]
     },
     "execution_count": 79,
     "metadata": {},
     "output_type": "execute_result"
    }
   ],
   "source": [
    "preds = auto_mlf.predict(24)\n",
    "preds"
   ]
  },
  {
   "cell_type": "code",
   "execution_count": null,
   "id": "c6991039",
   "metadata": {},
   "outputs": [],
   "source": []
  }
 ],
 "metadata": {
  "kernelspec": {
   "display_name": ".venv",
   "language": "python",
   "name": "python3"
  },
  "language_info": {
   "codemirror_mode": {
    "name": "ipython",
    "version": 3
   },
   "file_extension": ".py",
   "mimetype": "text/x-python",
   "name": "python",
   "nbconvert_exporter": "python",
   "pygments_lexer": "ipython3",
   "version": "3.11.7"
  }
 },
 "nbformat": 4,
 "nbformat_minor": 5
}
