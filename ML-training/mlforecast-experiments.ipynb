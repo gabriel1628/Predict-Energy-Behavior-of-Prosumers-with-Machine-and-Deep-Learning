{
 "cells": [
  {
   "cell_type": "code",
   "execution_count": 1,
   "id": "4a2ac34a",
   "metadata": {},
   "outputs": [],
   "source": [
    "import pandas as pd"
   ]
  },
  {
   "cell_type": "code",
   "execution_count": 2,
   "id": "63fc7067",
   "metadata": {},
   "outputs": [
    {
     "data": {
      "text/html": [
       "<div>\n",
       "<style scoped>\n",
       "    .dataframe tbody tr th:only-of-type {\n",
       "        vertical-align: middle;\n",
       "    }\n",
       "\n",
       "    .dataframe tbody tr th {\n",
       "        vertical-align: top;\n",
       "    }\n",
       "\n",
       "    .dataframe thead th {\n",
       "        text-align: right;\n",
       "    }\n",
       "</style>\n",
       "<table border=\"1\" class=\"dataframe\">\n",
       "  <thead>\n",
       "    <tr style=\"text-align: right;\">\n",
       "      <th></th>\n",
       "      <th>unique_id</th>\n",
       "      <th>ds</th>\n",
       "      <th>y</th>\n",
       "    </tr>\n",
       "  </thead>\n",
       "  <tbody>\n",
       "    <tr>\n",
       "      <th>0</th>\n",
       "      <td>0</td>\n",
       "      <td>2021-09-01</td>\n",
       "      <td>96.590</td>\n",
       "    </tr>\n",
       "    <tr>\n",
       "      <th>1</th>\n",
       "      <td>1</td>\n",
       "      <td>2021-09-01</td>\n",
       "      <td>17.314</td>\n",
       "    </tr>\n",
       "    <tr>\n",
       "      <th>2</th>\n",
       "      <td>2</td>\n",
       "      <td>2021-09-01</td>\n",
       "      <td>656.859</td>\n",
       "    </tr>\n",
       "    <tr>\n",
       "      <th>3</th>\n",
       "      <td>3</td>\n",
       "      <td>2021-09-01</td>\n",
       "      <td>59.000</td>\n",
       "    </tr>\n",
       "    <tr>\n",
       "      <th>4</th>\n",
       "      <td>4</td>\n",
       "      <td>2021-09-01</td>\n",
       "      <td>501.760</td>\n",
       "    </tr>\n",
       "  </tbody>\n",
       "</table>\n",
       "</div>"
      ],
      "text/plain": [
       "   unique_id         ds        y\n",
       "0          0 2021-09-01   96.590\n",
       "1          1 2021-09-01   17.314\n",
       "2          2 2021-09-01  656.859\n",
       "3          3 2021-09-01   59.000\n",
       "4          4 2021-09-01  501.760"
      ]
     },
     "execution_count": 2,
     "metadata": {},
     "output_type": "execute_result"
    }
   ],
   "source": [
    "df = pd.read_csv(\n",
    "    \"../data/consumption.csv\", usecols=[\"prediction_unit_id\", \"datetime\", \"target\"]\n",
    ")[[\"prediction_unit_id\", \"datetime\", \"target\"]].rename(\n",
    "    columns={\"prediction_unit_id\": \"unique_id\", \"datetime\": \"ds\", \"target\": \"y\"}\n",
    ")\n",
    "df[\"ds\"] = pd.to_datetime(df[\"ds\"])\n",
    "df.head()"
   ]
  },
  {
   "cell_type": "code",
   "execution_count": 3,
   "id": "61e1196f",
   "metadata": {},
   "outputs": [
    {
     "data": {
      "text/plain": [
       "unique_id    0\n",
       "ds           0\n",
       "y            0\n",
       "dtype: int64"
      ]
     },
     "execution_count": 3,
     "metadata": {},
     "output_type": "execute_result"
    }
   ],
   "source": [
    "df[\"y\"] = df[\"y\"].ffill()\n",
    "df.isna().sum()"
   ]
  },
  {
   "cell_type": "markdown",
   "id": "788804bd",
   "metadata": {},
   "source": [
    "# Train/Test split"
   ]
  },
  {
   "cell_type": "code",
   "execution_count": 4,
   "id": "9a32c089",
   "metadata": {},
   "outputs": [
    {
     "name": "stdout",
     "output_type": "stream",
     "text": [
      "(3312, 3)\n"
     ]
    },
    {
     "data": {
      "text/html": [
       "<div>\n",
       "<style scoped>\n",
       "    .dataframe tbody tr th:only-of-type {\n",
       "        vertical-align: middle;\n",
       "    }\n",
       "\n",
       "    .dataframe tbody tr th {\n",
       "        vertical-align: top;\n",
       "    }\n",
       "\n",
       "    .dataframe thead th {\n",
       "        text-align: right;\n",
       "    }\n",
       "</style>\n",
       "<table border=\"1\" class=\"dataframe\">\n",
       "  <thead>\n",
       "    <tr style=\"text-align: right;\">\n",
       "      <th></th>\n",
       "      <th>unique_id</th>\n",
       "      <th>ds</th>\n",
       "      <th>y</th>\n",
       "    </tr>\n",
       "  </thead>\n",
       "  <tbody>\n",
       "    <tr>\n",
       "      <th>906150</th>\n",
       "      <td>26</td>\n",
       "      <td>2023-03-28 00:00:00</td>\n",
       "      <td>5.137</td>\n",
       "    </tr>\n",
       "    <tr>\n",
       "      <th>906217</th>\n",
       "      <td>26</td>\n",
       "      <td>2023-03-28 01:00:00</td>\n",
       "      <td>4.212</td>\n",
       "    </tr>\n",
       "    <tr>\n",
       "      <th>906284</th>\n",
       "      <td>26</td>\n",
       "      <td>2023-03-28 02:00:00</td>\n",
       "      <td>4.917</td>\n",
       "    </tr>\n",
       "    <tr>\n",
       "      <th>906351</th>\n",
       "      <td>26</td>\n",
       "      <td>2023-03-28 03:00:00</td>\n",
       "      <td>4.195</td>\n",
       "    </tr>\n",
       "    <tr>\n",
       "      <th>906418</th>\n",
       "      <td>26</td>\n",
       "      <td>2023-03-28 04:00:00</td>\n",
       "      <td>4.518</td>\n",
       "    </tr>\n",
       "  </tbody>\n",
       "</table>\n",
       "</div>"
      ],
      "text/plain": [
       "        unique_id                  ds      y\n",
       "906150         26 2023-03-28 00:00:00  5.137\n",
       "906217         26 2023-03-28 01:00:00  4.212\n",
       "906284         26 2023-03-28 02:00:00  4.917\n",
       "906351         26 2023-03-28 03:00:00  4.195\n",
       "906418         26 2023-03-28 04:00:00  4.518"
      ]
     },
     "execution_count": 4,
     "metadata": {},
     "output_type": "execute_result"
    }
   ],
   "source": [
    "# taking the last 48 hours for test\n",
    "horizon = 48\n",
    "for i in df[\"unique_id\"].unique():\n",
    "    if i == df[\"unique_id\"].unique()[0]:\n",
    "        df_test = df[df[\"unique_id\"]==i][-horizon:]\n",
    "        continue\n",
    "    df_test = pd.concat([df_test, df[df[\"unique_id\"]==i][-horizon:]])\n",
    "    \n",
    "df_test.sort_index(inplace=True)\n",
    "print(df_test.shape)\n",
    "df_test.head()"
   ]
  },
  {
   "cell_type": "code",
   "execution_count": 5,
   "id": "5e5c8fdc",
   "metadata": {},
   "outputs": [
    {
     "data": {
      "text/html": [
       "<div>\n",
       "<style scoped>\n",
       "    .dataframe tbody tr th:only-of-type {\n",
       "        vertical-align: middle;\n",
       "    }\n",
       "\n",
       "    .dataframe tbody tr th {\n",
       "        vertical-align: top;\n",
       "    }\n",
       "\n",
       "    .dataframe thead th {\n",
       "        text-align: right;\n",
       "    }\n",
       "</style>\n",
       "<table border=\"1\" class=\"dataframe\">\n",
       "  <thead>\n",
       "    <tr style=\"text-align: right;\">\n",
       "      <th></th>\n",
       "      <th>unique_id</th>\n",
       "      <th>ds</th>\n",
       "      <th>y</th>\n",
       "    </tr>\n",
       "  </thead>\n",
       "  <tbody>\n",
       "    <tr>\n",
       "      <th>0</th>\n",
       "      <td>0</td>\n",
       "      <td>2021-09-01</td>\n",
       "      <td>96.590</td>\n",
       "    </tr>\n",
       "    <tr>\n",
       "      <th>1</th>\n",
       "      <td>1</td>\n",
       "      <td>2021-09-01</td>\n",
       "      <td>17.314</td>\n",
       "    </tr>\n",
       "    <tr>\n",
       "      <th>2</th>\n",
       "      <td>2</td>\n",
       "      <td>2021-09-01</td>\n",
       "      <td>656.859</td>\n",
       "    </tr>\n",
       "    <tr>\n",
       "      <th>3</th>\n",
       "      <td>3</td>\n",
       "      <td>2021-09-01</td>\n",
       "      <td>59.000</td>\n",
       "    </tr>\n",
       "    <tr>\n",
       "      <th>4</th>\n",
       "      <td>4</td>\n",
       "      <td>2021-09-01</td>\n",
       "      <td>501.760</td>\n",
       "    </tr>\n",
       "  </tbody>\n",
       "</table>\n",
       "</div>"
      ],
      "text/plain": [
       "   unique_id         ds        y\n",
       "0          0 2021-09-01   96.590\n",
       "1          1 2021-09-01   17.314\n",
       "2          2 2021-09-01  656.859\n",
       "3          3 2021-09-01   59.000\n",
       "4          4 2021-09-01  501.760"
      ]
     },
     "execution_count": 5,
     "metadata": {},
     "output_type": "execute_result"
    }
   ],
   "source": [
    "train_idx = [idx for idx in df.index if idx not in df_test.index]\n",
    "df_train = df.loc[train_idx]\n",
    "df_train.shape\n",
    "df_train.head()"
   ]
  },
  {
   "cell_type": "code",
   "execution_count": 6,
   "id": "30a8ad38",
   "metadata": {},
   "outputs": [
    {
     "data": {
      "text/plain": [
       "True"
      ]
     },
     "execution_count": 6,
     "metadata": {},
     "output_type": "execute_result"
    }
   ],
   "source": [
    "df.shape[0] == df_train.shape[0] + df_test.shape[0]"
   ]
  },
  {
   "cell_type": "code",
   "execution_count": 7,
   "id": "c0a86675",
   "metadata": {},
   "outputs": [
    {
     "data": {
      "text/plain": [
       "True"
      ]
     },
     "execution_count": 7,
     "metadata": {},
     "output_type": "execute_result"
    }
   ],
   "source": [
    "df.shape[1] == df_train.shape[1] == df_test.shape[1]"
   ]
  },
  {
   "cell_type": "markdown",
   "id": "fc89823d",
   "metadata": {
    "papermill": {
     "duration": 0.022551,
     "end_time": "2024-03-27T14:25:01.037231",
     "exception": false,
     "start_time": "2024-03-27T14:25:01.014680",
     "status": "completed"
    },
    "tags": []
   },
   "source": [
    "# Training"
   ]
  },
  {
   "cell_type": "code",
   "execution_count": 8,
   "id": "c5f3923d",
   "metadata": {
    "execution": {
     "iopub.execute_input": "2024-03-27T14:25:01.150546Z",
     "iopub.status.busy": "2024-03-27T14:25:01.149906Z",
     "iopub.status.idle": "2024-03-27T14:25:03.037626Z",
     "shell.execute_reply": "2024-03-27T14:25:03.036087Z"
    },
    "papermill": {
     "duration": 1.978328,
     "end_time": "2024-03-27T14:25:03.040362",
     "exception": false,
     "start_time": "2024-03-27T14:25:01.062034",
     "status": "completed"
    },
    "tags": []
   },
   "outputs": [],
   "source": [
    "from mlforecast import MLForecast\n",
    "from mlforecast.lag_transforms import ExpandingMean, RollingMean\n",
    "from mlforecast.target_transforms import Differences"
   ]
  },
  {
   "cell_type": "code",
   "execution_count": 9,
   "id": "9c2a0442",
   "metadata": {},
   "outputs": [],
   "source": [
    "# col_params = dict(id_col=\"building_id\", time_col=\"datetime\", target_col=\"consumption\")\n",
    "# col_params"
   ]
  },
  {
   "cell_type": "code",
   "execution_count": 10,
   "id": "9b829341",
   "metadata": {},
   "outputs": [
    {
     "data": {
      "text/html": [
       "<div>\n",
       "<style scoped>\n",
       "    .dataframe tbody tr th:only-of-type {\n",
       "        vertical-align: middle;\n",
       "    }\n",
       "\n",
       "    .dataframe tbody tr th {\n",
       "        vertical-align: top;\n",
       "    }\n",
       "\n",
       "    .dataframe thead th {\n",
       "        text-align: right;\n",
       "    }\n",
       "</style>\n",
       "<table border=\"1\" class=\"dataframe\">\n",
       "  <thead>\n",
       "    <tr style=\"text-align: right;\">\n",
       "      <th></th>\n",
       "      <th>unique_id</th>\n",
       "      <th>ds</th>\n",
       "      <th>y</th>\n",
       "      <th>lag1</th>\n",
       "      <th>lag2</th>\n",
       "      <th>lag3</th>\n",
       "      <th>lag4</th>\n",
       "      <th>lag5</th>\n",
       "      <th>lag6</th>\n",
       "      <th>lag7</th>\n",
       "      <th>...</th>\n",
       "      <th>lag20</th>\n",
       "      <th>lag21</th>\n",
       "      <th>lag22</th>\n",
       "      <th>lag23</th>\n",
       "      <th>lag24</th>\n",
       "      <th>expanding_mean_lag1</th>\n",
       "      <th>rolling_mean_lag24_window_size48</th>\n",
       "      <th>month</th>\n",
       "      <th>dayofweek</th>\n",
       "      <th>hour</th>\n",
       "    </tr>\n",
       "  </thead>\n",
       "  <tbody>\n",
       "    <tr>\n",
       "      <th>5795</th>\n",
       "      <td>0</td>\n",
       "      <td>2021-09-04 23:00:00</td>\n",
       "      <td>-6.630</td>\n",
       "      <td>10.176</td>\n",
       "      <td>-16.948</td>\n",
       "      <td>30.391</td>\n",
       "      <td>7.926</td>\n",
       "      <td>-17.201</td>\n",
       "      <td>-3.185</td>\n",
       "      <td>6.491</td>\n",
       "      <td>...</td>\n",
       "      <td>25.584</td>\n",
       "      <td>8.909</td>\n",
       "      <td>32.118</td>\n",
       "      <td>14.813</td>\n",
       "      <td>19.389</td>\n",
       "      <td>4.519704</td>\n",
       "      <td>5.480750</td>\n",
       "      <td>9</td>\n",
       "      <td>5</td>\n",
       "      <td>23</td>\n",
       "    </tr>\n",
       "    <tr>\n",
       "      <th>5796</th>\n",
       "      <td>1</td>\n",
       "      <td>2021-09-04 23:00:00</td>\n",
       "      <td>-0.656</td>\n",
       "      <td>4.648</td>\n",
       "      <td>5.220</td>\n",
       "      <td>-13.346</td>\n",
       "      <td>-10.982</td>\n",
       "      <td>-2.404</td>\n",
       "      <td>-1.357</td>\n",
       "      <td>1.997</td>\n",
       "      <td>...</td>\n",
       "      <td>4.737</td>\n",
       "      <td>4.358</td>\n",
       "      <td>2.976</td>\n",
       "      <td>7.491</td>\n",
       "      <td>7.787</td>\n",
       "      <td>0.645268</td>\n",
       "      <td>0.864937</td>\n",
       "      <td>9</td>\n",
       "      <td>5</td>\n",
       "      <td>23</td>\n",
       "    </tr>\n",
       "    <tr>\n",
       "      <th>5797</th>\n",
       "      <td>2</td>\n",
       "      <td>2021-09-04 23:00:00</td>\n",
       "      <td>-35.639</td>\n",
       "      <td>-62.993</td>\n",
       "      <td>5.519</td>\n",
       "      <td>17.114</td>\n",
       "      <td>47.251</td>\n",
       "      <td>-16.126</td>\n",
       "      <td>-23.379</td>\n",
       "      <td>32.545</td>\n",
       "      <td>...</td>\n",
       "      <td>165.606</td>\n",
       "      <td>172.671</td>\n",
       "      <td>151.648</td>\n",
       "      <td>160.884</td>\n",
       "      <td>149.861</td>\n",
       "      <td>33.502592</td>\n",
       "      <td>38.503042</td>\n",
       "      <td>9</td>\n",
       "      <td>5</td>\n",
       "      <td>23</td>\n",
       "    </tr>\n",
       "    <tr>\n",
       "      <th>5798</th>\n",
       "      <td>3</td>\n",
       "      <td>2021-09-04 23:00:00</td>\n",
       "      <td>-1.100</td>\n",
       "      <td>-4.200</td>\n",
       "      <td>-3.600</td>\n",
       "      <td>-4.900</td>\n",
       "      <td>-17.900</td>\n",
       "      <td>-16.500</td>\n",
       "      <td>-38.600</td>\n",
       "      <td>-10.800</td>\n",
       "      <td>...</td>\n",
       "      <td>18.500</td>\n",
       "      <td>17.600</td>\n",
       "      <td>17.100</td>\n",
       "      <td>11.700</td>\n",
       "      <td>-1.600</td>\n",
       "      <td>-7.554930</td>\n",
       "      <td>4.497917</td>\n",
       "      <td>9</td>\n",
       "      <td>5</td>\n",
       "      <td>23</td>\n",
       "    </tr>\n",
       "    <tr>\n",
       "      <th>5799</th>\n",
       "      <td>4</td>\n",
       "      <td>2021-09-04 23:00:00</td>\n",
       "      <td>-68.429</td>\n",
       "      <td>-83.631</td>\n",
       "      <td>-70.391</td>\n",
       "      <td>-16.480</td>\n",
       "      <td>-11.291</td>\n",
       "      <td>-59.362</td>\n",
       "      <td>-127.090</td>\n",
       "      <td>-178.232</td>\n",
       "      <td>...</td>\n",
       "      <td>76.277</td>\n",
       "      <td>87.274</td>\n",
       "      <td>57.055</td>\n",
       "      <td>13.774</td>\n",
       "      <td>29.268</td>\n",
       "      <td>-38.533958</td>\n",
       "      <td>21.538812</td>\n",
       "      <td>9</td>\n",
       "      <td>5</td>\n",
       "      <td>23</td>\n",
       "    </tr>\n",
       "  </tbody>\n",
       "</table>\n",
       "<p>5 rows × 32 columns</p>\n",
       "</div>"
      ],
      "text/plain": [
       "      unique_id                  ds       y    lag1    lag2    lag3    lag4  \\\n",
       "5795          0 2021-09-04 23:00:00  -6.630  10.176 -16.948  30.391   7.926   \n",
       "5796          1 2021-09-04 23:00:00  -0.656   4.648   5.220 -13.346 -10.982   \n",
       "5797          2 2021-09-04 23:00:00 -35.639 -62.993   5.519  17.114  47.251   \n",
       "5798          3 2021-09-04 23:00:00  -1.100  -4.200  -3.600  -4.900 -17.900   \n",
       "5799          4 2021-09-04 23:00:00 -68.429 -83.631 -70.391 -16.480 -11.291   \n",
       "\n",
       "        lag5     lag6     lag7  ...    lag20    lag21    lag22    lag23  \\\n",
       "5795 -17.201   -3.185    6.491  ...   25.584    8.909   32.118   14.813   \n",
       "5796  -2.404   -1.357    1.997  ...    4.737    4.358    2.976    7.491   \n",
       "5797 -16.126  -23.379   32.545  ...  165.606  172.671  151.648  160.884   \n",
       "5798 -16.500  -38.600  -10.800  ...   18.500   17.600   17.100   11.700   \n",
       "5799 -59.362 -127.090 -178.232  ...   76.277   87.274   57.055   13.774   \n",
       "\n",
       "        lag24  expanding_mean_lag1  rolling_mean_lag24_window_size48  month  \\\n",
       "5795   19.389             4.519704                          5.480750      9   \n",
       "5796    7.787             0.645268                          0.864937      9   \n",
       "5797  149.861            33.502592                         38.503042      9   \n",
       "5798   -1.600            -7.554930                          4.497917      9   \n",
       "5799   29.268           -38.533958                         21.538812      9   \n",
       "\n",
       "      dayofweek  hour  \n",
       "5795          5    23  \n",
       "5796          5    23  \n",
       "5797          5    23  \n",
       "5798          5    23  \n",
       "5799          5    23  \n",
       "\n",
       "[5 rows x 32 columns]"
      ]
     },
     "execution_count": 10,
     "metadata": {},
     "output_type": "execute_result"
    }
   ],
   "source": [
    "import lightgbm as lgb\n",
    "\n",
    "lgb_params = {\n",
    "    'verbosity': -1,\n",
    "    'num_leaves': 512,\n",
    "}\n",
    "\n",
    "fcst = MLForecast(\n",
    "    models={\n",
    "        'avg': lgb.LGBMRegressor(**lgb_params),\n",
    "        # 'q75': lgb.LGBMRegressor(**lgb_params, objective='quantile', alpha=0.75),\n",
    "        # 'q25': lgb.LGBMRegressor(**lgb_params, objective='quantile', alpha=0.25),\n",
    "    },\n",
    "    freq=\"h\",\n",
    "    target_transforms=[Differences([24])],\n",
    "    lags=[i+1 for i in range(24)],\n",
    "    lag_transforms={\n",
    "        1: [ExpandingMean()],\n",
    "        24: [RollingMean(window_size=48)],\n",
    "    },\n",
    "    date_features=[\"month\", \"dayofweek\", \"hour\"],\n",
    ")\n",
    "\n",
    "# fcst.preprocess(df_train, **col_params).head()\n",
    "fcst.preprocess(df_train).head()"
   ]
  },
  {
   "cell_type": "code",
   "execution_count": 11,
   "id": "234d3d52",
   "metadata": {},
   "outputs": [
    {
     "data": {
      "text/plain": [
       "8.365523338317871"
      ]
     },
     "execution_count": 11,
     "metadata": {},
     "output_type": "execute_result"
    }
   ],
   "source": [
    "import time\n",
    "\n",
    "start = time.time()\n",
    "# fcst.fit(df_train, **col_params)\n",
    "fcst.fit(df_train)\n",
    "end = time.time()\n",
    "t = end - start\n",
    "t"
   ]
  },
  {
   "cell_type": "markdown",
   "id": "78a4e4f6",
   "metadata": {},
   "source": [
    "# Evaluate"
   ]
  },
  {
   "cell_type": "code",
   "execution_count": 12,
   "id": "ddf58712",
   "metadata": {},
   "outputs": [],
   "source": [
    "from functools import partial\n",
    "from utilsforecast.evaluation import evaluate\n",
    "from utilsforecast.losses import mape, mase, mae, rmse"
   ]
  },
  {
   "cell_type": "code",
   "execution_count": 13,
   "id": "915882a7",
   "metadata": {},
   "outputs": [],
   "source": [
    "df_eval = pd.merge(df_test, fcst.predict(horizon), on=[\"unique_id\", \"ds\"])\n",
    "daily_mase = partial(mase, seasonality=24)"
   ]
  },
  {
   "cell_type": "code",
   "execution_count": 14,
   "id": "b70c5f53",
   "metadata": {},
   "outputs": [
    {
     "data": {
      "text/html": [
       "<div>\n",
       "<style scoped>\n",
       "    .dataframe tbody tr th:only-of-type {\n",
       "        vertical-align: middle;\n",
       "    }\n",
       "\n",
       "    .dataframe tbody tr th {\n",
       "        vertical-align: top;\n",
       "    }\n",
       "\n",
       "    .dataframe thead th {\n",
       "        text-align: right;\n",
       "    }\n",
       "</style>\n",
       "<table border=\"1\" class=\"dataframe\">\n",
       "  <thead>\n",
       "    <tr style=\"text-align: right;\">\n",
       "      <th></th>\n",
       "      <th>avg</th>\n",
       "    </tr>\n",
       "    <tr>\n",
       "      <th>metric</th>\n",
       "      <th></th>\n",
       "    </tr>\n",
       "  </thead>\n",
       "  <tbody>\n",
       "    <tr>\n",
       "      <th>mae</th>\n",
       "      <td>44.860327</td>\n",
       "    </tr>\n",
       "    <tr>\n",
       "      <th>mape</th>\n",
       "      <td>0.660978</td>\n",
       "    </tr>\n",
       "    <tr>\n",
       "      <th>mase</th>\n",
       "      <td>0.650544</td>\n",
       "    </tr>\n",
       "    <tr>\n",
       "      <th>rmse</th>\n",
       "      <td>64.338779</td>\n",
       "    </tr>\n",
       "  </tbody>\n",
       "</table>\n",
       "</div>"
      ],
      "text/plain": [
       "              avg\n",
       "metric           \n",
       "mae     44.860327\n",
       "mape     0.660978\n",
       "mase     0.650544\n",
       "rmse    64.338779"
      ]
     },
     "execution_count": 14,
     "metadata": {},
     "output_type": "execute_result"
    }
   ],
   "source": [
    "error_ref = evaluate(\n",
    "    df_eval, metrics=[mape, daily_mase, mae, rmse], train_df=df_train#, **col_params\n",
    ")\n",
    "error_ref.drop(columns=[\"unique_id\"]).groupby(\"metric\").mean()"
   ]
  },
  {
   "cell_type": "markdown",
   "id": "f4a55a5f",
   "metadata": {},
   "source": [
    "# Error distribution"
   ]
  },
  {
   "cell_type": "code",
   "execution_count": 15,
   "id": "fecc5cd6",
   "metadata": {},
   "outputs": [],
   "source": [
    "import seaborn as sns\n",
    "import matplotlib.pyplot as plt\n",
    "sns.set_theme()"
   ]
  },
  {
   "cell_type": "code",
   "execution_count": 18,
   "id": "36534479",
   "metadata": {},
   "outputs": [
    {
     "data": {
      "image/png": "[encoded data removed]",
      "text/plain": [
       "<Figure size 640x480 with 1 Axes>"
      ]
     },
     "metadata": {},
     "output_type": "display_data"
    }
   ],
   "source": [
    "mask = error_ref[\"metric\"] == \"mape\"\n",
    "sns.boxplot(x=error_ref.loc[mask, \"avg\"])\n",
    "plt.show()"
   ]
  },
  {
   "cell_type": "code",
   "execution_count": 19,
   "id": "8a08350b",
   "metadata": {},
   "outputs": [
    {
     "data": {
      "image/png": "[encoded data removed]",
      "text/plain": [
       "<Figure size 640x480 with 1 Axes>"
      ]
     },
     "metadata": {},
     "output_type": "display_data"
    }
   ],
   "source": [
    "sns.histplot(x=error_ref.loc[mask, \"avg\"])\n",
    "plt.show()"
   ]
  },
  {
   "cell_type": "markdown",
   "id": "5a85d789",
   "metadata": {},
   "source": [
    "# HPO"
   ]
  },
  {
   "cell_type": "markdown",
   "id": "47f72f82",
   "metadata": {},
   "source": [
    "## Random Search"
   ]
  },
  {
   "cell_type": "code",
   "execution_count": null,
   "id": "90d60802",
   "metadata": {},
   "outputs": [],
   "source": []
  },
  {
   "cell_type": "markdown",
   "id": "f7c3aa25",
   "metadata": {},
   "source": [
    "## Optuna"
   ]
  },
  {
   "cell_type": "markdown",
   "id": "550c3798",
   "metadata": {},
   "source": [
    "### Default optimization"
   ]
  },
  {
   "cell_type": "code",
   "execution_count": 20,
   "id": "8638adac",
   "metadata": {},
   "outputs": [
    {
     "name": "stderr",
     "output_type": "stream",
     "text": [
      "c:\\Users\\gabriel.chehade\\Documents\\Projets\\Github\\Predict-Energy-Behavior-of-Prosumers-with-Machine-and-Deep-Learning\\ML-training\\.venv\\Lib\\site-packages\\tqdm\\auto.py:21: TqdmWarning: IProgress not found. Please update jupyter and ipywidgets. See https://ipywidgets.readthedocs.io/en/stable/user_install.html\n",
      "  from .autonotebook import tqdm as notebook_tqdm\n"
     ]
    }
   ],
   "source": [
    "import optuna\n",
    "\n",
    "from mlforecast.auto import (\n",
    "    AutoLightGBM,\n",
    "    AutoMLForecast,\n",
    "    AutoModel,\n",
    "    AutoRidge,\n",
    "    ridge_space,\n",
    ")"
   ]
  },
  {
   "cell_type": "code",
   "execution_count": 21,
   "id": "5b0c23d3",
   "metadata": {},
   "outputs": [],
   "source": [
    "optuna.logging.set_verbosity(optuna.logging.ERROR)\n",
    "auto_mlf = AutoMLForecast(\n",
    "    models={'lgb': AutoLightGBM(), 'ridge': AutoRidge()},\n",
    "    freq=\"h\",\n",
    "    season_length=24,\n",
    ")"
   ]
  },
  {
   "cell_type": "code",
   "execution_count": 22,
   "id": "2db17232",
   "metadata": {},
   "outputs": [
    {
     "name": "stdout",
     "output_type": "stream",
     "text": [
      "CPU times: total: 3min 24s\n",
      "Wall time: 1min 2s\n"
     ]
    },
    {
     "data": {
      "text/plain": [
       "AutoMLForecast(models={'lgb': AutoModel(model=LGBMRegressor), 'ridge': AutoModel(model=Ridge)})"
      ]
     },
     "execution_count": 22,
     "metadata": {},
     "output_type": "execute_result"
    }
   ],
   "source": [
    "%%time\n",
    "auto_mlf.fit(\n",
    "    df_train,\n",
    "    n_windows=2,\n",
    "    h=horizon,\n",
    "    num_samples=2,  # number of trials to run\n",
    "    # **col_params\n",
    ")"
   ]
  },
  {
   "cell_type": "code",
   "execution_count": 23,
   "id": "a11bd2e4",
   "metadata": {},
   "outputs": [
    {
     "data": {
      "text/html": [
       "<div>\n",
       "<style scoped>\n",
       "    .dataframe tbody tr th:only-of-type {\n",
       "        vertical-align: middle;\n",
       "    }\n",
       "\n",
       "    .dataframe tbody tr th {\n",
       "        vertical-align: top;\n",
       "    }\n",
       "\n",
       "    .dataframe thead th {\n",
       "        text-align: right;\n",
       "    }\n",
       "</style>\n",
       "<table border=\"1\" class=\"dataframe\">\n",
       "  <thead>\n",
       "    <tr style=\"text-align: right;\">\n",
       "      <th></th>\n",
       "      <th>unique_id</th>\n",
       "      <th>ds</th>\n",
       "      <th>lgb</th>\n",
       "      <th>ridge</th>\n",
       "    </tr>\n",
       "  </thead>\n",
       "  <tbody>\n",
       "    <tr>\n",
       "      <th>0</th>\n",
       "      <td>0</td>\n",
       "      <td>2023-05-30 00:00:00</td>\n",
       "      <td>565.454859</td>\n",
       "      <td>473.285688</td>\n",
       "    </tr>\n",
       "    <tr>\n",
       "      <th>1</th>\n",
       "      <td>0</td>\n",
       "      <td>2023-05-30 01:00:00</td>\n",
       "      <td>563.887968</td>\n",
       "      <td>435.791833</td>\n",
       "    </tr>\n",
       "    <tr>\n",
       "      <th>2</th>\n",
       "      <td>0</td>\n",
       "      <td>2023-05-30 02:00:00</td>\n",
       "      <td>548.292567</td>\n",
       "      <td>420.404486</td>\n",
       "    </tr>\n",
       "    <tr>\n",
       "      <th>3</th>\n",
       "      <td>0</td>\n",
       "      <td>2023-05-30 03:00:00</td>\n",
       "      <td>538.535335</td>\n",
       "      <td>425.605559</td>\n",
       "    </tr>\n",
       "    <tr>\n",
       "      <th>4</th>\n",
       "      <td>0</td>\n",
       "      <td>2023-05-30 04:00:00</td>\n",
       "      <td>519.713864</td>\n",
       "      <td>404.789790</td>\n",
       "    </tr>\n",
       "    <tr>\n",
       "      <th>...</th>\n",
       "      <td>...</td>\n",
       "      <td>...</td>\n",
       "      <td>...</td>\n",
       "      <td>...</td>\n",
       "    </tr>\n",
       "    <tr>\n",
       "      <th>3307</th>\n",
       "      <td>68</td>\n",
       "      <td>2023-05-31 19:00:00</td>\n",
       "      <td>7.687514</td>\n",
       "      <td>1.378594</td>\n",
       "    </tr>\n",
       "    <tr>\n",
       "      <th>3308</th>\n",
       "      <td>68</td>\n",
       "      <td>2023-05-31 20:00:00</td>\n",
       "      <td>5.374252</td>\n",
       "      <td>2.770000</td>\n",
       "    </tr>\n",
       "    <tr>\n",
       "      <th>3309</th>\n",
       "      <td>68</td>\n",
       "      <td>2023-05-31 21:00:00</td>\n",
       "      <td>6.561874</td>\n",
       "      <td>7.424761</td>\n",
       "    </tr>\n",
       "    <tr>\n",
       "      <th>3310</th>\n",
       "      <td>68</td>\n",
       "      <td>2023-05-31 22:00:00</td>\n",
       "      <td>9.323739</td>\n",
       "      <td>10.326647</td>\n",
       "    </tr>\n",
       "    <tr>\n",
       "      <th>3311</th>\n",
       "      <td>68</td>\n",
       "      <td>2023-05-31 23:00:00</td>\n",
       "      <td>10.444055</td>\n",
       "      <td>10.832715</td>\n",
       "    </tr>\n",
       "  </tbody>\n",
       "</table>\n",
       "<p>3312 rows × 4 columns</p>\n",
       "</div>"
      ],
      "text/plain": [
       "      unique_id                  ds         lgb       ridge\n",
       "0             0 2023-05-30 00:00:00  565.454859  473.285688\n",
       "1             0 2023-05-30 01:00:00  563.887968  435.791833\n",
       "2             0 2023-05-30 02:00:00  548.292567  420.404486\n",
       "3             0 2023-05-30 03:00:00  538.535335  425.605559\n",
       "4             0 2023-05-30 04:00:00  519.713864  404.789790\n",
       "...         ...                 ...         ...         ...\n",
       "3307         68 2023-05-31 19:00:00    7.687514    1.378594\n",
       "3308         68 2023-05-31 20:00:00    5.374252    2.770000\n",
       "3309         68 2023-05-31 21:00:00    6.561874    7.424761\n",
       "3310         68 2023-05-31 22:00:00    9.323739   10.326647\n",
       "3311         68 2023-05-31 23:00:00   10.444055   10.832715\n",
       "\n",
       "[3312 rows x 4 columns]"
      ]
     },
     "execution_count": 23,
     "metadata": {},
     "output_type": "execute_result"
    }
   ],
   "source": [
    "preds = auto_mlf.predict(horizon)\n",
    "preds"
   ]
  },
  {
   "cell_type": "markdown",
   "id": "54469f50",
   "metadata": {},
   "source": [
    "### Evaluation"
   ]
  },
  {
   "cell_type": "code",
   "execution_count": 24,
   "id": "d447e019",
   "metadata": {},
   "outputs": [],
   "source": [
    "df_eval = pd.merge(df_test, preds, on=[\"unique_id\", \"ds\"])\n",
    "daily_mase = partial(mase, seasonality=24)"
   ]
  },
  {
   "cell_type": "code",
   "execution_count": 25,
   "id": "3dad5b26",
   "metadata": {},
   "outputs": [
    {
     "data": {
      "text/html": [
       "<div>\n",
       "<style scoped>\n",
       "    .dataframe tbody tr th:only-of-type {\n",
       "        vertical-align: middle;\n",
       "    }\n",
       "\n",
       "    .dataframe tbody tr th {\n",
       "        vertical-align: top;\n",
       "    }\n",
       "\n",
       "    .dataframe thead th {\n",
       "        text-align: right;\n",
       "    }\n",
       "</style>\n",
       "<table border=\"1\" class=\"dataframe\">\n",
       "  <thead>\n",
       "    <tr style=\"text-align: right;\">\n",
       "      <th></th>\n",
       "      <th>lgb</th>\n",
       "      <th>ridge</th>\n",
       "    </tr>\n",
       "    <tr>\n",
       "      <th>metric</th>\n",
       "      <th></th>\n",
       "      <th></th>\n",
       "    </tr>\n",
       "  </thead>\n",
       "  <tbody>\n",
       "    <tr>\n",
       "      <th>mae</th>\n",
       "      <td>110.089964</td>\n",
       "      <td>49.134963</td>\n",
       "    </tr>\n",
       "    <tr>\n",
       "      <th>mape</th>\n",
       "      <td>1.349701</td>\n",
       "      <td>0.513245</td>\n",
       "    </tr>\n",
       "    <tr>\n",
       "      <th>mase</th>\n",
       "      <td>1.212543</td>\n",
       "      <td>0.752745</td>\n",
       "    </tr>\n",
       "    <tr>\n",
       "      <th>rmse</th>\n",
       "      <td>143.436201</td>\n",
       "      <td>66.745755</td>\n",
       "    </tr>\n",
       "  </tbody>\n",
       "</table>\n",
       "</div>"
      ],
      "text/plain": [
       "               lgb      ridge\n",
       "metric                       \n",
       "mae     110.089964  49.134963\n",
       "mape      1.349701   0.513245\n",
       "mase      1.212543   0.752745\n",
       "rmse    143.436201  66.745755"
      ]
     },
     "execution_count": 25,
     "metadata": {},
     "output_type": "execute_result"
    }
   ],
   "source": [
    "error = evaluate(\n",
    "    df_eval, metrics=[mape, daily_mase, mae, rmse], train_df=df_train\n",
    ")\n",
    "error.drop(columns=[\"unique_id\"]).groupby(\"metric\").mean()"
   ]
  },
  {
   "cell_type": "code",
   "execution_count": 41,
   "id": "08f7213b",
   "metadata": {},
   "outputs": [
    {
     "data": {
      "text/plain": [
       "array([[65.22963673,  4.27463601],\n",
       "       [ 0.68872293, -0.14773295],\n",
       "       [ 0.56199856,  0.10220105],\n",
       "       [79.09742193,  2.4069758 ]])"
      ]
     },
     "execution_count": 41,
     "metadata": {},
     "output_type": "execute_result"
    }
   ],
   "source": [
    "(error.drop(columns=[\"unique_id\"]).groupby(\"metric\").mean().values\n",
    " - error_ref.drop(columns=[\"unique_id\"]).groupby(\"metric\").mean().values)"
   ]
  },
  {
   "cell_type": "markdown",
   "id": "921e0a21",
   "metadata": {},
   "source": [
    "### Tuning lgbm parameters"
   ]
  },
  {
   "cell_type": "code",
   "execution_count": 42,
   "id": "546ed06f",
   "metadata": {},
   "outputs": [],
   "source": [
    "def my_lgb_config(trial: optuna.Trial):\n",
    "    return {\n",
    "        'learning_rate': 0.05,\n",
    "        'verbosity': -1,\n",
    "        'num_leaves': trial.suggest_int('num_leaves', 2, 128, log=True),\n",
    "        'objective': trial.suggest_categorical('objective', ['l1', 'l2', 'mape']),\n",
    "    }\n",
    "\n",
    "my_lgb = AutoModel(\n",
    "    model=lgb.LGBMRegressor(),\n",
    "    config=my_lgb_config,\n",
    ")\n"
   ]
  },
  {
   "cell_type": "code",
   "execution_count": 43,
   "id": "5080454e",
   "metadata": {},
   "outputs": [],
   "source": [
    "auto_mlf = AutoMLForecast(\n",
    "    models={'my_lgb': my_lgb},\n",
    "    freq=\"h\",\n",
    "    season_length=24,\n",
    ").fit(\n",
    "    df_train,\n",
    "    n_windows=2,\n",
    "    h=horizon,\n",
    "    num_samples=2,\n",
    ")"
   ]
  },
  {
   "cell_type": "code",
   "execution_count": 44,
   "id": "6a76c5c4",
   "metadata": {},
   "outputs": [
    {
     "data": {
      "text/html": [
       "<div>\n",
       "<style scoped>\n",
       "    .dataframe tbody tr th:only-of-type {\n",
       "        vertical-align: middle;\n",
       "    }\n",
       "\n",
       "    .dataframe tbody tr th {\n",
       "        vertical-align: top;\n",
       "    }\n",
       "\n",
       "    .dataframe thead th {\n",
       "        text-align: right;\n",
       "    }\n",
       "</style>\n",
       "<table border=\"1\" class=\"dataframe\">\n",
       "  <thead>\n",
       "    <tr style=\"text-align: right;\">\n",
       "      <th></th>\n",
       "      <th>unique_id</th>\n",
       "      <th>ds</th>\n",
       "      <th>my_lgb</th>\n",
       "    </tr>\n",
       "  </thead>\n",
       "  <tbody>\n",
       "    <tr>\n",
       "      <th>0</th>\n",
       "      <td>0</td>\n",
       "      <td>2023-05-30 00:00:00</td>\n",
       "      <td>484.121214</td>\n",
       "    </tr>\n",
       "    <tr>\n",
       "      <th>1</th>\n",
       "      <td>0</td>\n",
       "      <td>2023-05-30 01:00:00</td>\n",
       "      <td>449.387858</td>\n",
       "    </tr>\n",
       "    <tr>\n",
       "      <th>2</th>\n",
       "      <td>0</td>\n",
       "      <td>2023-05-30 02:00:00</td>\n",
       "      <td>440.608171</td>\n",
       "    </tr>\n",
       "    <tr>\n",
       "      <th>3</th>\n",
       "      <td>0</td>\n",
       "      <td>2023-05-30 03:00:00</td>\n",
       "      <td>434.272479</td>\n",
       "    </tr>\n",
       "    <tr>\n",
       "      <th>4</th>\n",
       "      <td>0</td>\n",
       "      <td>2023-05-30 04:00:00</td>\n",
       "      <td>416.491666</td>\n",
       "    </tr>\n",
       "    <tr>\n",
       "      <th>...</th>\n",
       "      <td>...</td>\n",
       "      <td>...</td>\n",
       "      <td>...</td>\n",
       "    </tr>\n",
       "    <tr>\n",
       "      <th>3307</th>\n",
       "      <td>68</td>\n",
       "      <td>2023-05-31 19:00:00</td>\n",
       "      <td>3.281953</td>\n",
       "    </tr>\n",
       "    <tr>\n",
       "      <th>3308</th>\n",
       "      <td>68</td>\n",
       "      <td>2023-05-31 20:00:00</td>\n",
       "      <td>4.022080</td>\n",
       "    </tr>\n",
       "    <tr>\n",
       "      <th>3309</th>\n",
       "      <td>68</td>\n",
       "      <td>2023-05-31 21:00:00</td>\n",
       "      <td>4.815580</td>\n",
       "    </tr>\n",
       "    <tr>\n",
       "      <th>3310</th>\n",
       "      <td>68</td>\n",
       "      <td>2023-05-31 22:00:00</td>\n",
       "      <td>5.054192</td>\n",
       "    </tr>\n",
       "    <tr>\n",
       "      <th>3311</th>\n",
       "      <td>68</td>\n",
       "      <td>2023-05-31 23:00:00</td>\n",
       "      <td>4.977804</td>\n",
       "    </tr>\n",
       "  </tbody>\n",
       "</table>\n",
       "<p>3312 rows × 3 columns</p>\n",
       "</div>"
      ],
      "text/plain": [
       "      unique_id                  ds      my_lgb\n",
       "0             0 2023-05-30 00:00:00  484.121214\n",
       "1             0 2023-05-30 01:00:00  449.387858\n",
       "2             0 2023-05-30 02:00:00  440.608171\n",
       "3             0 2023-05-30 03:00:00  434.272479\n",
       "4             0 2023-05-30 04:00:00  416.491666\n",
       "...         ...                 ...         ...\n",
       "3307         68 2023-05-31 19:00:00    3.281953\n",
       "3308         68 2023-05-31 20:00:00    4.022080\n",
       "3309         68 2023-05-31 21:00:00    4.815580\n",
       "3310         68 2023-05-31 22:00:00    5.054192\n",
       "3311         68 2023-05-31 23:00:00    4.977804\n",
       "\n",
       "[3312 rows x 3 columns]"
      ]
     },
     "execution_count": 44,
     "metadata": {},
     "output_type": "execute_result"
    }
   ],
   "source": [
    "preds = auto_mlf.predict(horizon)\n",
    "preds"
   ]
  },
  {
   "cell_type": "markdown",
   "id": "9527d16c",
   "metadata": {},
   "source": [
    "### Evaluation"
   ]
  },
  {
   "cell_type": "code",
   "execution_count": 45,
   "id": "2f93e155",
   "metadata": {},
   "outputs": [],
   "source": [
    "df_eval = pd.merge(df_test, preds, on=[\"unique_id\", \"ds\"])\n",
    "daily_mase = partial(mase, seasonality=24)"
   ]
  },
  {
   "cell_type": "code",
   "execution_count": 46,
   "id": "b21eb0b0",
   "metadata": {},
   "outputs": [
    {
     "data": {
      "text/html": [
       "<div>\n",
       "<style scoped>\n",
       "    .dataframe tbody tr th:only-of-type {\n",
       "        vertical-align: middle;\n",
       "    }\n",
       "\n",
       "    .dataframe tbody tr th {\n",
       "        vertical-align: top;\n",
       "    }\n",
       "\n",
       "    .dataframe thead th {\n",
       "        text-align: right;\n",
       "    }\n",
       "</style>\n",
       "<table border=\"1\" class=\"dataframe\">\n",
       "  <thead>\n",
       "    <tr style=\"text-align: right;\">\n",
       "      <th></th>\n",
       "      <th>my_lgb</th>\n",
       "    </tr>\n",
       "    <tr>\n",
       "      <th>metric</th>\n",
       "      <th></th>\n",
       "    </tr>\n",
       "  </thead>\n",
       "  <tbody>\n",
       "    <tr>\n",
       "      <th>mae</th>\n",
       "      <td>65.756558</td>\n",
       "    </tr>\n",
       "    <tr>\n",
       "      <th>mape</th>\n",
       "      <td>0.875407</td>\n",
       "    </tr>\n",
       "    <tr>\n",
       "      <th>mase</th>\n",
       "      <td>1.051813</td>\n",
       "    </tr>\n",
       "    <tr>\n",
       "      <th>rmse</th>\n",
       "      <td>83.118148</td>\n",
       "    </tr>\n",
       "  </tbody>\n",
       "</table>\n",
       "</div>"
      ],
      "text/plain": [
       "           my_lgb\n",
       "metric           \n",
       "mae     65.756558\n",
       "mape     0.875407\n",
       "mase     1.051813\n",
       "rmse    83.118148"
      ]
     },
     "execution_count": 46,
     "metadata": {},
     "output_type": "execute_result"
    }
   ],
   "source": [
    "error = evaluate(\n",
    "    df_eval, metrics=[mape, daily_mase, mae, rmse], train_df=df_train\n",
    ")\n",
    "error.drop(columns=[\"unique_id\"]).groupby(\"metric\").mean()"
   ]
  },
  {
   "cell_type": "code",
   "execution_count": 47,
   "id": "36841140",
   "metadata": {},
   "outputs": [
    {
     "data": {
      "text/plain": [
       "array([[20.89623081],\n",
       "       [ 0.21442847],\n",
       "       [ 0.4012686 ],\n",
       "       [18.77936859]])"
      ]
     },
     "execution_count": 47,
     "metadata": {},
     "output_type": "execute_result"
    }
   ],
   "source": [
    "(error.drop(columns=[\"unique_id\"]).groupby(\"metric\").mean().values\n",
    " - error_ref.drop(columns=[\"unique_id\"]).groupby(\"metric\").mean().values)"
   ]
  },
  {
   "cell_type": "markdown",
   "id": "5d974477",
   "metadata": {},
   "source": [
    "### Tuning ridge parameters"
   ]
  },
  {
   "cell_type": "code",
   "execution_count": 52,
   "id": "76b06493",
   "metadata": {},
   "outputs": [],
   "source": [
    "from sklearn.pipeline import make_pipeline\n",
    "from sklearn.compose import ColumnTransformer\n",
    "from sklearn.preprocessing import OneHotEncoder\n",
    "from sklearn.linear_model import Ridge\n",
    "\n",
    "ridge_pipeline = make_pipeline(\n",
    "    ColumnTransformer(\n",
    "        [('encoder', OneHotEncoder(), ['unique_id'])],\n",
    "        remainder='passthrough',\n",
    "    ),\n",
    "    Ridge()\n",
    ")\n",
    "my_auto_ridge = AutoModel(\n",
    "    ridge_pipeline,\n",
    "    # the space must have the name of the estimator followed by the parameter\n",
    "    # you could also tune the encoder here\n",
    "    lambda trial: {f'ridge__{k}': v for k, v in ridge_space(trial).items()},\n",
    ")"
   ]
  },
  {
   "cell_type": "code",
   "execution_count": 55,
   "id": "926ced80",
   "metadata": {},
   "outputs": [],
   "source": [
    "auto_mlf = AutoMLForecast(\n",
    "    models={'ridge': my_auto_ridge},\n",
    "    freq=\"h\",\n",
    "    season_length=24,\n",
    "    fit_config=lambda trial: {'static_features': ['unique_id']}\n",
    ").fit(\n",
    "    df_train,\n",
    "    n_windows=2,\n",
    "    h=horizon,\n",
    "    num_samples=2,\n",
    ")"
   ]
  },
  {
   "cell_type": "code",
   "execution_count": 56,
   "id": "dd2dae1d",
   "metadata": {},
   "outputs": [
    {
     "data": {
      "text/html": [
       "<div>\n",
       "<style scoped>\n",
       "    .dataframe tbody tr th:only-of-type {\n",
       "        vertical-align: middle;\n",
       "    }\n",
       "\n",
       "    .dataframe tbody tr th {\n",
       "        vertical-align: top;\n",
       "    }\n",
       "\n",
       "    .dataframe thead th {\n",
       "        text-align: right;\n",
       "    }\n",
       "</style>\n",
       "<table border=\"1\" class=\"dataframe\">\n",
       "  <thead>\n",
       "    <tr style=\"text-align: right;\">\n",
       "      <th></th>\n",
       "      <th>unique_id</th>\n",
       "      <th>ds</th>\n",
       "      <th>ridge</th>\n",
       "    </tr>\n",
       "  </thead>\n",
       "  <tbody>\n",
       "    <tr>\n",
       "      <th>0</th>\n",
       "      <td>0</td>\n",
       "      <td>2023-05-30 00:00:00</td>\n",
       "      <td>464.089417</td>\n",
       "    </tr>\n",
       "    <tr>\n",
       "      <th>1</th>\n",
       "      <td>0</td>\n",
       "      <td>2023-05-30 01:00:00</td>\n",
       "      <td>419.716974</td>\n",
       "    </tr>\n",
       "    <tr>\n",
       "      <th>2</th>\n",
       "      <td>0</td>\n",
       "      <td>2023-05-30 02:00:00</td>\n",
       "      <td>401.566783</td>\n",
       "    </tr>\n",
       "    <tr>\n",
       "      <th>3</th>\n",
       "      <td>0</td>\n",
       "      <td>2023-05-30 03:00:00</td>\n",
       "      <td>409.073716</td>\n",
       "    </tr>\n",
       "    <tr>\n",
       "      <th>4</th>\n",
       "      <td>0</td>\n",
       "      <td>2023-05-30 04:00:00</td>\n",
       "      <td>385.492595</td>\n",
       "    </tr>\n",
       "    <tr>\n",
       "      <th>...</th>\n",
       "      <td>...</td>\n",
       "      <td>...</td>\n",
       "      <td>...</td>\n",
       "    </tr>\n",
       "    <tr>\n",
       "      <th>3307</th>\n",
       "      <td>68</td>\n",
       "      <td>2023-05-31 19:00:00</td>\n",
       "      <td>2.227154</td>\n",
       "    </tr>\n",
       "    <tr>\n",
       "      <th>3308</th>\n",
       "      <td>68</td>\n",
       "      <td>2023-05-31 20:00:00</td>\n",
       "      <td>3.431440</td>\n",
       "    </tr>\n",
       "    <tr>\n",
       "      <th>3309</th>\n",
       "      <td>68</td>\n",
       "      <td>2023-05-31 21:00:00</td>\n",
       "      <td>8.573857</td>\n",
       "    </tr>\n",
       "    <tr>\n",
       "      <th>3310</th>\n",
       "      <td>68</td>\n",
       "      <td>2023-05-31 22:00:00</td>\n",
       "      <td>12.121622</td>\n",
       "    </tr>\n",
       "    <tr>\n",
       "      <th>3311</th>\n",
       "      <td>68</td>\n",
       "      <td>2023-05-31 23:00:00</td>\n",
       "      <td>12.798349</td>\n",
       "    </tr>\n",
       "  </tbody>\n",
       "</table>\n",
       "<p>3312 rows × 3 columns</p>\n",
       "</div>"
      ],
      "text/plain": [
       "      unique_id                  ds       ridge\n",
       "0             0 2023-05-30 00:00:00  464.089417\n",
       "1             0 2023-05-30 01:00:00  419.716974\n",
       "2             0 2023-05-30 02:00:00  401.566783\n",
       "3             0 2023-05-30 03:00:00  409.073716\n",
       "4             0 2023-05-30 04:00:00  385.492595\n",
       "...         ...                 ...         ...\n",
       "3307         68 2023-05-31 19:00:00    2.227154\n",
       "3308         68 2023-05-31 20:00:00    3.431440\n",
       "3309         68 2023-05-31 21:00:00    8.573857\n",
       "3310         68 2023-05-31 22:00:00   12.121622\n",
       "3311         68 2023-05-31 23:00:00   12.798349\n",
       "\n",
       "[3312 rows x 3 columns]"
      ]
     },
     "execution_count": 56,
     "metadata": {},
     "output_type": "execute_result"
    }
   ],
   "source": [
    "preds = auto_mlf.predict(horizon)\n",
    "preds"
   ]
  },
  {
   "cell_type": "markdown",
   "id": "a606de35",
   "metadata": {},
   "source": [
    "### Evaluation"
   ]
  },
  {
   "cell_type": "code",
   "execution_count": 57,
   "id": "3216ab33",
   "metadata": {},
   "outputs": [],
   "source": [
    "df_eval = pd.merge(df_test, preds, on=[\"unique_id\", \"ds\"])\n",
    "daily_mase = partial(mase, seasonality=24)"
   ]
  },
  {
   "cell_type": "code",
   "execution_count": 58,
   "id": "2fd18daf",
   "metadata": {},
   "outputs": [
    {
     "data": {
      "text/html": [
       "<div>\n",
       "<style scoped>\n",
       "    .dataframe tbody tr th:only-of-type {\n",
       "        vertical-align: middle;\n",
       "    }\n",
       "\n",
       "    .dataframe tbody tr th {\n",
       "        vertical-align: top;\n",
       "    }\n",
       "\n",
       "    .dataframe thead th {\n",
       "        text-align: right;\n",
       "    }\n",
       "</style>\n",
       "<table border=\"1\" class=\"dataframe\">\n",
       "  <thead>\n",
       "    <tr style=\"text-align: right;\">\n",
       "      <th></th>\n",
       "      <th>ridge</th>\n",
       "    </tr>\n",
       "    <tr>\n",
       "      <th>metric</th>\n",
       "      <th></th>\n",
       "    </tr>\n",
       "  </thead>\n",
       "  <tbody>\n",
       "    <tr>\n",
       "      <th>mae</th>\n",
       "      <td>45.261171</td>\n",
       "    </tr>\n",
       "    <tr>\n",
       "      <th>mape</th>\n",
       "      <td>0.891970</td>\n",
       "    </tr>\n",
       "    <tr>\n",
       "      <th>mase</th>\n",
       "      <td>0.738090</td>\n",
       "    </tr>\n",
       "    <tr>\n",
       "      <th>rmse</th>\n",
       "      <td>60.205129</td>\n",
       "    </tr>\n",
       "  </tbody>\n",
       "</table>\n",
       "</div>"
      ],
      "text/plain": [
       "            ridge\n",
       "metric           \n",
       "mae     45.261171\n",
       "mape     0.891970\n",
       "mase     0.738090\n",
       "rmse    60.205129"
      ]
     },
     "execution_count": 58,
     "metadata": {},
     "output_type": "execute_result"
    }
   ],
   "source": [
    "error = evaluate(\n",
    "    df_eval, metrics=[mape, daily_mase, mae, rmse], train_df=df_train\n",
    ")\n",
    "error.drop(columns=[\"unique_id\"]).groupby(\"metric\").mean()"
   ]
  },
  {
   "cell_type": "code",
   "execution_count": 59,
   "id": "96c3e7ff",
   "metadata": {},
   "outputs": [
    {
     "data": {
      "text/plain": [
       "array([[ 0.4008446 ],\n",
       "       [ 0.23099201],\n",
       "       [ 0.08754579],\n",
       "       [-4.13364974]])"
      ]
     },
     "execution_count": 59,
     "metadata": {},
     "output_type": "execute_result"
    }
   ],
   "source": [
    "(error.drop(columns=[\"unique_id\"]).groupby(\"metric\").mean().values\n",
    " - error_ref.drop(columns=[\"unique_id\"]).groupby(\"metric\").mean().values)"
   ]
  },
  {
   "cell_type": "markdown",
   "id": "a92cc53b",
   "metadata": {},
   "source": [
    "### Tuning features"
   ]
  },
  {
   "cell_type": "code",
   "execution_count": 62,
   "id": "001c959d",
   "metadata": {},
   "outputs": [],
   "source": [
    "from mlforecast.lag_transforms import ExponentiallyWeightedMean, RollingMean\n",
    "\n",
    "def my_init_config(trial: optuna.Trial):\n",
    "    lag_transforms = [\n",
    "        ExponentiallyWeightedMean(alpha=0.3),\n",
    "        RollingMean(window_size=24 * 7, min_samples=1),\n",
    "    ]\n",
    "    lag_to_transform = trial.suggest_categorical('lag_to_transform', [24, 48])\n",
    "    return {\n",
    "        'lags': [24 * i for i in range(1, 7)],  # this won't be tuned\n",
    "        'lag_transforms': {lag_to_transform: lag_transforms},\n",
    "    }"
   ]
  },
  {
   "cell_type": "code",
   "execution_count": 75,
   "id": "d50f41bc",
   "metadata": {},
   "outputs": [],
   "source": [
    "auto_mlf = AutoMLForecast(\n",
    "    # models={'ridge': my_auto_ridge},\n",
    "    # fit_config=lambda trial: {'static_features': ['unique_id']}\n",
    "    models=[AutoRidge()],\n",
    "    freq=\"h\",\n",
    "    season_length=24,\n",
    "    init_config=my_init_config,\n",
    ").fit(\n",
    "    df_train,\n",
    "    n_windows=2,\n",
    "    h=horizon,\n",
    "    num_samples=2,\n",
    ")"
   ]
  },
  {
   "cell_type": "code",
   "execution_count": 76,
   "id": "165a7646",
   "metadata": {},
   "outputs": [
    {
     "data": {
      "text/html": [
       "<div>\n",
       "<style scoped>\n",
       "    .dataframe tbody tr th:only-of-type {\n",
       "        vertical-align: middle;\n",
       "    }\n",
       "\n",
       "    .dataframe tbody tr th {\n",
       "        vertical-align: top;\n",
       "    }\n",
       "\n",
       "    .dataframe thead th {\n",
       "        text-align: right;\n",
       "    }\n",
       "</style>\n",
       "<table border=\"1\" class=\"dataframe\">\n",
       "  <thead>\n",
       "    <tr style=\"text-align: right;\">\n",
       "      <th></th>\n",
       "      <th>unique_id</th>\n",
       "      <th>ds</th>\n",
       "      <th>AutoRidge</th>\n",
       "    </tr>\n",
       "  </thead>\n",
       "  <tbody>\n",
       "    <tr>\n",
       "      <th>0</th>\n",
       "      <td>0</td>\n",
       "      <td>2023-05-30 00:00:00</td>\n",
       "      <td>431.601917</td>\n",
       "    </tr>\n",
       "    <tr>\n",
       "      <th>1</th>\n",
       "      <td>0</td>\n",
       "      <td>2023-05-30 01:00:00</td>\n",
       "      <td>381.425067</td>\n",
       "    </tr>\n",
       "    <tr>\n",
       "      <th>2</th>\n",
       "      <td>0</td>\n",
       "      <td>2023-05-30 02:00:00</td>\n",
       "      <td>376.351815</td>\n",
       "    </tr>\n",
       "    <tr>\n",
       "      <th>3</th>\n",
       "      <td>0</td>\n",
       "      <td>2023-05-30 03:00:00</td>\n",
       "      <td>382.440528</td>\n",
       "    </tr>\n",
       "    <tr>\n",
       "      <th>4</th>\n",
       "      <td>0</td>\n",
       "      <td>2023-05-30 04:00:00</td>\n",
       "      <td>359.983041</td>\n",
       "    </tr>\n",
       "    <tr>\n",
       "      <th>...</th>\n",
       "      <td>...</td>\n",
       "      <td>...</td>\n",
       "      <td>...</td>\n",
       "    </tr>\n",
       "    <tr>\n",
       "      <th>3307</th>\n",
       "      <td>68</td>\n",
       "      <td>2023-05-31 19:00:00</td>\n",
       "      <td>1.329570</td>\n",
       "    </tr>\n",
       "    <tr>\n",
       "      <th>3308</th>\n",
       "      <td>68</td>\n",
       "      <td>2023-05-31 20:00:00</td>\n",
       "      <td>2.455559</td>\n",
       "    </tr>\n",
       "    <tr>\n",
       "      <th>3309</th>\n",
       "      <td>68</td>\n",
       "      <td>2023-05-31 21:00:00</td>\n",
       "      <td>6.480433</td>\n",
       "    </tr>\n",
       "    <tr>\n",
       "      <th>3310</th>\n",
       "      <td>68</td>\n",
       "      <td>2023-05-31 22:00:00</td>\n",
       "      <td>9.512457</td>\n",
       "    </tr>\n",
       "    <tr>\n",
       "      <th>3311</th>\n",
       "      <td>68</td>\n",
       "      <td>2023-05-31 23:00:00</td>\n",
       "      <td>9.996963</td>\n",
       "    </tr>\n",
       "  </tbody>\n",
       "</table>\n",
       "<p>3312 rows × 3 columns</p>\n",
       "</div>"
      ],
      "text/plain": [
       "      unique_id                  ds   AutoRidge\n",
       "0             0 2023-05-30 00:00:00  431.601917\n",
       "1             0 2023-05-30 01:00:00  381.425067\n",
       "2             0 2023-05-30 02:00:00  376.351815\n",
       "3             0 2023-05-30 03:00:00  382.440528\n",
       "4             0 2023-05-30 04:00:00  359.983041\n",
       "...         ...                 ...         ...\n",
       "3307         68 2023-05-31 19:00:00    1.329570\n",
       "3308         68 2023-05-31 20:00:00    2.455559\n",
       "3309         68 2023-05-31 21:00:00    6.480433\n",
       "3310         68 2023-05-31 22:00:00    9.512457\n",
       "3311         68 2023-05-31 23:00:00    9.996963\n",
       "\n",
       "[3312 rows x 3 columns]"
      ]
     },
     "execution_count": 76,
     "metadata": {},
     "output_type": "execute_result"
    }
   ],
   "source": [
    "preds = auto_mlf.predict(horizon)\n",
    "preds"
   ]
  },
  {
   "cell_type": "markdown",
   "id": "91f9154b",
   "metadata": {},
   "source": [
    "### Evaluation"
   ]
  },
  {
   "cell_type": "code",
   "execution_count": 77,
   "id": "8e309f2e",
   "metadata": {},
   "outputs": [],
   "source": [
    "df_eval = pd.merge(df_test, preds, on=[\"unique_id\", \"ds\"])\n",
    "daily_mase = partial(mase, seasonality=24)"
   ]
  },
  {
   "cell_type": "code",
   "execution_count": 78,
   "id": "a809b0e4",
   "metadata": {},
   "outputs": [
    {
     "data": {
      "text/html": [
       "<div>\n",
       "<style scoped>\n",
       "    .dataframe tbody tr th:only-of-type {\n",
       "        vertical-align: middle;\n",
       "    }\n",
       "\n",
       "    .dataframe tbody tr th {\n",
       "        vertical-align: top;\n",
       "    }\n",
       "\n",
       "    .dataframe thead th {\n",
       "        text-align: right;\n",
       "    }\n",
       "</style>\n",
       "<table border=\"1\" class=\"dataframe\">\n",
       "  <thead>\n",
       "    <tr style=\"text-align: right;\">\n",
       "      <th></th>\n",
       "      <th>AutoRidge</th>\n",
       "    </tr>\n",
       "    <tr>\n",
       "      <th>metric</th>\n",
       "      <th></th>\n",
       "    </tr>\n",
       "  </thead>\n",
       "  <tbody>\n",
       "    <tr>\n",
       "      <th>mae</th>\n",
       "      <td>47.814747</td>\n",
       "    </tr>\n",
       "    <tr>\n",
       "      <th>mape</th>\n",
       "      <td>0.685774</td>\n",
       "    </tr>\n",
       "    <tr>\n",
       "      <th>mase</th>\n",
       "      <td>0.727909</td>\n",
       "    </tr>\n",
       "    <tr>\n",
       "      <th>rmse</th>\n",
       "      <td>66.339242</td>\n",
       "    </tr>\n",
       "  </tbody>\n",
       "</table>\n",
       "</div>"
      ],
      "text/plain": [
       "        AutoRidge\n",
       "metric           \n",
       "mae     47.814747\n",
       "mape     0.685774\n",
       "mase     0.727909\n",
       "rmse    66.339242"
      ]
     },
     "execution_count": 78,
     "metadata": {},
     "output_type": "execute_result"
    }
   ],
   "source": [
    "error = evaluate(\n",
    "    df_eval, metrics=[mape, daily_mase, mae, rmse], train_df=df_train\n",
    ")\n",
    "error.drop(columns=[\"unique_id\"]).groupby(\"metric\").mean()"
   ]
  },
  {
   "cell_type": "code",
   "execution_count": 79,
   "id": "4ede7414",
   "metadata": {},
   "outputs": [
    {
     "data": {
      "text/plain": [
       "array([[2.9544203 ],\n",
       "       [0.02479636],\n",
       "       [0.07736518],\n",
       "       [2.00046294]])"
      ]
     },
     "execution_count": 79,
     "metadata": {},
     "output_type": "execute_result"
    }
   ],
   "source": [
    "(error.drop(columns=[\"unique_id\"]).groupby(\"metric\").mean().values\n",
    " - error_ref.drop(columns=[\"unique_id\"]).groupby(\"metric\").mean().values)"
   ]
  },
  {
   "cell_type": "code",
   "execution_count": null,
   "id": "dc41a439",
   "metadata": {},
   "outputs": [],
   "source": []
  }
 ],
 "metadata": {
  "kernelspec": {
   "display_name": ".venv",
   "language": "python",
   "name": "python3"
  },
  "language_info": {
   "codemirror_mode": {
    "name": "ipython",
    "version": 3
   },
   "file_extension": ".py",
   "mimetype": "text/x-python",
   "name": "python",
   "nbconvert_exporter": "python",
   "pygments_lexer": "ipython3",
   "version": "3.11.7"
  }
 },
 "nbformat": 4,
 "nbformat_minor": 5
}
