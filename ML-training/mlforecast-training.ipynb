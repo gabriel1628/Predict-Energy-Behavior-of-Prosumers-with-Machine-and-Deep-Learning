{
 "cells": [
  {
   "cell_type": "code",
   "execution_count": 34,
   "id": "4a2ac34a",
   "metadata": {},
   "outputs": [],
   "source": [
    "import numpy as np\n",
    "import pandas as pd\n",
    "\n",
    "from mlforecast import MLForecast\n",
    "from mlforecast.lag_transforms import ExpandingMean, RollingMean\n",
    "from mlforecast.target_transforms import Differences\n",
    "from lightgbm import LGBMRegressor\n",
    "from sklearn.pipeline import Pipeline\n",
    "from sklearn.preprocessing import MaxAbsScaler\n",
    "\n",
    "import json\n",
    "import joblib\n"
   ]
  },
  {
   "cell_type": "code",
   "execution_count": 35,
   "id": "63fc7067",
   "metadata": {},
   "outputs": [
    {
     "data": {
      "text/html": [
       "<div>\n",
       "<style scoped>\n",
       "    .dataframe tbody tr th:only-of-type {\n",
       "        vertical-align: middle;\n",
       "    }\n",
       "\n",
       "    .dataframe tbody tr th {\n",
       "        vertical-align: top;\n",
       "    }\n",
       "\n",
       "    .dataframe thead th {\n",
       "        text-align: right;\n",
       "    }\n",
       "</style>\n",
       "<table border=\"1\" class=\"dataframe\">\n",
       "  <thead>\n",
       "    <tr style=\"text-align: right;\">\n",
       "      <th></th>\n",
       "      <th>building_id</th>\n",
       "      <th>datetime</th>\n",
       "      <th>consumption</th>\n",
       "    </tr>\n",
       "  </thead>\n",
       "  <tbody>\n",
       "    <tr>\n",
       "      <th>0</th>\n",
       "      <td>0</td>\n",
       "      <td>2021-09-01</td>\n",
       "      <td>96.590</td>\n",
       "    </tr>\n",
       "    <tr>\n",
       "      <th>1</th>\n",
       "      <td>1</td>\n",
       "      <td>2021-09-01</td>\n",
       "      <td>17.314</td>\n",
       "    </tr>\n",
       "    <tr>\n",
       "      <th>2</th>\n",
       "      <td>2</td>\n",
       "      <td>2021-09-01</td>\n",
       "      <td>656.859</td>\n",
       "    </tr>\n",
       "    <tr>\n",
       "      <th>3</th>\n",
       "      <td>3</td>\n",
       "      <td>2021-09-01</td>\n",
       "      <td>59.000</td>\n",
       "    </tr>\n",
       "    <tr>\n",
       "      <th>4</th>\n",
       "      <td>4</td>\n",
       "      <td>2021-09-01</td>\n",
       "      <td>501.760</td>\n",
       "    </tr>\n",
       "  </tbody>\n",
       "</table>\n",
       "</div>"
      ],
      "text/plain": [
       "   building_id   datetime  consumption\n",
       "0            0 2021-09-01       96.590\n",
       "1            1 2021-09-01       17.314\n",
       "2            2 2021-09-01      656.859\n",
       "3            3 2021-09-01       59.000\n",
       "4            4 2021-09-01      501.760"
      ]
     },
     "execution_count": 35,
     "metadata": {},
     "output_type": "execute_result"
    }
   ],
   "source": [
    "df = pd.read_csv(\n",
    "    \"../data/consumption.csv\", usecols=[\"prediction_unit_id\", \"datetime\", \"target\"]\n",
    ")[[\"prediction_unit_id\", \"datetime\", \"target\"]].rename(\n",
    "    columns={\"prediction_unit_id\": \"building_id\", \"target\": \"consumption\"}\n",
    ")\n",
    "df[\"datetime\"] = pd.to_datetime(df[\"datetime\"])\n",
    "df.head()"
   ]
  },
  {
   "cell_type": "code",
   "execution_count": 36,
   "id": "61e1196f",
   "metadata": {},
   "outputs": [
    {
     "data": {
      "text/plain": [
       "building_id    0\n",
       "datetime       0\n",
       "consumption    0\n",
       "dtype: int64"
      ]
     },
     "execution_count": 36,
     "metadata": {},
     "output_type": "execute_result"
    }
   ],
   "source": [
    "df[\"consumption\"] = df[\"consumption\"].interpolate(method=\"linear\")\n",
    "df.isna().sum()"
   ]
  },
  {
   "cell_type": "markdown",
   "id": "788804bd",
   "metadata": {},
   "source": [
    "# Train/Test split"
   ]
  },
  {
   "cell_type": "code",
   "execution_count": 37,
   "id": "9a32c089",
   "metadata": {},
   "outputs": [
    {
     "name": "stdout",
     "output_type": "stream",
     "text": [
      "(99360, 3)\n"
     ]
    },
    {
     "data": {
      "text/html": [
       "<div>\n",
       "<style scoped>\n",
       "    .dataframe tbody tr th:only-of-type {\n",
       "        vertical-align: middle;\n",
       "    }\n",
       "\n",
       "    .dataframe tbody tr th {\n",
       "        vertical-align: top;\n",
       "    }\n",
       "\n",
       "    .dataframe thead th {\n",
       "        text-align: right;\n",
       "    }\n",
       "</style>\n",
       "<table border=\"1\" class=\"dataframe\">\n",
       "  <thead>\n",
       "    <tr style=\"text-align: right;\">\n",
       "      <th></th>\n",
       "      <th>building_id</th>\n",
       "      <th>datetime</th>\n",
       "      <th>consumption</th>\n",
       "    </tr>\n",
       "  </thead>\n",
       "  <tbody>\n",
       "    <tr>\n",
       "      <th>684254</th>\n",
       "      <td>68</td>\n",
       "      <td>2022-11-10 00:00:00</td>\n",
       "      <td>28.124</td>\n",
       "    </tr>\n",
       "    <tr>\n",
       "      <th>684323</th>\n",
       "      <td>68</td>\n",
       "      <td>2022-11-10 01:00:00</td>\n",
       "      <td>28.020</td>\n",
       "    </tr>\n",
       "    <tr>\n",
       "      <th>684392</th>\n",
       "      <td>68</td>\n",
       "      <td>2022-11-10 02:00:00</td>\n",
       "      <td>28.741</td>\n",
       "    </tr>\n",
       "    <tr>\n",
       "      <th>684461</th>\n",
       "      <td>68</td>\n",
       "      <td>2022-11-10 03:00:00</td>\n",
       "      <td>31.947</td>\n",
       "    </tr>\n",
       "    <tr>\n",
       "      <th>684530</th>\n",
       "      <td>68</td>\n",
       "      <td>2022-11-10 04:00:00</td>\n",
       "      <td>36.197</td>\n",
       "    </tr>\n",
       "  </tbody>\n",
       "</table>\n",
       "</div>"
      ],
      "text/plain": [
       "        building_id            datetime  consumption\n",
       "684254           68 2022-11-10 00:00:00       28.124\n",
       "684323           68 2022-11-10 01:00:00       28.020\n",
       "684392           68 2022-11-10 02:00:00       28.741\n",
       "684461           68 2022-11-10 03:00:00       31.947\n",
       "684530           68 2022-11-10 04:00:00       36.197"
      ]
     },
     "execution_count": 37,
     "metadata": {},
     "output_type": "execute_result"
    }
   ],
   "source": [
    "# taking the last 60 days for test\n",
    "test_duration = 24 * 60\n",
    "for i in df[\"building_id\"].unique():\n",
    "    if i == df[\"building_id\"].unique()[0]:\n",
    "        df_test = df[df[\"building_id\"]==i][-test_duration:]\n",
    "        continue\n",
    "    df_test = pd.concat([df_test, df[df[\"building_id\"]==i][-test_duration:]])\n",
    "    \n",
    "df_test.sort_index(inplace=True)\n",
    "print(df_test.shape)\n",
    "df_test.head()"
   ]
  },
  {
   "cell_type": "code",
   "execution_count": 38,
   "id": "5e5c8fdc",
   "metadata": {},
   "outputs": [
    {
     "data": {
      "text/html": [
       "<div>\n",
       "<style scoped>\n",
       "    .dataframe tbody tr th:only-of-type {\n",
       "        vertical-align: middle;\n",
       "    }\n",
       "\n",
       "    .dataframe tbody tr th {\n",
       "        vertical-align: top;\n",
       "    }\n",
       "\n",
       "    .dataframe thead th {\n",
       "        text-align: right;\n",
       "    }\n",
       "</style>\n",
       "<table border=\"1\" class=\"dataframe\">\n",
       "  <thead>\n",
       "    <tr style=\"text-align: right;\">\n",
       "      <th></th>\n",
       "      <th>building_id</th>\n",
       "      <th>datetime</th>\n",
       "      <th>consumption</th>\n",
       "    </tr>\n",
       "  </thead>\n",
       "  <tbody>\n",
       "    <tr>\n",
       "      <th>0</th>\n",
       "      <td>0</td>\n",
       "      <td>2021-09-01</td>\n",
       "      <td>96.590</td>\n",
       "    </tr>\n",
       "    <tr>\n",
       "      <th>1</th>\n",
       "      <td>1</td>\n",
       "      <td>2021-09-01</td>\n",
       "      <td>17.314</td>\n",
       "    </tr>\n",
       "    <tr>\n",
       "      <th>2</th>\n",
       "      <td>2</td>\n",
       "      <td>2021-09-01</td>\n",
       "      <td>656.859</td>\n",
       "    </tr>\n",
       "    <tr>\n",
       "      <th>3</th>\n",
       "      <td>3</td>\n",
       "      <td>2021-09-01</td>\n",
       "      <td>59.000</td>\n",
       "    </tr>\n",
       "    <tr>\n",
       "      <th>4</th>\n",
       "      <td>4</td>\n",
       "      <td>2021-09-01</td>\n",
       "      <td>501.760</td>\n",
       "    </tr>\n",
       "  </tbody>\n",
       "</table>\n",
       "</div>"
      ],
      "text/plain": [
       "   building_id   datetime  consumption\n",
       "0            0 2021-09-01       96.590\n",
       "1            1 2021-09-01       17.314\n",
       "2            2 2021-09-01      656.859\n",
       "3            3 2021-09-01       59.000\n",
       "4            4 2021-09-01      501.760"
      ]
     },
     "execution_count": 38,
     "metadata": {},
     "output_type": "execute_result"
    }
   ],
   "source": [
    "train_idx = [idx for idx in df.index if idx not in df_test.index]\n",
    "df_train = df.loc[train_idx]\n",
    "df_train.shape\n",
    "df_train.head()"
   ]
  },
  {
   "cell_type": "code",
   "execution_count": 39,
   "id": "30a8ad38",
   "metadata": {},
   "outputs": [
    {
     "data": {
      "text/plain": [
       "True"
      ]
     },
     "execution_count": 39,
     "metadata": {},
     "output_type": "execute_result"
    }
   ],
   "source": [
    "df.shape[0] == df_train.shape[0] + df_test.shape[0]"
   ]
  },
  {
   "cell_type": "code",
   "execution_count": 40,
   "id": "c0a86675",
   "metadata": {},
   "outputs": [
    {
     "data": {
      "text/plain": [
       "True"
      ]
     },
     "execution_count": 40,
     "metadata": {},
     "output_type": "execute_result"
    }
   ],
   "source": [
    "df.shape[1] == df_train.shape[1] == df_test.shape[1]"
   ]
  },
  {
   "cell_type": "code",
   "execution_count": 41,
   "id": "32f5aa12",
   "metadata": {},
   "outputs": [
    {
     "name": "stdout",
     "output_type": "stream",
     "text": [
      "test size : 9.80%\n"
     ]
    }
   ],
   "source": [
    "test_size = df_test.shape[0] / (df_train.shape[0] + df_test.shape[0])\n",
    "print(f\"test size : {round(test_size, 3)*100}0%\")"
   ]
  },
  {
   "cell_type": "markdown",
   "id": "7939cecb",
   "metadata": {
    "papermill": {
     "duration": 0.022551,
     "end_time": "2024-03-27T14:25:01.037231",
     "exception": false,
     "start_time": "2024-03-27T14:25:01.014680",
     "status": "completed"
    },
    "tags": []
   },
   "source": [
    "# Training"
   ]
  },
  {
   "cell_type": "code",
   "execution_count": 42,
   "id": "ad4c56e0",
   "metadata": {},
   "outputs": [],
   "source": [
    "lgbm_params = {\n",
    "    'feature_fraction': 0.6857592714582879,\n",
    "    'learning_rate': 0.08105638762049074,\n",
    "    'max_depth': 15,\n",
    "    'num_leaves': 138,\n",
    "    'subsample': 0.11864728937294303\n",
    "}\n",
    "\n",
    "pipeline = Pipeline(\n",
    "    [\n",
    "        (\"scaler\", MaxAbsScaler()),\n",
    "        (\"lgb\", LGBMRegressor(**lgbm_params)),\n",
    "    ]\n",
    ")\n",
    "\n",
    "fcst = MLForecast(\n",
    "    models={\"model\": pipeline},\n",
    "    freq=\"h\",\n",
    "    # target_transforms=[Differences([24])],\n",
    "    lags=[i + 1 for i in range(47)],\n",
    "    lag_transforms={\n",
    "        1: [ExpandingMean()],\n",
    "        1: [RollingMean(window_size=24)],\n",
    "        24: [RollingMean(window_size=24)],\n",
    "        # 24: [RollingMean(window_size=48)],\n",
    "    },\n",
    "    date_features=[\"month\", \"dayofweek\", \"hour\"],\n",
    ")\n"
   ]
  },
  {
   "cell_type": "code",
   "execution_count": 43,
   "id": "2a8b0d94",
   "metadata": {},
   "outputs": [
    {
     "name": "stdout",
     "output_type": "stream",
     "text": [
      "[LightGBM] [Warning] feature_fraction is set=0.6857592714582879, colsample_bytree=1.0 will be ignored. Current value: feature_fraction=0.6857592714582879\n",
      "[LightGBM] [Warning] feature_fraction is set=0.6857592714582879, colsample_bytree=1.0 will be ignored. Current value: feature_fraction=0.6857592714582879\n",
      "[LightGBM] [Info] Auto-choosing col-wise multi-threading, the overhead of testing was 0.135541 seconds.\n",
      "You can set `force_col_wise=true` to remove the overhead.\n",
      "[LightGBM] [Info] Total Bins 12539\n",
      "[LightGBM] [Info] Number of data points in the train set: 906573, number of used features: 52\n",
      "[LightGBM] [Info] Start training from score 468.430628\n"
     ]
    },
    {
     "data": {
      "text/plain": [
       "MLForecast(models=[model], freq=h, lag_features=['lag1', 'lag2', 'lag3', 'lag4', 'lag5', 'lag6', 'lag7', 'lag8', 'lag9', 'lag10', 'lag11', 'lag12', 'lag13', 'lag14', 'lag15', 'lag16', 'lag17', 'lag18', 'lag19', 'lag20', 'lag21', 'lag22', 'lag23', 'lag24', 'lag25', 'lag26', 'lag27', 'lag28', 'lag29', 'lag30', 'lag31', 'lag32', 'lag33', 'lag34', 'lag35', 'lag36', 'lag37', 'lag38', 'lag39', 'lag40', 'lag41', 'lag42', 'lag43', 'lag44', 'lag45', 'lag46', 'lag47', 'rolling_mean_lag1_window_size24', 'rolling_mean_lag24_window_size24'], date_features=['month', 'dayofweek', 'hour'], num_threads=1)"
      ]
     },
     "execution_count": 43,
     "metadata": {},
     "output_type": "execute_result"
    }
   ],
   "source": [
    "col_params = dict(id_col=\"building_id\", time_col=\"datetime\", target_col=\"consumption\")\n",
    "fcst.fit(df_train, **col_params)"
   ]
  },
  {
   "cell_type": "markdown",
   "id": "9a9577bd",
   "metadata": {},
   "source": [
    "# Save model"
   ]
  },
  {
   "cell_type": "code",
   "execution_count": 44,
   "id": "952694f7",
   "metadata": {},
   "outputs": [
    {
     "data": {
      "text/plain": [
       "['../deployment/mlforecast_model.joblib']"
      ]
     },
     "execution_count": 44,
     "metadata": {},
     "output_type": "execute_result"
    }
   ],
   "source": [
    "joblib.dump(fcst, '../deployment/mlforecast_model.joblib')"
   ]
  },
  {
   "cell_type": "markdown",
   "id": "890ab70f",
   "metadata": {},
   "source": [
    "Load the model for test"
   ]
  },
  {
   "cell_type": "code",
   "execution_count": 45,
   "id": "9d9b4b59",
   "metadata": {},
   "outputs": [
    {
     "name": "stdout",
     "output_type": "stream",
     "text": [
      "[LightGBM] [Warning] feature_fraction is set=0.6857592714582879, colsample_bytree=1.0 will be ignored. Current value: feature_fraction=0.6857592714582879\n",
      "[LightGBM] [Warning] feature_fraction is set=0.6857592714582879, colsample_bytree=1.0 will be ignored. Current value: feature_fraction=0.6857592714582879\n"
     ]
    },
    {
     "data": {
      "text/html": [
       "<div>\n",
       "<style scoped>\n",
       "    .dataframe tbody tr th:only-of-type {\n",
       "        vertical-align: middle;\n",
       "    }\n",
       "\n",
       "    .dataframe tbody tr th {\n",
       "        vertical-align: top;\n",
       "    }\n",
       "\n",
       "    .dataframe thead th {\n",
       "        text-align: right;\n",
       "    }\n",
       "</style>\n",
       "<table border=\"1\" class=\"dataframe\">\n",
       "  <thead>\n",
       "    <tr style=\"text-align: right;\">\n",
       "      <th></th>\n",
       "      <th>building_id</th>\n",
       "      <th>datetime</th>\n",
       "      <th>model</th>\n",
       "    </tr>\n",
       "  </thead>\n",
       "  <tbody>\n",
       "    <tr>\n",
       "      <th>0</th>\n",
       "      <td>True</td>\n",
       "      <td>True</td>\n",
       "      <td>True</td>\n",
       "    </tr>\n",
       "    <tr>\n",
       "      <th>1</th>\n",
       "      <td>True</td>\n",
       "      <td>True</td>\n",
       "      <td>True</td>\n",
       "    </tr>\n",
       "    <tr>\n",
       "      <th>2</th>\n",
       "      <td>True</td>\n",
       "      <td>True</td>\n",
       "      <td>True</td>\n",
       "    </tr>\n",
       "    <tr>\n",
       "      <th>3</th>\n",
       "      <td>True</td>\n",
       "      <td>True</td>\n",
       "      <td>True</td>\n",
       "    </tr>\n",
       "    <tr>\n",
       "      <th>4</th>\n",
       "      <td>True</td>\n",
       "      <td>True</td>\n",
       "      <td>True</td>\n",
       "    </tr>\n",
       "    <tr>\n",
       "      <th>...</th>\n",
       "      <td>...</td>\n",
       "      <td>...</td>\n",
       "      <td>...</td>\n",
       "    </tr>\n",
       "    <tr>\n",
       "      <th>64</th>\n",
       "      <td>True</td>\n",
       "      <td>True</td>\n",
       "      <td>True</td>\n",
       "    </tr>\n",
       "    <tr>\n",
       "      <th>65</th>\n",
       "      <td>True</td>\n",
       "      <td>True</td>\n",
       "      <td>True</td>\n",
       "    </tr>\n",
       "    <tr>\n",
       "      <th>66</th>\n",
       "      <td>True</td>\n",
       "      <td>True</td>\n",
       "      <td>True</td>\n",
       "    </tr>\n",
       "    <tr>\n",
       "      <th>67</th>\n",
       "      <td>True</td>\n",
       "      <td>True</td>\n",
       "      <td>True</td>\n",
       "    </tr>\n",
       "    <tr>\n",
       "      <th>68</th>\n",
       "      <td>True</td>\n",
       "      <td>True</td>\n",
       "      <td>True</td>\n",
       "    </tr>\n",
       "  </tbody>\n",
       "</table>\n",
       "<p>69 rows × 3 columns</p>\n",
       "</div>"
      ],
      "text/plain": [
       "    building_id  datetime  model\n",
       "0          True      True   True\n",
       "1          True      True   True\n",
       "2          True      True   True\n",
       "3          True      True   True\n",
       "4          True      True   True\n",
       "..          ...       ...    ...\n",
       "64         True      True   True\n",
       "65         True      True   True\n",
       "66         True      True   True\n",
       "67         True      True   True\n",
       "68         True      True   True\n",
       "\n",
       "[69 rows x 3 columns]"
      ]
     },
     "execution_count": 45,
     "metadata": {},
     "output_type": "execute_result"
    }
   ],
   "source": [
    "with open('../deployment/mlforecast_model.joblib', 'rb') as file:\n",
    "    loaded_model = joblib.load(file)\n",
    "\n",
    "loaded_model.predict(1) == fcst.predict(1)"
   ]
  },
  {
   "cell_type": "markdown",
   "id": "7a0d459e",
   "metadata": {},
   "source": [
    "# Inference"
   ]
  },
  {
   "cell_type": "markdown",
   "id": "c0a6d8bd",
   "metadata": {},
   "source": [
    "## On DataFrame data"
   ]
  },
  {
   "cell_type": "code",
   "execution_count": 46,
   "id": "4e11313f",
   "metadata": {},
   "outputs": [
    {
     "name": "stdout",
     "output_type": "stream",
     "text": [
      "[LightGBM] [Warning] feature_fraction is set=0.6857592714582879, colsample_bytree=1.0 will be ignored. Current value: feature_fraction=0.6857592714582879\n",
      "[LightGBM] [Warning] feature_fraction is set=0.6857592714582879, colsample_bytree=1.0 will be ignored. Current value: feature_fraction=0.6857592714582879\n",
      "[LightGBM] [Warning] feature_fraction is set=0.6857592714582879, colsample_bytree=1.0 will be ignored. Current value: feature_fraction=0.6857592714582879\n",
      "[LightGBM] [Warning] feature_fraction is set=0.6857592714582879, colsample_bytree=1.0 will be ignored. Current value: feature_fraction=0.6857592714582879\n",
      "[LightGBM] [Warning] feature_fraction is set=0.6857592714582879, colsample_bytree=1.0 will be ignored. Current value: feature_fraction=0.6857592714582879\n",
      "[LightGBM] [Warning] feature_fraction is set=0.6857592714582879, colsample_bytree=1.0 will be ignored. Current value: feature_fraction=0.6857592714582879\n",
      "[LightGBM] [Warning] feature_fraction is set=0.6857592714582879, colsample_bytree=1.0 will be ignored. Current value: feature_fraction=0.6857592714582879\n",
      "[LightGBM] [Warning] feature_fraction is set=0.6857592714582879, colsample_bytree=1.0 will be ignored. Current value: feature_fraction=0.6857592714582879\n",
      "[LightGBM] [Warning] feature_fraction is set=0.6857592714582879, colsample_bytree=1.0 will be ignored. Current value: feature_fraction=0.6857592714582879\n",
      "[LightGBM] [Warning] feature_fraction is set=0.6857592714582879, colsample_bytree=1.0 will be ignored. Current value: feature_fraction=0.6857592714582879\n",
      "[LightGBM] [Warning] feature_fraction is set=0.6857592714582879, colsample_bytree=1.0 will be ignored. Current value: feature_fraction=0.6857592714582879\n",
      "[LightGBM] [Warning] feature_fraction is set=0.6857592714582879, colsample_bytree=1.0 will be ignored. Current value: feature_fraction=0.6857592714582879\n",
      "[LightGBM] [Warning] feature_fraction is set=0.6857592714582879, colsample_bytree=1.0 will be ignored. Current value: feature_fraction=0.6857592714582879\n",
      "[LightGBM] [Warning] feature_fraction is set=0.6857592714582879, colsample_bytree=1.0 will be ignored. Current value: feature_fraction=0.6857592714582879\n",
      "[LightGBM] [Warning] feature_fraction is set=0.6857592714582879, colsample_bytree=1.0 will be ignored. Current value: feature_fraction=0.6857592714582879\n",
      "[LightGBM] [Warning] feature_fraction is set=0.6857592714582879, colsample_bytree=1.0 will be ignored. Current value: feature_fraction=0.6857592714582879\n",
      "[LightGBM] [Warning] feature_fraction is set=0.6857592714582879, colsample_bytree=1.0 will be ignored. Current value: feature_fraction=0.6857592714582879\n",
      "[LightGBM] [Warning] feature_fraction is set=0.6857592714582879, colsample_bytree=1.0 will be ignored. Current value: feature_fraction=0.6857592714582879\n",
      "[LightGBM] [Warning] feature_fraction is set=0.6857592714582879, colsample_bytree=1.0 will be ignored. Current value: feature_fraction=0.6857592714582879\n",
      "[LightGBM] [Warning] feature_fraction is set=0.6857592714582879, colsample_bytree=1.0 will be ignored. Current value: feature_fraction=0.6857592714582879\n",
      "[LightGBM] [Warning] feature_fraction is set=0.6857592714582879, colsample_bytree=1.0 will be ignored. Current value: feature_fraction=0.6857592714582879\n",
      "[LightGBM] [Warning] feature_fraction is set=0.6857592714582879, colsample_bytree=1.0 will be ignored. Current value: feature_fraction=0.6857592714582879\n",
      "[LightGBM] [Warning] feature_fraction is set=0.6857592714582879, colsample_bytree=1.0 will be ignored. Current value: feature_fraction=0.6857592714582879\n",
      "[LightGBM] [Warning] feature_fraction is set=0.6857592714582879, colsample_bytree=1.0 will be ignored. Current value: feature_fraction=0.6857592714582879\n"
     ]
    },
    {
     "data": {
      "text/html": [
       "<div>\n",
       "<style scoped>\n",
       "    .dataframe tbody tr th:only-of-type {\n",
       "        vertical-align: middle;\n",
       "    }\n",
       "\n",
       "    .dataframe tbody tr th {\n",
       "        vertical-align: top;\n",
       "    }\n",
       "\n",
       "    .dataframe thead th {\n",
       "        text-align: right;\n",
       "    }\n",
       "</style>\n",
       "<table border=\"1\" class=\"dataframe\">\n",
       "  <thead>\n",
       "    <tr style=\"text-align: right;\">\n",
       "      <th></th>\n",
       "      <th>building_id</th>\n",
       "      <th>datetime</th>\n",
       "      <th>model</th>\n",
       "    </tr>\n",
       "  </thead>\n",
       "  <tbody>\n",
       "    <tr>\n",
       "      <th>0</th>\n",
       "      <td>0</td>\n",
       "      <td>2023-04-02 00:00:00</td>\n",
       "      <td>1018.648010</td>\n",
       "    </tr>\n",
       "    <tr>\n",
       "      <th>1</th>\n",
       "      <td>0</td>\n",
       "      <td>2023-04-02 01:00:00</td>\n",
       "      <td>982.513590</td>\n",
       "    </tr>\n",
       "    <tr>\n",
       "      <th>2</th>\n",
       "      <td>0</td>\n",
       "      <td>2023-04-02 02:00:00</td>\n",
       "      <td>974.014104</td>\n",
       "    </tr>\n",
       "    <tr>\n",
       "      <th>3</th>\n",
       "      <td>0</td>\n",
       "      <td>2023-04-02 03:00:00</td>\n",
       "      <td>965.600797</td>\n",
       "    </tr>\n",
       "    <tr>\n",
       "      <th>4</th>\n",
       "      <td>0</td>\n",
       "      <td>2023-04-02 04:00:00</td>\n",
       "      <td>960.029375</td>\n",
       "    </tr>\n",
       "    <tr>\n",
       "      <th>...</th>\n",
       "      <td>...</td>\n",
       "      <td>...</td>\n",
       "      <td>...</td>\n",
       "    </tr>\n",
       "    <tr>\n",
       "      <th>1651</th>\n",
       "      <td>68</td>\n",
       "      <td>2022-11-10 19:00:00</td>\n",
       "      <td>86.633929</td>\n",
       "    </tr>\n",
       "    <tr>\n",
       "      <th>1652</th>\n",
       "      <td>68</td>\n",
       "      <td>2022-11-10 20:00:00</td>\n",
       "      <td>78.661577</td>\n",
       "    </tr>\n",
       "    <tr>\n",
       "      <th>1653</th>\n",
       "      <td>68</td>\n",
       "      <td>2022-11-10 21:00:00</td>\n",
       "      <td>71.187151</td>\n",
       "    </tr>\n",
       "    <tr>\n",
       "      <th>1654</th>\n",
       "      <td>68</td>\n",
       "      <td>2022-11-10 22:00:00</td>\n",
       "      <td>59.474685</td>\n",
       "    </tr>\n",
       "    <tr>\n",
       "      <th>1655</th>\n",
       "      <td>68</td>\n",
       "      <td>2022-11-10 23:00:00</td>\n",
       "      <td>48.408205</td>\n",
       "    </tr>\n",
       "  </tbody>\n",
       "</table>\n",
       "<p>1656 rows × 3 columns</p>\n",
       "</div>"
      ],
      "text/plain": [
       "      building_id            datetime        model\n",
       "0               0 2023-04-02 00:00:00  1018.648010\n",
       "1               0 2023-04-02 01:00:00   982.513590\n",
       "2               0 2023-04-02 02:00:00   974.014104\n",
       "3               0 2023-04-02 03:00:00   965.600797\n",
       "4               0 2023-04-02 04:00:00   960.029375\n",
       "...           ...                 ...          ...\n",
       "1651           68 2022-11-10 19:00:00    86.633929\n",
       "1652           68 2022-11-10 20:00:00    78.661577\n",
       "1653           68 2022-11-10 21:00:00    71.187151\n",
       "1654           68 2022-11-10 22:00:00    59.474685\n",
       "1655           68 2022-11-10 23:00:00    48.408205\n",
       "\n",
       "[1656 rows x 3 columns]"
      ]
     },
     "execution_count": 46,
     "metadata": {},
     "output_type": "execute_result"
    }
   ],
   "source": [
    "fcst.predict(24)"
   ]
  },
  {
   "cell_type": "code",
   "execution_count": 47,
   "id": "5c056d00",
   "metadata": {},
   "outputs": [
    {
     "name": "stdout",
     "output_type": "stream",
     "text": [
      "[LightGBM] [Warning] feature_fraction is set=0.6857592714582879, colsample_bytree=1.0 will be ignored. Current value: feature_fraction=0.6857592714582879\n",
      "[LightGBM] [Warning] feature_fraction is set=0.6857592714582879, colsample_bytree=1.0 will be ignored. Current value: feature_fraction=0.6857592714582879\n",
      "[LightGBM] [Warning] feature_fraction is set=0.6857592714582879, colsample_bytree=1.0 will be ignored. Current value: feature_fraction=0.6857592714582879\n",
      "[LightGBM] [Warning] feature_fraction is set=0.6857592714582879, colsample_bytree=1.0 will be ignored. Current value: feature_fraction=0.6857592714582879\n",
      "[LightGBM] [Warning] feature_fraction is set=0.6857592714582879, colsample_bytree=1.0 will be ignored. Current value: feature_fraction=0.6857592714582879\n",
      "[LightGBM] [Warning] feature_fraction is set=0.6857592714582879, colsample_bytree=1.0 will be ignored. Current value: feature_fraction=0.6857592714582879\n",
      "[LightGBM] [Warning] feature_fraction is set=0.6857592714582879, colsample_bytree=1.0 will be ignored. Current value: feature_fraction=0.6857592714582879\n",
      "[LightGBM] [Warning] feature_fraction is set=0.6857592714582879, colsample_bytree=1.0 will be ignored. Current value: feature_fraction=0.6857592714582879\n",
      "[LightGBM] [Warning] feature_fraction is set=0.6857592714582879, colsample_bytree=1.0 will be ignored. Current value: feature_fraction=0.6857592714582879\n",
      "[LightGBM] [Warning] feature_fraction is set=0.6857592714582879, colsample_bytree=1.0 will be ignored. Current value: feature_fraction=0.6857592714582879\n",
      "[LightGBM] [Warning] feature_fraction is set=0.6857592714582879, colsample_bytree=1.0 will be ignored. Current value: feature_fraction=0.6857592714582879\n",
      "[LightGBM] [Warning] feature_fraction is set=0.6857592714582879, colsample_bytree=1.0 will be ignored. Current value: feature_fraction=0.6857592714582879\n",
      "[LightGBM] [Warning] feature_fraction is set=0.6857592714582879, colsample_bytree=1.0 will be ignored. Current value: feature_fraction=0.6857592714582879\n",
      "[LightGBM] [Warning] feature_fraction is set=0.6857592714582879, colsample_bytree=1.0 will be ignored. Current value: feature_fraction=0.6857592714582879\n",
      "[LightGBM] [Warning] feature_fraction is set=0.6857592714582879, colsample_bytree=1.0 will be ignored. Current value: feature_fraction=0.6857592714582879\n",
      "[LightGBM] [Warning] feature_fraction is set=0.6857592714582879, colsample_bytree=1.0 will be ignored. Current value: feature_fraction=0.6857592714582879\n",
      "[LightGBM] [Warning] feature_fraction is set=0.6857592714582879, colsample_bytree=1.0 will be ignored. Current value: feature_fraction=0.6857592714582879\n",
      "[LightGBM] [Warning] feature_fraction is set=0.6857592714582879, colsample_bytree=1.0 will be ignored. Current value: feature_fraction=0.6857592714582879\n",
      "[LightGBM] [Warning] feature_fraction is set=0.6857592714582879, colsample_bytree=1.0 will be ignored. Current value: feature_fraction=0.6857592714582879\n",
      "[LightGBM] [Warning] feature_fraction is set=0.6857592714582879, colsample_bytree=1.0 will be ignored. Current value: feature_fraction=0.6857592714582879\n",
      "[LightGBM] [Warning] feature_fraction is set=0.6857592714582879, colsample_bytree=1.0 will be ignored. Current value: feature_fraction=0.6857592714582879\n",
      "[LightGBM] [Warning] feature_fraction is set=0.6857592714582879, colsample_bytree=1.0 will be ignored. Current value: feature_fraction=0.6857592714582879\n",
      "[LightGBM] [Warning] feature_fraction is set=0.6857592714582879, colsample_bytree=1.0 will be ignored. Current value: feature_fraction=0.6857592714582879\n",
      "[LightGBM] [Warning] feature_fraction is set=0.6857592714582879, colsample_bytree=1.0 will be ignored. Current value: feature_fraction=0.6857592714582879\n"
     ]
    },
    {
     "data": {
      "text/html": [
       "<div>\n",
       "<style scoped>\n",
       "    .dataframe tbody tr th:only-of-type {\n",
       "        vertical-align: middle;\n",
       "    }\n",
       "\n",
       "    .dataframe tbody tr th {\n",
       "        vertical-align: top;\n",
       "    }\n",
       "\n",
       "    .dataframe thead th {\n",
       "        text-align: right;\n",
       "    }\n",
       "</style>\n",
       "<table border=\"1\" class=\"dataframe\">\n",
       "  <thead>\n",
       "    <tr style=\"text-align: right;\">\n",
       "      <th></th>\n",
       "      <th>building_id</th>\n",
       "      <th>datetime</th>\n",
       "      <th>model</th>\n",
       "    </tr>\n",
       "  </thead>\n",
       "  <tbody>\n",
       "    <tr>\n",
       "      <th>0</th>\n",
       "      <td>0</td>\n",
       "      <td>2023-04-02 01:00:00</td>\n",
       "      <td>949.890258</td>\n",
       "    </tr>\n",
       "    <tr>\n",
       "      <th>1</th>\n",
       "      <td>0</td>\n",
       "      <td>2023-04-02 02:00:00</td>\n",
       "      <td>944.953531</td>\n",
       "    </tr>\n",
       "    <tr>\n",
       "      <th>2</th>\n",
       "      <td>0</td>\n",
       "      <td>2023-04-02 03:00:00</td>\n",
       "      <td>937.299366</td>\n",
       "    </tr>\n",
       "    <tr>\n",
       "      <th>3</th>\n",
       "      <td>0</td>\n",
       "      <td>2023-04-02 04:00:00</td>\n",
       "      <td>932.727657</td>\n",
       "    </tr>\n",
       "    <tr>\n",
       "      <th>4</th>\n",
       "      <td>0</td>\n",
       "      <td>2023-04-02 05:00:00</td>\n",
       "      <td>933.921204</td>\n",
       "    </tr>\n",
       "    <tr>\n",
       "      <th>...</th>\n",
       "      <td>...</td>\n",
       "      <td>...</td>\n",
       "      <td>...</td>\n",
       "    </tr>\n",
       "    <tr>\n",
       "      <th>1651</th>\n",
       "      <td>68</td>\n",
       "      <td>2022-11-10 20:00:00</td>\n",
       "      <td>78.661577</td>\n",
       "    </tr>\n",
       "    <tr>\n",
       "      <th>1652</th>\n",
       "      <td>68</td>\n",
       "      <td>2022-11-10 21:00:00</td>\n",
       "      <td>71.187151</td>\n",
       "    </tr>\n",
       "    <tr>\n",
       "      <th>1653</th>\n",
       "      <td>68</td>\n",
       "      <td>2022-11-10 22:00:00</td>\n",
       "      <td>59.474685</td>\n",
       "    </tr>\n",
       "    <tr>\n",
       "      <th>1654</th>\n",
       "      <td>68</td>\n",
       "      <td>2022-11-10 23:00:00</td>\n",
       "      <td>48.408205</td>\n",
       "    </tr>\n",
       "    <tr>\n",
       "      <th>1655</th>\n",
       "      <td>68</td>\n",
       "      <td>2022-11-11 00:00:00</td>\n",
       "      <td>41.683696</td>\n",
       "    </tr>\n",
       "  </tbody>\n",
       "</table>\n",
       "<p>1656 rows × 3 columns</p>\n",
       "</div>"
      ],
      "text/plain": [
       "      building_id            datetime       model\n",
       "0               0 2023-04-02 01:00:00  949.890258\n",
       "1               0 2023-04-02 02:00:00  944.953531\n",
       "2               0 2023-04-02 03:00:00  937.299366\n",
       "3               0 2023-04-02 04:00:00  932.727657\n",
       "4               0 2023-04-02 05:00:00  933.921204\n",
       "...           ...                 ...         ...\n",
       "1651           68 2022-11-10 20:00:00   78.661577\n",
       "1652           68 2022-11-10 21:00:00   71.187151\n",
       "1653           68 2022-11-10 22:00:00   59.474685\n",
       "1654           68 2022-11-10 23:00:00   48.408205\n",
       "1655           68 2022-11-11 00:00:00   41.683696\n",
       "\n",
       "[1656 rows x 3 columns]"
      ]
     },
     "execution_count": 47,
     "metadata": {},
     "output_type": "execute_result"
    }
   ],
   "source": [
    "input_data = df_test.groupby(\"building_id\").head(1)\n",
    "fcst.update(input_data)\n",
    "predictions = fcst.predict(24)\n",
    "predictions"
   ]
  },
  {
   "cell_type": "code",
   "execution_count": 48,
   "id": "3d7c92d7",
   "metadata": {},
   "outputs": [
    {
     "name": "stderr",
     "output_type": "stream",
     "text": [
      "C:\\Users\\gabriel.chehade\\AppData\\Local\\Temp\\ipykernel_24548\\669197008.py:1: SettingWithCopyWarning: \n",
      "A value is trying to be set on a copy of a slice from a DataFrame.\n",
      "Try using .loc[row_indexer,col_indexer] = value instead\n",
      "\n",
      "See the caveats in the documentation: https://pandas.pydata.org/pandas-docs/stable/user_guide/indexing.html#returning-a-view-versus-a-copy\n",
      "  input_data[\"datetime\"] = input_data[\"datetime\"].astype(\"string\")\n"
     ]
    },
    {
     "data": {
      "text/plain": [
       "'2023-04-02'"
      ]
     },
     "execution_count": 48,
     "metadata": {},
     "output_type": "execute_result"
    }
   ],
   "source": [
    "input_data[\"datetime\"] = input_data[\"datetime\"].astype(\"string\")\n",
    "input_data.loc[input_data[\"building_id\"] == 0, \"datetime\"].values[0]"
   ]
  },
  {
   "cell_type": "code",
   "execution_count": 49,
   "id": "0aca56b5",
   "metadata": {},
   "outputs": [],
   "source": [
    "output = []\n",
    "for building_id in predictions[\"building_id\"].unique():\n",
    "    output.append(\n",
    "        {\n",
    "            \"building_id\": int(building_id),\n",
    "            \"datetime\": input_data.loc[input_data[\"building_id\"] == building_id, \"datetime\"].values[0],\n",
    "            \"forecasts\": predictions.loc[predictions[\"building_id\"] == 0, \"model\"].to_list(),\n",
    "        }\n",
    "    )"
   ]
  },
  {
   "cell_type": "code",
   "execution_count": 50,
   "id": "3f8b6577",
   "metadata": {},
   "outputs": [
    {
     "name": "stdout",
     "output_type": "stream",
     "text": [
      "[\n",
      "    {\n",
      "        \"building_id\": 0,\n",
      "        \"datetime\": \"2023-04-02\",\n",
      "        \"forecasts\": [\n",
      "            949.8902581149754,\n",
      "            944.9535307816661,\n",
      "            937.2993656442748,\n",
      "            932.7276572865806,\n",
      "            933.9212041167327,\n",
      "            924.7042518995202,\n",
      "            886.8520554726454,\n",
      "            771.2090808192432,\n",
      "            568.2658631644154,\n",
      "            398.60904031591525,\n",
      "            307.72055197078515,\n",
      "            240.9340544559327,\n",
      "            229.14627351564278,\n",
      "   \n"
     ]
    }
   ],
   "source": [
    "output_json = json.dumps(output, indent=4)\n",
    "print(output_json[:500])"
   ]
  },
  {
   "cell_type": "code",
   "execution_count": 51,
   "id": "2466580c",
   "metadata": {},
   "outputs": [],
   "source": [
    "# input_data.join(predictions.set_index(\"building_id\"), on=[\"building_id\"], rsuffix=\"_pred\")"
   ]
  },
  {
   "cell_type": "markdown",
   "id": "7340da6e",
   "metadata": {},
   "source": [
    "## On json data"
   ]
  },
  {
   "cell_type": "markdown",
   "id": "c59ce36f",
   "metadata": {},
   "source": [
    "Let's reformat the input data in json format from the DataFrame"
   ]
  },
  {
   "cell_type": "code",
   "execution_count": 52,
   "id": "4056fa5b",
   "metadata": {},
   "outputs": [
    {
     "name": "stdout",
     "output_type": "stream",
     "text": [
      "[\n",
      "    {\n",
      "        \"building_id\":68,\n",
      "        \"datetime\":\"2022-11-10 01:00:00\",\n",
      "        \"consumption\":28.02\n",
      "    },\n",
      "    {\n",
      "        \"building_id\":47,\n",
      "        \"datetime\":\"2022-11-15 01:00:00\",\n",
      "        \"consumption\":10.453\n",
      "    },\n",
      "    {\n",
      "        \"building_id\":41,\n",
      "        \"datetime\":\"2023-01-03 01:00:00\",\n",
      "        \"consumption\":20.887\n",
      "    },\n",
      "    {\n",
      "        \"building_id\":26,\n",
      "        \"datetime\":\"2023-01-16 01:00:\n"
     ]
    }
   ],
   "source": [
    "input_data = df_test.groupby(\"building_id\").head(2).groupby(\"building_id\").tail(1)\n",
    "input_data[\"datetime\"] = input_data[\"datetime\"].astype(\"string\")\n",
    "data_json = input_data.to_json(orient=\"records\", indent=4)\n",
    "print(data_json[:400])"
   ]
  },
  {
   "cell_type": "markdown",
   "id": "e10ef94f",
   "metadata": {},
   "source": [
    "Create a ``data`` field that holds the data"
   ]
  },
  {
   "cell_type": "code",
   "execution_count": 53,
   "id": "5a3d3136",
   "metadata": {},
   "outputs": [
    {
     "name": "stdout",
     "output_type": "stream",
     "text": [
      "{\n",
      "    \"data\": [\n",
      "        {\n",
      "            \"building_id\": 68,\n",
      "            \"datetime\": \"2022-11-10 01:00:00\",\n",
      "            \"consumption\": 28.02\n",
      "        },\n",
      "        {\n",
      "            \"building_id\": 47,\n",
      "            \"datetime\": \"2022-11-15 01:00:00\",\n",
      "            \"consumption\": 10.453\n",
      "        },\n",
      "        {\n",
      "            \"building_id\": 41,\n",
      "            \"datetime\": \"2023-01-03 01:00:00\",\n",
      "            \"consumption\": 20.887\n",
      "        },\n",
      "        {\n",
      "            \"building_id\": 26,\n",
      "            \"datetime\": \"2023-01-16 01:00:00\"\n"
     ]
    }
   ],
   "source": [
    "data_dict = {\"data\": json.loads(data_json)}\n",
    "data_json = json.dumps(data_dict, indent=4)\n",
    "print(data_json[:500])"
   ]
  },
  {
   "cell_type": "code",
   "execution_count": 54,
   "id": "fe04d2b4",
   "metadata": {},
   "outputs": [
    {
     "data": {
      "text/html": [
       "<div>\n",
       "<style scoped>\n",
       "    .dataframe tbody tr th:only-of-type {\n",
       "        vertical-align: middle;\n",
       "    }\n",
       "\n",
       "    .dataframe tbody tr th {\n",
       "        vertical-align: top;\n",
       "    }\n",
       "\n",
       "    .dataframe thead th {\n",
       "        text-align: right;\n",
       "    }\n",
       "</style>\n",
       "<table border=\"1\" class=\"dataframe\">\n",
       "  <thead>\n",
       "    <tr style=\"text-align: right;\">\n",
       "      <th></th>\n",
       "      <th>building_id</th>\n",
       "      <th>datetime</th>\n",
       "      <th>consumption</th>\n",
       "    </tr>\n",
       "  </thead>\n",
       "  <tbody>\n",
       "    <tr>\n",
       "      <th>0</th>\n",
       "      <td>68</td>\n",
       "      <td>2022-11-10 01:00:00</td>\n",
       "      <td>28.020</td>\n",
       "    </tr>\n",
       "    <tr>\n",
       "      <th>1</th>\n",
       "      <td>47</td>\n",
       "      <td>2022-11-15 01:00:00</td>\n",
       "      <td>10.453</td>\n",
       "    </tr>\n",
       "    <tr>\n",
       "      <th>2</th>\n",
       "      <td>41</td>\n",
       "      <td>2023-01-03 01:00:00</td>\n",
       "      <td>20.887</td>\n",
       "    </tr>\n",
       "    <tr>\n",
       "      <th>3</th>\n",
       "      <td>26</td>\n",
       "      <td>2023-01-16 01:00:00</td>\n",
       "      <td>3.123</td>\n",
       "    </tr>\n",
       "    <tr>\n",
       "      <th>4</th>\n",
       "      <td>44</td>\n",
       "      <td>2023-03-14 01:00:00</td>\n",
       "      <td>3.180</td>\n",
       "    </tr>\n",
       "    <tr>\n",
       "      <th>...</th>\n",
       "      <td>...</td>\n",
       "      <td>...</td>\n",
       "      <td>...</td>\n",
       "    </tr>\n",
       "    <tr>\n",
       "      <th>64</th>\n",
       "      <td>57</td>\n",
       "      <td>2023-04-02 01:00:00</td>\n",
       "      <td>72.128</td>\n",
       "    </tr>\n",
       "    <tr>\n",
       "      <th>65</th>\n",
       "      <td>58</td>\n",
       "      <td>2023-04-02 01:00:00</td>\n",
       "      <td>154.896</td>\n",
       "    </tr>\n",
       "    <tr>\n",
       "      <th>66</th>\n",
       "      <td>64</td>\n",
       "      <td>2023-04-02 01:00:00</td>\n",
       "      <td>208.882</td>\n",
       "    </tr>\n",
       "    <tr>\n",
       "      <th>67</th>\n",
       "      <td>59</td>\n",
       "      <td>2023-04-02 01:00:00</td>\n",
       "      <td>73.703</td>\n",
       "    </tr>\n",
       "    <tr>\n",
       "      <th>68</th>\n",
       "      <td>60</td>\n",
       "      <td>2023-04-02 01:00:00</td>\n",
       "      <td>230.022</td>\n",
       "    </tr>\n",
       "  </tbody>\n",
       "</table>\n",
       "<p>69 rows × 3 columns</p>\n",
       "</div>"
      ],
      "text/plain": [
       "    building_id             datetime  consumption\n",
       "0            68  2022-11-10 01:00:00       28.020\n",
       "1            47  2022-11-15 01:00:00       10.453\n",
       "2            41  2023-01-03 01:00:00       20.887\n",
       "3            26  2023-01-16 01:00:00        3.123\n",
       "4            44  2023-03-14 01:00:00        3.180\n",
       "..          ...                  ...          ...\n",
       "64           57  2023-04-02 01:00:00       72.128\n",
       "65           58  2023-04-02 01:00:00      154.896\n",
       "66           64  2023-04-02 01:00:00      208.882\n",
       "67           59  2023-04-02 01:00:00       73.703\n",
       "68           60  2023-04-02 01:00:00      230.022\n",
       "\n",
       "[69 rows x 3 columns]"
      ]
     },
     "execution_count": 54,
     "metadata": {},
     "output_type": "execute_result"
    }
   ],
   "source": [
    "input_data = pd.DataFrame(json.loads(data_json)[\"data\"])\n",
    "input_data"
   ]
  },
  {
   "cell_type": "markdown",
   "id": "0ec465fd",
   "metadata": {},
   "source": [
    "Save json data"
   ]
  },
  {
   "cell_type": "code",
   "execution_count": 55,
   "id": "2ed4bade",
   "metadata": {},
   "outputs": [],
   "source": [
    "with open(\"../deployment/data_json_mlforecast.json\", \"w\") as file:\n",
    "    json.dump(data_dict, file, indent=4)"
   ]
  },
  {
   "cell_type": "code",
   "execution_count": 56,
   "id": "3184c0a0",
   "metadata": {},
   "outputs": [],
   "source": [
    "with open(\"../deployment/data_json_mlforecast.json\", \"r\") as file:\n",
    "    loaded_data = json.load(file)"
   ]
  },
  {
   "cell_type": "code",
   "execution_count": 57,
   "id": "2baf42f9",
   "metadata": {},
   "outputs": [
    {
     "data": {
      "text/html": [
       "<div>\n",
       "<style scoped>\n",
       "    .dataframe tbody tr th:only-of-type {\n",
       "        vertical-align: middle;\n",
       "    }\n",
       "\n",
       "    .dataframe tbody tr th {\n",
       "        vertical-align: top;\n",
       "    }\n",
       "\n",
       "    .dataframe thead th {\n",
       "        text-align: right;\n",
       "    }\n",
       "</style>\n",
       "<table border=\"1\" class=\"dataframe\">\n",
       "  <thead>\n",
       "    <tr style=\"text-align: right;\">\n",
       "      <th></th>\n",
       "      <th>building_id</th>\n",
       "      <th>datetime</th>\n",
       "      <th>consumption</th>\n",
       "    </tr>\n",
       "  </thead>\n",
       "  <tbody>\n",
       "    <tr>\n",
       "      <th>0</th>\n",
       "      <td>68</td>\n",
       "      <td>2022-11-10 01:00:00</td>\n",
       "      <td>28.020</td>\n",
       "    </tr>\n",
       "    <tr>\n",
       "      <th>1</th>\n",
       "      <td>47</td>\n",
       "      <td>2022-11-15 01:00:00</td>\n",
       "      <td>10.453</td>\n",
       "    </tr>\n",
       "    <tr>\n",
       "      <th>2</th>\n",
       "      <td>41</td>\n",
       "      <td>2023-01-03 01:00:00</td>\n",
       "      <td>20.887</td>\n",
       "    </tr>\n",
       "    <tr>\n",
       "      <th>3</th>\n",
       "      <td>26</td>\n",
       "      <td>2023-01-16 01:00:00</td>\n",
       "      <td>3.123</td>\n",
       "    </tr>\n",
       "    <tr>\n",
       "      <th>4</th>\n",
       "      <td>44</td>\n",
       "      <td>2023-03-14 01:00:00</td>\n",
       "      <td>3.180</td>\n",
       "    </tr>\n",
       "    <tr>\n",
       "      <th>...</th>\n",
       "      <td>...</td>\n",
       "      <td>...</td>\n",
       "      <td>...</td>\n",
       "    </tr>\n",
       "    <tr>\n",
       "      <th>64</th>\n",
       "      <td>57</td>\n",
       "      <td>2023-04-02 01:00:00</td>\n",
       "      <td>72.128</td>\n",
       "    </tr>\n",
       "    <tr>\n",
       "      <th>65</th>\n",
       "      <td>58</td>\n",
       "      <td>2023-04-02 01:00:00</td>\n",
       "      <td>154.896</td>\n",
       "    </tr>\n",
       "    <tr>\n",
       "      <th>66</th>\n",
       "      <td>64</td>\n",
       "      <td>2023-04-02 01:00:00</td>\n",
       "      <td>208.882</td>\n",
       "    </tr>\n",
       "    <tr>\n",
       "      <th>67</th>\n",
       "      <td>59</td>\n",
       "      <td>2023-04-02 01:00:00</td>\n",
       "      <td>73.703</td>\n",
       "    </tr>\n",
       "    <tr>\n",
       "      <th>68</th>\n",
       "      <td>60</td>\n",
       "      <td>2023-04-02 01:00:00</td>\n",
       "      <td>230.022</td>\n",
       "    </tr>\n",
       "  </tbody>\n",
       "</table>\n",
       "<p>69 rows × 3 columns</p>\n",
       "</div>"
      ],
      "text/plain": [
       "    building_id             datetime  consumption\n",
       "0            68  2022-11-10 01:00:00       28.020\n",
       "1            47  2022-11-15 01:00:00       10.453\n",
       "2            41  2023-01-03 01:00:00       20.887\n",
       "3            26  2023-01-16 01:00:00        3.123\n",
       "4            44  2023-03-14 01:00:00        3.180\n",
       "..          ...                  ...          ...\n",
       "64           57  2023-04-02 01:00:00       72.128\n",
       "65           58  2023-04-02 01:00:00      154.896\n",
       "66           64  2023-04-02 01:00:00      208.882\n",
       "67           59  2023-04-02 01:00:00       73.703\n",
       "68           60  2023-04-02 01:00:00      230.022\n",
       "\n",
       "[69 rows x 3 columns]"
      ]
     },
     "execution_count": 57,
     "metadata": {},
     "output_type": "execute_result"
    }
   ],
   "source": [
    "input_data = pd.DataFrame(loaded_data[\"data\"])\n",
    "input_data"
   ]
  },
  {
   "cell_type": "code",
   "execution_count": 58,
   "id": "eb8a4806",
   "metadata": {},
   "outputs": [
    {
     "data": {
      "text/plain": [
       "building_id      int64\n",
       "datetime        object\n",
       "consumption    float64\n",
       "dtype: object"
      ]
     },
     "execution_count": 58,
     "metadata": {},
     "output_type": "execute_result"
    }
   ],
   "source": [
    "input_data.dtypes"
   ]
  },
  {
   "cell_type": "code",
   "execution_count": 59,
   "id": "07b5e893",
   "metadata": {},
   "outputs": [
    {
     "data": {
      "text/plain": [
       "building_id             int64\n",
       "datetime       datetime64[ns]\n",
       "consumption           float64\n",
       "dtype: object"
      ]
     },
     "execution_count": 59,
     "metadata": {},
     "output_type": "execute_result"
    }
   ],
   "source": [
    "# input_data[\"datetime\"] = pd.to_datetime(input_data[\"datetime\"], unit=\"ms\")  # if in 'epoch' format\n",
    "datetimes = input_data.drop(columns=[\"consumption\"])\n",
    "input_data[\"datetime\"] = pd.to_datetime(input_data[\"datetime\"])  # if in 'iso'\n",
    "input_data\n",
    "input_data.dtypes"
   ]
  },
  {
   "cell_type": "code",
   "execution_count": 60,
   "id": "dc92b08c",
   "metadata": {},
   "outputs": [
    {
     "name": "stdout",
     "output_type": "stream",
     "text": [
      "[LightGBM] [Warning] feature_fraction is set=0.6857592714582879, colsample_bytree=1.0 will be ignored. Current value: feature_fraction=0.6857592714582879\n"
     ]
    },
    {
     "name": "stdout",
     "output_type": "stream",
     "text": [
      "[LightGBM] [Warning] feature_fraction is set=0.6857592714582879, colsample_bytree=1.0 will be ignored. Current value: feature_fraction=0.6857592714582879\n",
      "[LightGBM] [Warning] feature_fraction is set=0.6857592714582879, colsample_bytree=1.0 will be ignored. Current value: feature_fraction=0.6857592714582879\n",
      "[LightGBM] [Warning] feature_fraction is set=0.6857592714582879, colsample_bytree=1.0 will be ignored. Current value: feature_fraction=0.6857592714582879\n",
      "[LightGBM] [Warning] feature_fraction is set=0.6857592714582879, colsample_bytree=1.0 will be ignored. Current value: feature_fraction=0.6857592714582879\n",
      "[LightGBM] [Warning] feature_fraction is set=0.6857592714582879, colsample_bytree=1.0 will be ignored. Current value: feature_fraction=0.6857592714582879\n",
      "[LightGBM] [Warning] feature_fraction is set=0.6857592714582879, colsample_bytree=1.0 will be ignored. Current value: feature_fraction=0.6857592714582879\n",
      "[LightGBM] [Warning] feature_fraction is set=0.6857592714582879, colsample_bytree=1.0 will be ignored. Current value: feature_fraction=0.6857592714582879\n",
      "[LightGBM] [Warning] feature_fraction is set=0.6857592714582879, colsample_bytree=1.0 will be ignored. Current value: feature_fraction=0.6857592714582879\n",
      "[LightGBM] [Warning] feature_fraction is set=0.6857592714582879, colsample_bytree=1.0 will be ignored. Current value: feature_fraction=0.6857592714582879\n",
      "[LightGBM] [Warning] feature_fraction is set=0.6857592714582879, colsample_bytree=1.0 will be ignored. Current value: feature_fraction=0.6857592714582879\n",
      "[LightGBM] [Warning] feature_fraction is set=0.6857592714582879, colsample_bytree=1.0 will be ignored. Current value: feature_fraction=0.6857592714582879\n",
      "[LightGBM] [Warning] feature_fraction is set=0.6857592714582879, colsample_bytree=1.0 will be ignored. Current value: feature_fraction=0.6857592714582879\n",
      "[LightGBM] [Warning] feature_fraction is set=0.6857592714582879, colsample_bytree=1.0 will be ignored. Current value: feature_fraction=0.6857592714582879\n",
      "[LightGBM] [Warning] feature_fraction is set=0.6857592714582879, colsample_bytree=1.0 will be ignored. Current value: feature_fraction=0.6857592714582879\n",
      "[LightGBM] [Warning] feature_fraction is set=0.6857592714582879, colsample_bytree=1.0 will be ignored. Current value: feature_fraction=0.6857592714582879\n",
      "[LightGBM] [Warning] feature_fraction is set=0.6857592714582879, colsample_bytree=1.0 will be ignored. Current value: feature_fraction=0.6857592714582879\n",
      "[LightGBM] [Warning] feature_fraction is set=0.6857592714582879, colsample_bytree=1.0 will be ignored. Current value: feature_fraction=0.6857592714582879\n",
      "[LightGBM] [Warning] feature_fraction is set=0.6857592714582879, colsample_bytree=1.0 will be ignored. Current value: feature_fraction=0.6857592714582879\n",
      "[LightGBM] [Warning] feature_fraction is set=0.6857592714582879, colsample_bytree=1.0 will be ignored. Current value: feature_fraction=0.6857592714582879\n",
      "[LightGBM] [Warning] feature_fraction is set=0.6857592714582879, colsample_bytree=1.0 will be ignored. Current value: feature_fraction=0.6857592714582879\n",
      "[LightGBM] [Warning] feature_fraction is set=0.6857592714582879, colsample_bytree=1.0 will be ignored. Current value: feature_fraction=0.6857592714582879\n",
      "[LightGBM] [Warning] feature_fraction is set=0.6857592714582879, colsample_bytree=1.0 will be ignored. Current value: feature_fraction=0.6857592714582879\n",
      "[LightGBM] [Warning] feature_fraction is set=0.6857592714582879, colsample_bytree=1.0 will be ignored. Current value: feature_fraction=0.6857592714582879\n"
     ]
    },
    {
     "data": {
      "text/html": [
       "<div>\n",
       "<style scoped>\n",
       "    .dataframe tbody tr th:only-of-type {\n",
       "        vertical-align: middle;\n",
       "    }\n",
       "\n",
       "    .dataframe tbody tr th {\n",
       "        vertical-align: top;\n",
       "    }\n",
       "\n",
       "    .dataframe thead th {\n",
       "        text-align: right;\n",
       "    }\n",
       "</style>\n",
       "<table border=\"1\" class=\"dataframe\">\n",
       "  <thead>\n",
       "    <tr style=\"text-align: right;\">\n",
       "      <th></th>\n",
       "      <th>building_id</th>\n",
       "      <th>datetime</th>\n",
       "      <th>model</th>\n",
       "    </tr>\n",
       "  </thead>\n",
       "  <tbody>\n",
       "    <tr>\n",
       "      <th>0</th>\n",
       "      <td>0</td>\n",
       "      <td>2023-04-02 02:00:00</td>\n",
       "      <td>934.808960</td>\n",
       "    </tr>\n",
       "    <tr>\n",
       "      <th>1</th>\n",
       "      <td>0</td>\n",
       "      <td>2023-04-02 03:00:00</td>\n",
       "      <td>927.154795</td>\n",
       "    </tr>\n",
       "    <tr>\n",
       "      <th>2</th>\n",
       "      <td>0</td>\n",
       "      <td>2023-04-02 04:00:00</td>\n",
       "      <td>918.283115</td>\n",
       "    </tr>\n",
       "    <tr>\n",
       "      <th>3</th>\n",
       "      <td>0</td>\n",
       "      <td>2023-04-02 05:00:00</td>\n",
       "      <td>919.476662</td>\n",
       "    </tr>\n",
       "    <tr>\n",
       "      <th>4</th>\n",
       "      <td>0</td>\n",
       "      <td>2023-04-02 06:00:00</td>\n",
       "      <td>910.259709</td>\n",
       "    </tr>\n",
       "    <tr>\n",
       "      <th>...</th>\n",
       "      <td>...</td>\n",
       "      <td>...</td>\n",
       "      <td>...</td>\n",
       "    </tr>\n",
       "    <tr>\n",
       "      <th>1651</th>\n",
       "      <td>68</td>\n",
       "      <td>2022-11-10 21:00:00</td>\n",
       "      <td>71.187151</td>\n",
       "    </tr>\n",
       "    <tr>\n",
       "      <th>1652</th>\n",
       "      <td>68</td>\n",
       "      <td>2022-11-10 22:00:00</td>\n",
       "      <td>59.474685</td>\n",
       "    </tr>\n",
       "    <tr>\n",
       "      <th>1653</th>\n",
       "      <td>68</td>\n",
       "      <td>2022-11-10 23:00:00</td>\n",
       "      <td>48.408205</td>\n",
       "    </tr>\n",
       "    <tr>\n",
       "      <th>1654</th>\n",
       "      <td>68</td>\n",
       "      <td>2022-11-11 00:00:00</td>\n",
       "      <td>41.683696</td>\n",
       "    </tr>\n",
       "    <tr>\n",
       "      <th>1655</th>\n",
       "      <td>68</td>\n",
       "      <td>2022-11-11 01:00:00</td>\n",
       "      <td>37.839339</td>\n",
       "    </tr>\n",
       "  </tbody>\n",
       "</table>\n",
       "<p>1656 rows × 3 columns</p>\n",
       "</div>"
      ],
      "text/plain": [
       "      building_id            datetime       model\n",
       "0               0 2023-04-02 02:00:00  934.808960\n",
       "1               0 2023-04-02 03:00:00  927.154795\n",
       "2               0 2023-04-02 04:00:00  918.283115\n",
       "3               0 2023-04-02 05:00:00  919.476662\n",
       "4               0 2023-04-02 06:00:00  910.259709\n",
       "...           ...                 ...         ...\n",
       "1651           68 2022-11-10 21:00:00   71.187151\n",
       "1652           68 2022-11-10 22:00:00   59.474685\n",
       "1653           68 2022-11-10 23:00:00   48.408205\n",
       "1654           68 2022-11-11 00:00:00   41.683696\n",
       "1655           68 2022-11-11 01:00:00   37.839339\n",
       "\n",
       "[1656 rows x 3 columns]"
      ]
     },
     "execution_count": 60,
     "metadata": {},
     "output_type": "execute_result"
    }
   ],
   "source": [
    "fcst.update(input_data)\n",
    "predictions = fcst.predict(24)\n",
    "predictions"
   ]
  },
  {
   "cell_type": "code",
   "execution_count": 61,
   "id": "281f7054",
   "metadata": {},
   "outputs": [],
   "source": [
    "output = []\n",
    "for building_id in predictions[\"building_id\"].unique():\n",
    "    output.append(\n",
    "        {\n",
    "            \"building_id\": int(building_id),\n",
    "            \"datetime\": datetimes.loc[datetimes[\"building_id\"] == building_id, \"datetime\"].values[0],\n",
    "            \"forecasts\": predictions.loc[predictions[\"building_id\"] == building_id, \"model\"].to_list(),\n",
    "        }\n",
    "    )"
   ]
  },
  {
   "cell_type": "code",
   "execution_count": 62,
   "id": "39c0429a",
   "metadata": {},
   "outputs": [
    {
     "name": "stdout",
     "output_type": "stream",
     "text": [
      "[\n",
      "    {\n",
      "        \"building_id\": 0,\n",
      "        \"datetime\": \"2023-04-02 01:00:00\",\n",
      "        \"forecasts\": [\n",
      "            934.8089598131903,\n",
      "            927.1547946757989,\n",
      "            918.2831147202858,\n",
      "            919.4766615504379,\n",
      "            910.2597093332254,\n",
      "            871.7239108249272,\n",
      "            744.8209197276753,\n",
      "            553.5063776598045,\n",
      "            392.29275367037565,\n",
      "            307.2543318964081,\n",
      "            242.79173472015745,\n",
      "            231.78524241636885,\n",
      "            240.92326520985213,\n",
      "            278.5958106682852,\n",
      "            351.7306320502672,\n",
      "            500.3361883023582,\n",
      "            761.3913397094235,\n",
      "            958.5858283338631,\n",
      "            1088.7908245165563,\n",
      "            1130.0601012391849,\n",
      "            1096.6522369491977,\n",
      "            1028.7695985501118,\n",
      "            987.8557784881514,\n",
      "            976.7136764618655\n",
      "        ]\n",
      "    },\n",
      "    {\n",
      "        \"building_id\": 1,\n",
      "        \"datetime\": \"2023-04-02 01:00:00\",\n",
      "        \"forecasts\": [\n",
      "            14.474451842668007,\n",
      "  \n"
     ]
    }
   ],
   "source": [
    "output_json = json.dumps(output, indent=4)\n",
    "print(output_json[:1000])"
   ]
  },
  {
   "cell_type": "markdown",
   "id": "3b0844e3",
   "metadata": {},
   "source": [
    "Create a ``prediction`` field that holdatetime the predictions"
   ]
  },
  {
   "cell_type": "code",
   "execution_count": 63,
   "id": "0758b7a9",
   "metadata": {},
   "outputs": [
    {
     "name": "stdout",
     "output_type": "stream",
     "text": [
      "{\n",
      "    \"predictions\": [\n",
      "        {\n",
      "            \"building_id\": 0,\n",
      "            \"datetime\": \"2023-04-02 01:00:00\",\n",
      "            \"forecasts\": [\n",
      "                934.8089598131903,\n",
      "                927.1547946757989,\n",
      "                918.2831147202858,\n",
      "                919.4766615504379,\n",
      "                910.2597093332254,\n",
      "                871.7239108249272,\n",
      "                744.8209197276753,\n",
      "                553.5063776598045,\n",
      "                392.29275367037565,\n",
      "                307.2543318964081,\n",
      "            \n"
     ]
    }
   ],
   "source": [
    "output = {\"predictions\": output}\n",
    "output = json.dumps(output, indent=4)\n",
    "print(output[:500])"
   ]
  },
  {
   "cell_type": "markdown",
   "id": "54300d4e",
   "metadata": {},
   "source": [
    "# Visualization"
   ]
  },
  {
   "cell_type": "code",
   "execution_count": null,
   "id": "03789501",
   "metadata": {},
   "outputs": [],
   "source": []
  }
 ],
 "metadata": {
  "kernelspec": {
   "display_name": ".venv",
   "language": "python",
   "name": "python3"
  },
  "language_info": {
   "codemirror_mode": {
    "name": "ipython",
    "version": 3
   },
   "file_extension": ".py",
   "mimetype": "text/x-python",
   "name": "python",
   "nbconvert_exporter": "python",
   "pygments_lexer": "ipython3",
   "version": "3.11.7"
  }
 },
 "nbformat": 4,
 "nbformat_minor": 5
}
